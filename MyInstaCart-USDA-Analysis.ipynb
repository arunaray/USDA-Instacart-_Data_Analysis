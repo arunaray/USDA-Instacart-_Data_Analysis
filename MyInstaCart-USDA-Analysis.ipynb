{
 "cells": [
  {
   "cell_type": "code",
   "execution_count": 1,
   "metadata": {},
   "outputs": [],
   "source": [
    "# import libraries\n",
    "import pandas as pd\n",
    "import numpy as np\n",
    "import matplotlib.pyplot as plt\n",
    "import seaborn as sns\n",
    "%matplotlib inline\n",
    "\n",
    "from fuzzywuzzy import fuzz\n",
    "from fuzzywuzzy import process\n",
    "\n",
    "import warnings\n"
   ]
  },
  {
   "cell_type": "code",
   "execution_count": 2,
   "metadata": {},
   "outputs": [],
   "source": [
    "# To view all the 81 columns in the data frame, use the set_option to display\n",
    "pd.set_option('display.max_rows', 500)\n",
    "pd.set_option('display.max_columns', 500)\n",
    "pd.set_option('display.width', 1000)"
   ]
  },
  {
   "cell_type": "markdown",
   "metadata": {},
   "source": [
    "### Download the data from Instacart Market Analysis website - \n",
    "### https://www.instacart.com/datasets/grocery-shopping-2017"
   ]
  },
  {
   "cell_type": "code",
   "execution_count": 3,
   "metadata": {},
   "outputs": [],
   "source": [
    "# Load all the InstaCart CSVs into respective dataframes\n",
    "product_df = pd.read_csv('./Sample/products.csv')\n",
    "aisles_df = pd.read_csv('./Sample/aisles.csv')\n",
    "dept_df = pd.read_csv('./Sample/departments.csv')\n",
    "ord_prod_train_df = pd.read_csv('./Sample/order_products__train.csv')\n",
    "ord_prod_prior_df = pd.read_csv('./Sample/order_products__prior.csv')\n",
    "orders_df = pd.read_csv('./Sample/orders.csv')"
   ]
  },
  {
   "cell_type": "code",
   "execution_count": 4,
   "metadata": {},
   "outputs": [
    {
     "name": "stdout",
     "output_type": "stream",
     "text": [
      "Shape of products_df =  (49688, 4) ; Number of Products -  49688\n",
      "Shape of aisles_df =  (134, 2) ; Number of Aisles -  134\n",
      "Shape of dept_df =  (21, 2) ; Number of Departments -  21\n",
      "Shape of ord_prod_train_df =  (1384617, 4) ; Number of Orders listed in Train DF -  1384617\n",
      "Shape of ord_prod_prior_df =  (32434489, 4) ; Number of Orders listed in Prior Orders DF -  32434489\n",
      "Shape of orders_df =  (3421083, 7) ; Number of Orders -  3421083\n"
     ]
    }
   ],
   "source": [
    "#  display the shape of the dataframes\n",
    "print('Shape of products_df = ',product_df.shape, '; Number of Products - ',product_df.shape[0])\n",
    "print('Shape of aisles_df = ',aisles_df.shape, '; Number of Aisles - ',aisles_df.shape[0])\n",
    "print('Shape of dept_df = ',dept_df.shape, '; Number of Departments - ',dept_df.shape[0])\n",
    "print('Shape of ord_prod_train_df = ',ord_prod_train_df.shape, '; Number of Orders listed in Train DF - ',ord_prod_train_df.shape[0])\n",
    "print('Shape of ord_prod_prior_df = ',ord_prod_prior_df.shape, '; Number of Orders listed in Prior Orders DF - ',ord_prod_prior_df.shape[0])\n",
    "print('Shape of orders_df = ',orders_df.shape, '; Number of Orders - ',orders_df.shape[0])\n"
   ]
  },
  {
   "cell_type": "markdown",
   "metadata": {},
   "source": [
    "## EDA and Pre-processing Instacart Datasets"
   ]
  },
  {
   "cell_type": "markdown",
   "metadata": {},
   "source": [
    "### Review data from each of the data frame"
   ]
  },
  {
   "cell_type": "code",
   "execution_count": 5,
   "metadata": {},
   "outputs": [
    {
     "data": {
      "text/html": [
       "<div>\n",
       "<style scoped>\n",
       "    .dataframe tbody tr th:only-of-type {\n",
       "        vertical-align: middle;\n",
       "    }\n",
       "\n",
       "    .dataframe tbody tr th {\n",
       "        vertical-align: top;\n",
       "    }\n",
       "\n",
       "    .dataframe thead th {\n",
       "        text-align: right;\n",
       "    }\n",
       "</style>\n",
       "<table border=\"1\" class=\"dataframe\">\n",
       "  <thead>\n",
       "    <tr style=\"text-align: right;\">\n",
       "      <th></th>\n",
       "      <th>order_id</th>\n",
       "      <th>user_id</th>\n",
       "      <th>eval_set</th>\n",
       "      <th>order_number</th>\n",
       "      <th>order_dow</th>\n",
       "      <th>order_hour_of_day</th>\n",
       "      <th>days_since_prior_order</th>\n",
       "    </tr>\n",
       "  </thead>\n",
       "  <tbody>\n",
       "    <tr>\n",
       "      <th>0</th>\n",
       "      <td>2539329</td>\n",
       "      <td>1</td>\n",
       "      <td>prior</td>\n",
       "      <td>1</td>\n",
       "      <td>2</td>\n",
       "      <td>8</td>\n",
       "      <td>NaN</td>\n",
       "    </tr>\n",
       "    <tr>\n",
       "      <th>1</th>\n",
       "      <td>2398795</td>\n",
       "      <td>1</td>\n",
       "      <td>prior</td>\n",
       "      <td>2</td>\n",
       "      <td>3</td>\n",
       "      <td>7</td>\n",
       "      <td>15.0</td>\n",
       "    </tr>\n",
       "    <tr>\n",
       "      <th>2</th>\n",
       "      <td>473747</td>\n",
       "      <td>1</td>\n",
       "      <td>prior</td>\n",
       "      <td>3</td>\n",
       "      <td>3</td>\n",
       "      <td>12</td>\n",
       "      <td>21.0</td>\n",
       "    </tr>\n",
       "  </tbody>\n",
       "</table>\n",
       "</div>"
      ],
      "text/plain": [
       "   order_id  user_id eval_set  order_number  order_dow  order_hour_of_day  days_since_prior_order\n",
       "0   2539329        1    prior             1          2                  8                     NaN\n",
       "1   2398795        1    prior             2          3                  7                    15.0\n",
       "2    473747        1    prior             3          3                 12                    21.0"
      ]
     },
     "execution_count": 5,
     "metadata": {},
     "output_type": "execute_result"
    }
   ],
   "source": [
    "# first 3 rows of the dataframe\n",
    "orders_df.head(3)"
   ]
  },
  {
   "cell_type": "code",
   "execution_count": 6,
   "metadata": {},
   "outputs": [
    {
     "data": {
      "text/html": [
       "<div>\n",
       "<style scoped>\n",
       "    .dataframe tbody tr th:only-of-type {\n",
       "        vertical-align: middle;\n",
       "    }\n",
       "\n",
       "    .dataframe tbody tr th {\n",
       "        vertical-align: top;\n",
       "    }\n",
       "\n",
       "    .dataframe thead th {\n",
       "        text-align: right;\n",
       "    }\n",
       "</style>\n",
       "<table border=\"1\" class=\"dataframe\">\n",
       "  <thead>\n",
       "    <tr style=\"text-align: right;\">\n",
       "      <th></th>\n",
       "      <th>product_id</th>\n",
       "      <th>product_name</th>\n",
       "      <th>aisle_id</th>\n",
       "      <th>department_id</th>\n",
       "    </tr>\n",
       "  </thead>\n",
       "  <tbody>\n",
       "    <tr>\n",
       "      <th>0</th>\n",
       "      <td>1</td>\n",
       "      <td>Chocolate Sandwich Cookies</td>\n",
       "      <td>61</td>\n",
       "      <td>19</td>\n",
       "    </tr>\n",
       "    <tr>\n",
       "      <th>1</th>\n",
       "      <td>2</td>\n",
       "      <td>All-Seasons Salt</td>\n",
       "      <td>104</td>\n",
       "      <td>13</td>\n",
       "    </tr>\n",
       "    <tr>\n",
       "      <th>2</th>\n",
       "      <td>3</td>\n",
       "      <td>Robust Golden Unsweetened Oolong Tea</td>\n",
       "      <td>94</td>\n",
       "      <td>7</td>\n",
       "    </tr>\n",
       "  </tbody>\n",
       "</table>\n",
       "</div>"
      ],
      "text/plain": [
       "   product_id                          product_name  aisle_id  department_id\n",
       "0           1            Chocolate Sandwich Cookies        61             19\n",
       "1           2                      All-Seasons Salt       104             13\n",
       "2           3  Robust Golden Unsweetened Oolong Tea        94              7"
      ]
     },
     "execution_count": 6,
     "metadata": {},
     "output_type": "execute_result"
    }
   ],
   "source": [
    "product_df.head(3)"
   ]
  },
  {
   "cell_type": "code",
   "execution_count": 7,
   "metadata": {},
   "outputs": [
    {
     "data": {
      "text/html": [
       "<div>\n",
       "<style scoped>\n",
       "    .dataframe tbody tr th:only-of-type {\n",
       "        vertical-align: middle;\n",
       "    }\n",
       "\n",
       "    .dataframe tbody tr th {\n",
       "        vertical-align: top;\n",
       "    }\n",
       "\n",
       "    .dataframe thead th {\n",
       "        text-align: right;\n",
       "    }\n",
       "</style>\n",
       "<table border=\"1\" class=\"dataframe\">\n",
       "  <thead>\n",
       "    <tr style=\"text-align: right;\">\n",
       "      <th></th>\n",
       "      <th>order_id</th>\n",
       "      <th>product_id</th>\n",
       "      <th>add_to_cart_order</th>\n",
       "      <th>reordered</th>\n",
       "    </tr>\n",
       "  </thead>\n",
       "  <tbody>\n",
       "    <tr>\n",
       "      <th>0</th>\n",
       "      <td>2</td>\n",
       "      <td>33120</td>\n",
       "      <td>1</td>\n",
       "      <td>1</td>\n",
       "    </tr>\n",
       "    <tr>\n",
       "      <th>1</th>\n",
       "      <td>2</td>\n",
       "      <td>28985</td>\n",
       "      <td>2</td>\n",
       "      <td>1</td>\n",
       "    </tr>\n",
       "    <tr>\n",
       "      <th>2</th>\n",
       "      <td>2</td>\n",
       "      <td>9327</td>\n",
       "      <td>3</td>\n",
       "      <td>0</td>\n",
       "    </tr>\n",
       "  </tbody>\n",
       "</table>\n",
       "</div>"
      ],
      "text/plain": [
       "   order_id  product_id  add_to_cart_order  reordered\n",
       "0         2       33120                  1          1\n",
       "1         2       28985                  2          1\n",
       "2         2        9327                  3          0"
      ]
     },
     "execution_count": 7,
     "metadata": {},
     "output_type": "execute_result"
    }
   ],
   "source": [
    "ord_prod_prior_df.head(3)"
   ]
  },
  {
   "cell_type": "markdown",
   "metadata": {},
   "source": [
    "## Merge Prior Orders with Products, Orders, Departments and Aisles"
   ]
  },
  {
   "cell_type": "code",
   "execution_count": 8,
   "metadata": {},
   "outputs": [],
   "source": [
    "# To get the analysis going, we need to join PRIOR orders with Orders, Products \n",
    "# to get list of products from previous orders, also combine department and aisle details\n",
    "\n",
    "Order_Prod_Prior_link_df = (ord_prod_prior_df \n",
    "                                .merge(product_df, on=\"product_id\")\n",
    "                                .merge(orders_df, on=\"order_id\") \n",
    "                                .merge(dept_df, on=\"department_id\")\n",
    "                                .merge(aisles_df, on=\"aisle_id\")                             \n",
    "                        )\n",
    "\n"
   ]
  },
  {
   "cell_type": "code",
   "execution_count": 9,
   "metadata": {},
   "outputs": [
    {
     "data": {
      "text/plain": [
       "(32434489, 15)"
      ]
     },
     "execution_count": 9,
     "metadata": {},
     "output_type": "execute_result"
    }
   ],
   "source": [
    "Order_Prod_Prior_link_df.shape"
   ]
  },
  {
   "cell_type": "code",
   "execution_count": 10,
   "metadata": {},
   "outputs": [
    {
     "data": {
      "text/html": [
       "<div>\n",
       "<style scoped>\n",
       "    .dataframe tbody tr th:only-of-type {\n",
       "        vertical-align: middle;\n",
       "    }\n",
       "\n",
       "    .dataframe tbody tr th {\n",
       "        vertical-align: top;\n",
       "    }\n",
       "\n",
       "    .dataframe thead th {\n",
       "        text-align: right;\n",
       "    }\n",
       "</style>\n",
       "<table border=\"1\" class=\"dataframe\">\n",
       "  <thead>\n",
       "    <tr style=\"text-align: right;\">\n",
       "      <th></th>\n",
       "      <th>order_id</th>\n",
       "      <th>product_id</th>\n",
       "      <th>add_to_cart_order</th>\n",
       "      <th>reordered</th>\n",
       "      <th>product_name</th>\n",
       "      <th>aisle_id</th>\n",
       "      <th>department_id</th>\n",
       "      <th>user_id</th>\n",
       "      <th>eval_set</th>\n",
       "      <th>order_number</th>\n",
       "      <th>order_dow</th>\n",
       "      <th>order_hour_of_day</th>\n",
       "      <th>days_since_prior_order</th>\n",
       "      <th>department</th>\n",
       "      <th>aisle</th>\n",
       "    </tr>\n",
       "  </thead>\n",
       "  <tbody>\n",
       "    <tr>\n",
       "      <th>0</th>\n",
       "      <td>2</td>\n",
       "      <td>33120</td>\n",
       "      <td>1</td>\n",
       "      <td>1</td>\n",
       "      <td>Organic Egg Whites</td>\n",
       "      <td>86</td>\n",
       "      <td>16</td>\n",
       "      <td>202279</td>\n",
       "      <td>prior</td>\n",
       "      <td>3</td>\n",
       "      <td>5</td>\n",
       "      <td>9</td>\n",
       "      <td>8.0</td>\n",
       "      <td>dairy eggs</td>\n",
       "      <td>eggs</td>\n",
       "    </tr>\n",
       "    <tr>\n",
       "      <th>1</th>\n",
       "      <td>26</td>\n",
       "      <td>33120</td>\n",
       "      <td>5</td>\n",
       "      <td>0</td>\n",
       "      <td>Organic Egg Whites</td>\n",
       "      <td>86</td>\n",
       "      <td>16</td>\n",
       "      <td>153404</td>\n",
       "      <td>prior</td>\n",
       "      <td>2</td>\n",
       "      <td>0</td>\n",
       "      <td>16</td>\n",
       "      <td>7.0</td>\n",
       "      <td>dairy eggs</td>\n",
       "      <td>eggs</td>\n",
       "    </tr>\n",
       "    <tr>\n",
       "      <th>2</th>\n",
       "      <td>120</td>\n",
       "      <td>33120</td>\n",
       "      <td>13</td>\n",
       "      <td>0</td>\n",
       "      <td>Organic Egg Whites</td>\n",
       "      <td>86</td>\n",
       "      <td>16</td>\n",
       "      <td>23750</td>\n",
       "      <td>prior</td>\n",
       "      <td>11</td>\n",
       "      <td>6</td>\n",
       "      <td>8</td>\n",
       "      <td>10.0</td>\n",
       "      <td>dairy eggs</td>\n",
       "      <td>eggs</td>\n",
       "    </tr>\n",
       "  </tbody>\n",
       "</table>\n",
       "</div>"
      ],
      "text/plain": [
       "   order_id  product_id  add_to_cart_order  reordered        product_name  aisle_id  department_id  user_id eval_set  order_number  order_dow  order_hour_of_day  days_since_prior_order  department aisle\n",
       "0         2       33120                  1          1  Organic Egg Whites        86             16   202279    prior             3          5                  9                     8.0  dairy eggs  eggs\n",
       "1        26       33120                  5          0  Organic Egg Whites        86             16   153404    prior             2          0                 16                     7.0  dairy eggs  eggs\n",
       "2       120       33120                 13          0  Organic Egg Whites        86             16    23750    prior            11          6                  8                    10.0  dairy eggs  eggs"
      ]
     },
     "execution_count": 10,
     "metadata": {},
     "output_type": "execute_result"
    }
   ],
   "source": [
    "Order_Prod_Prior_link_df.head(3)"
   ]
  },
  {
   "cell_type": "markdown",
   "metadata": {},
   "source": [
    "### Top 10 products that were ordered the most"
   ]
  },
  {
   "cell_type": "code",
   "execution_count": 11,
   "metadata": {},
   "outputs": [],
   "source": [
    "# Top 10 products that were ordered the most based on previous orders\n",
    "\n",
    "product_value_counts=Order_Prod_Prior_link_df['product_name'].value_counts().sort_values(ascending=False)"
   ]
  },
  {
   "cell_type": "code",
   "execution_count": 12,
   "metadata": {},
   "outputs": [
    {
     "data": {
      "text/plain": [
       "Banana                    472565\n",
       "Bag of Organic Bananas    379450\n",
       "Organic Strawberries      264683\n",
       "Organic Baby Spinach      241921\n",
       "Organic Hass Avocado      213584\n",
       "Organic Avocado           176815\n",
       "Large Lemon               152657\n",
       "Strawberries              142951\n",
       "Limes                     140627\n",
       "Organic Whole Milk        137905\n",
       "Name: product_name, dtype: int64"
      ]
     },
     "execution_count": 12,
     "metadata": {},
     "output_type": "execute_result"
    }
   ],
   "source": [
    "product_value_counts.head(10)"
   ]
  },
  {
   "cell_type": "code",
   "execution_count": 13,
   "metadata": {},
   "outputs": [
    {
     "data": {
      "image/png": "[encoded data removed]",
      "text/plain": [
       "<Figure size 864x576 with 1 Axes>"
      ]
     },
     "metadata": {
      "needs_background": "light"
     },
     "output_type": "display_data"
    }
   ],
   "source": [
    "product_value_counts.head(10).plot(kind='bar', color='lightcoral', figsize=(12,8))\n",
    "plt.xlabel('products',fontsize=12)\n",
    "plt.ylabel('number of orders',fontsize=12)\n",
    "plt.title('top 10 orders that were ordered most', fontsize=15)\n",
    "plt.show();"
   ]
  },
  {
   "cell_type": "markdown",
   "metadata": {},
   "source": [
    "### 10 products that were ordered the least"
   ]
  },
  {
   "cell_type": "code",
   "execution_count": 14,
   "metadata": {},
   "outputs": [
    {
     "data": {
      "text/plain": [
       "Frittata, Farmer's Market                    1\n",
       "Seltzer Blueberry Lemonade                   1\n",
       "Pumpkin Spice Almond Nog                     1\n",
       "Vegan Coconut Milk Caramels With Sea Salt    1\n",
       "Kefir Raspberry                              1\n",
       "Florentine Spinach & Cheese Pasta Sauce      1\n",
       "Indoor Purna Bynd Gf                         1\n",
       "Tangerine Melon Bubble Bath                  1\n",
       "Kb Clb Stick Organic Fmly                    1\n",
       "Jamaican Allspice                            1\n",
       "Name: product_name, dtype: int64"
      ]
     },
     "execution_count": 14,
     "metadata": {},
     "output_type": "execute_result"
    }
   ],
   "source": [
    "# 10 products that were ordered the least based on the previous orders\n",
    "product_value_counts.tail(10)"
   ]
  },
  {
   "cell_type": "code",
   "execution_count": 15,
   "metadata": {},
   "outputs": [
    {
     "data": {
      "text/html": [
       "<div>\n",
       "<style scoped>\n",
       "    .dataframe tbody tr th:only-of-type {\n",
       "        vertical-align: middle;\n",
       "    }\n",
       "\n",
       "    .dataframe tbody tr th {\n",
       "        vertical-align: top;\n",
       "    }\n",
       "\n",
       "    .dataframe thead th {\n",
       "        text-align: right;\n",
       "    }\n",
       "</style>\n",
       "<table border=\"1\" class=\"dataframe\">\n",
       "  <thead>\n",
       "    <tr style=\"text-align: right;\">\n",
       "      <th></th>\n",
       "      <th>department_id</th>\n",
       "      <th>department</th>\n",
       "    </tr>\n",
       "  </thead>\n",
       "  <tbody>\n",
       "    <tr>\n",
       "      <th>0</th>\n",
       "      <td>1</td>\n",
       "      <td>frozen</td>\n",
       "    </tr>\n",
       "    <tr>\n",
       "      <th>1</th>\n",
       "      <td>2</td>\n",
       "      <td>other</td>\n",
       "    </tr>\n",
       "    <tr>\n",
       "      <th>2</th>\n",
       "      <td>3</td>\n",
       "      <td>bakery</td>\n",
       "    </tr>\n",
       "    <tr>\n",
       "      <th>3</th>\n",
       "      <td>4</td>\n",
       "      <td>produce</td>\n",
       "    </tr>\n",
       "    <tr>\n",
       "      <th>4</th>\n",
       "      <td>5</td>\n",
       "      <td>alcohol</td>\n",
       "    </tr>\n",
       "    <tr>\n",
       "      <th>5</th>\n",
       "      <td>6</td>\n",
       "      <td>international</td>\n",
       "    </tr>\n",
       "    <tr>\n",
       "      <th>6</th>\n",
       "      <td>7</td>\n",
       "      <td>beverages</td>\n",
       "    </tr>\n",
       "    <tr>\n",
       "      <th>7</th>\n",
       "      <td>8</td>\n",
       "      <td>pets</td>\n",
       "    </tr>\n",
       "    <tr>\n",
       "      <th>8</th>\n",
       "      <td>9</td>\n",
       "      <td>dry goods pasta</td>\n",
       "    </tr>\n",
       "    <tr>\n",
       "      <th>9</th>\n",
       "      <td>10</td>\n",
       "      <td>bulk</td>\n",
       "    </tr>\n",
       "    <tr>\n",
       "      <th>10</th>\n",
       "      <td>11</td>\n",
       "      <td>personal care</td>\n",
       "    </tr>\n",
       "    <tr>\n",
       "      <th>11</th>\n",
       "      <td>12</td>\n",
       "      <td>meat seafood</td>\n",
       "    </tr>\n",
       "    <tr>\n",
       "      <th>12</th>\n",
       "      <td>13</td>\n",
       "      <td>pantry</td>\n",
       "    </tr>\n",
       "    <tr>\n",
       "      <th>13</th>\n",
       "      <td>14</td>\n",
       "      <td>breakfast</td>\n",
       "    </tr>\n",
       "    <tr>\n",
       "      <th>14</th>\n",
       "      <td>15</td>\n",
       "      <td>canned goods</td>\n",
       "    </tr>\n",
       "    <tr>\n",
       "      <th>15</th>\n",
       "      <td>16</td>\n",
       "      <td>dairy eggs</td>\n",
       "    </tr>\n",
       "    <tr>\n",
       "      <th>16</th>\n",
       "      <td>17</td>\n",
       "      <td>household</td>\n",
       "    </tr>\n",
       "    <tr>\n",
       "      <th>17</th>\n",
       "      <td>18</td>\n",
       "      <td>babies</td>\n",
       "    </tr>\n",
       "    <tr>\n",
       "      <th>18</th>\n",
       "      <td>19</td>\n",
       "      <td>snacks</td>\n",
       "    </tr>\n",
       "    <tr>\n",
       "      <th>19</th>\n",
       "      <td>20</td>\n",
       "      <td>deli</td>\n",
       "    </tr>\n",
       "    <tr>\n",
       "      <th>20</th>\n",
       "      <td>21</td>\n",
       "      <td>missing</td>\n",
       "    </tr>\n",
       "  </tbody>\n",
       "</table>\n",
       "</div>"
      ],
      "text/plain": [
       "    department_id       department\n",
       "0               1           frozen\n",
       "1               2            other\n",
       "2               3           bakery\n",
       "3               4          produce\n",
       "4               5          alcohol\n",
       "5               6    international\n",
       "6               7        beverages\n",
       "7               8             pets\n",
       "8               9  dry goods pasta\n",
       "9              10             bulk\n",
       "10             11    personal care\n",
       "11             12     meat seafood\n",
       "12             13           pantry\n",
       "13             14        breakfast\n",
       "14             15     canned goods\n",
       "15             16       dairy eggs\n",
       "16             17        household\n",
       "17             18           babies\n",
       "18             19           snacks\n",
       "19             20             deli\n",
       "20             21          missing"
      ]
     },
     "execution_count": 15,
     "metadata": {},
     "output_type": "execute_result"
    }
   ],
   "source": [
    "#  display all the departments of the instacart\n",
    "dept_df"
   ]
  },
  {
   "cell_type": "markdown",
   "metadata": {},
   "source": [
    "### Eliminate all the departments that do not carry any food items"
   ]
  },
  {
   "cell_type": "code",
   "execution_count": 16,
   "metadata": {},
   "outputs": [],
   "source": [
    "#  To consider the food choices, we eliminate all the other departments which are not relevant for food\n",
    "#  Include only identified departments which contains food.\n",
    "departments_included = ['1','3','4','6','9','10','12','13','14','15','16','18','19']\n",
    "food_related_orders_df=Order_Prod_Prior_link_df[Order_Prod_Prior_link_df['department_id'].isin(departments_included)].sort_values('order_id')"
   ]
  },
  {
   "cell_type": "code",
   "execution_count": 17,
   "metadata": {},
   "outputs": [
    {
     "data": {
      "text/plain": [
       "(27150466, 15)"
      ]
     },
     "execution_count": 17,
     "metadata": {},
     "output_type": "execute_result"
    }
   ],
   "source": [
    "#  shape of the food_related_orders_df\n",
    "food_related_orders_df.shape"
   ]
  },
  {
   "cell_type": "code",
   "execution_count": 18,
   "metadata": {},
   "outputs": [
    {
     "data": {
      "text/plain": [
       "1564244    115\n",
       "1867980     96\n",
       "1101266     94\n",
       "2136777     94\n",
       "598905      93\n",
       "Name: order_id, dtype: int64"
      ]
     },
     "execution_count": 18,
     "metadata": {},
     "output_type": "execute_result"
    }
   ],
   "source": [
    "# How many distinct food related Orders and number of items  in each Order\n",
    "food_related_orders_df['order_id'].value_counts().sort_values(ascending=False).head()"
   ]
  },
  {
   "cell_type": "code",
   "execution_count": 19,
   "metadata": {},
   "outputs": [
    {
     "data": {
      "text/plain": [
       "order_id                        0\n",
       "product_id                      0\n",
       "add_to_cart_order               0\n",
       "reordered                       0\n",
       "product_name                    0\n",
       "aisle_id                        0\n",
       "department_id                   0\n",
       "user_id                         0\n",
       "eval_set                        0\n",
       "order_number                    0\n",
       "order_dow                       0\n",
       "order_hour_of_day               0\n",
       "days_since_prior_order    1733038\n",
       "department                      0\n",
       "aisle                           0\n",
       "dtype: int64"
      ]
     },
     "execution_count": 19,
     "metadata": {},
     "output_type": "execute_result"
    }
   ],
   "source": [
    "# check for nulls\n",
    "food_related_orders_df.isnull().sum()"
   ]
  },
  {
   "cell_type": "code",
   "execution_count": 20,
   "metadata": {},
   "outputs": [
    {
     "data": {
      "text/plain": [
       "0    1733038\n",
       "Name: reordered, dtype: int64"
      ]
     },
     "execution_count": 20,
     "metadata": {},
     "output_type": "execute_result"
    }
   ],
   "source": [
    "food_related_orders_df[food_related_orders_df['days_since_prior_order'].isnull()]['reordered'].value_counts()"
   ]
  },
  {
   "cell_type": "code",
   "execution_count": 21,
   "metadata": {},
   "outputs": [],
   "source": [
    "# Replace nulls with 0 in the column 'days_since_prior_order'\n",
    "food_related_orders_df.fillna(0, inplace = True)"
   ]
  },
  {
   "cell_type": "code",
   "execution_count": 22,
   "metadata": {
    "scrolled": true
   },
   "outputs": [
    {
     "data": {
      "text/plain": [
       "order_id                  0\n",
       "product_id                0\n",
       "add_to_cart_order         0\n",
       "reordered                 0\n",
       "product_name              0\n",
       "aisle_id                  0\n",
       "department_id             0\n",
       "user_id                   0\n",
       "eval_set                  0\n",
       "order_number              0\n",
       "order_dow                 0\n",
       "order_hour_of_day         0\n",
       "days_since_prior_order    0\n",
       "department                0\n",
       "aisle                     0\n",
       "dtype: int64"
      ]
     },
     "execution_count": 22,
     "metadata": {},
     "output_type": "execute_result"
    }
   ],
   "source": [
    "# Check for nulls after replacing 'NaN' values in the column 'days_since_prior_order' with 0s\n",
    "food_related_orders_df.isnull().sum()"
   ]
  },
  {
   "cell_type": "code",
   "execution_count": 23,
   "metadata": {
    "scrolled": true
   },
   "outputs": [
    {
     "data": {
      "text/plain": [
       "order_id                    int64\n",
       "product_id                  int64\n",
       "add_to_cart_order           int64\n",
       "reordered                   int64\n",
       "product_name               object\n",
       "aisle_id                    int64\n",
       "department_id               int64\n",
       "user_id                     int64\n",
       "eval_set                   object\n",
       "order_number                int64\n",
       "order_dow                   int64\n",
       "order_hour_of_day           int64\n",
       "days_since_prior_order    float64\n",
       "department                 object\n",
       "aisle                      object\n",
       "dtype: object"
      ]
     },
     "execution_count": 23,
     "metadata": {},
     "output_type": "execute_result"
    }
   ],
   "source": [
    "food_related_orders_df.dtypes"
   ]
  },
  {
   "cell_type": "code",
   "execution_count": 24,
   "metadata": {},
   "outputs": [
    {
     "data": {
      "text/html": [
       "<div>\n",
       "<style scoped>\n",
       "    .dataframe tbody tr th:only-of-type {\n",
       "        vertical-align: middle;\n",
       "    }\n",
       "\n",
       "    .dataframe tbody tr th {\n",
       "        vertical-align: top;\n",
       "    }\n",
       "\n",
       "    .dataframe thead th {\n",
       "        text-align: right;\n",
       "    }\n",
       "</style>\n",
       "<table border=\"1\" class=\"dataframe\">\n",
       "  <thead>\n",
       "    <tr style=\"text-align: right;\">\n",
       "      <th></th>\n",
       "      <th>order_id</th>\n",
       "      <th>product_id</th>\n",
       "      <th>add_to_cart_order</th>\n",
       "      <th>reordered</th>\n",
       "      <th>aisle_id</th>\n",
       "      <th>department_id</th>\n",
       "      <th>user_id</th>\n",
       "      <th>order_number</th>\n",
       "      <th>order_dow</th>\n",
       "      <th>order_hour_of_day</th>\n",
       "      <th>days_since_prior_order</th>\n",
       "    </tr>\n",
       "  </thead>\n",
       "  <tbody>\n",
       "    <tr>\n",
       "      <th>count</th>\n",
       "      <td>2.715047e+07</td>\n",
       "      <td>2.715047e+07</td>\n",
       "      <td>2.715047e+07</td>\n",
       "      <td>2.715047e+07</td>\n",
       "      <td>2.715047e+07</td>\n",
       "      <td>2.715047e+07</td>\n",
       "      <td>2.715047e+07</td>\n",
       "      <td>2.715047e+07</td>\n",
       "      <td>2.715047e+07</td>\n",
       "      <td>2.715047e+07</td>\n",
       "      <td>2.715047e+07</td>\n",
       "    </tr>\n",
       "    <tr>\n",
       "      <th>mean</th>\n",
       "      <td>1.710691e+06</td>\n",
       "      <td>2.570249e+04</td>\n",
       "      <td>8.479931e+00</td>\n",
       "      <td>5.930134e-01</td>\n",
       "      <td>7.104864e+01</td>\n",
       "      <td>9.628030e+00</td>\n",
       "      <td>1.029356e+05</td>\n",
       "      <td>1.721753e+01</td>\n",
       "      <td>2.726006e+00</td>\n",
       "      <td>1.343313e+01</td>\n",
       "      <td>1.036504e+01</td>\n",
       "    </tr>\n",
       "    <tr>\n",
       "      <th>std</th>\n",
       "      <td>9.873487e+05</td>\n",
       "      <td>1.406363e+04</td>\n",
       "      <td>7.126466e+00</td>\n",
       "      <td>4.912724e-01</td>\n",
       "      <td>3.874474e+01</td>\n",
       "      <td>6.351164e+00</td>\n",
       "      <td>5.945022e+04</td>\n",
       "      <td>1.757646e+01</td>\n",
       "      <td>2.097757e+00</td>\n",
       "      <td>4.255240e+00</td>\n",
       "      <td>8.886408e+00</td>\n",
       "    </tr>\n",
       "    <tr>\n",
       "      <th>min</th>\n",
       "      <td>2.000000e+00</td>\n",
       "      <td>1.000000e+00</td>\n",
       "      <td>1.000000e+00</td>\n",
       "      <td>0.000000e+00</td>\n",
       "      <td>2.000000e+00</td>\n",
       "      <td>1.000000e+00</td>\n",
       "      <td>1.000000e+00</td>\n",
       "      <td>1.000000e+00</td>\n",
       "      <td>0.000000e+00</td>\n",
       "      <td>0.000000e+00</td>\n",
       "      <td>0.000000e+00</td>\n",
       "    </tr>\n",
       "    <tr>\n",
       "      <th>25%</th>\n",
       "      <td>8.556700e+05</td>\n",
       "      <td>1.370200e+04</td>\n",
       "      <td>3.000000e+00</td>\n",
       "      <td>0.000000e+00</td>\n",
       "      <td>2.400000e+01</td>\n",
       "      <td>4.000000e+00</td>\n",
       "      <td>5.142300e+04</td>\n",
       "      <td>5.000000e+00</td>\n",
       "      <td>1.000000e+00</td>\n",
       "      <td>1.000000e+01</td>\n",
       "      <td>4.000000e+00</td>\n",
       "    </tr>\n",
       "    <tr>\n",
       "      <th>50%</th>\n",
       "      <td>1.710928e+06</td>\n",
       "      <td>2.519500e+04</td>\n",
       "      <td>7.000000e+00</td>\n",
       "      <td>1.000000e+00</td>\n",
       "      <td>8.300000e+01</td>\n",
       "      <td>9.000000e+00</td>\n",
       "      <td>1.025900e+05</td>\n",
       "      <td>1.100000e+01</td>\n",
       "      <td>3.000000e+00</td>\n",
       "      <td>1.300000e+01</td>\n",
       "      <td>7.000000e+00</td>\n",
       "    </tr>\n",
       "    <tr>\n",
       "      <th>75%</th>\n",
       "      <td>2.565437e+06</td>\n",
       "      <td>3.820700e+04</td>\n",
       "      <td>1.200000e+01</td>\n",
       "      <td>1.000000e+00</td>\n",
       "      <td>1.070000e+02</td>\n",
       "      <td>1.600000e+01</td>\n",
       "      <td>1.543720e+05</td>\n",
       "      <td>2.400000e+01</td>\n",
       "      <td>5.000000e+00</td>\n",
       "      <td>1.600000e+01</td>\n",
       "      <td>1.400000e+01</td>\n",
       "    </tr>\n",
       "    <tr>\n",
       "      <th>max</th>\n",
       "      <td>3.421083e+06</td>\n",
       "      <td>4.968600e+04</td>\n",
       "      <td>1.440000e+02</td>\n",
       "      <td>1.000000e+00</td>\n",
       "      <td>1.310000e+02</td>\n",
       "      <td>1.900000e+01</td>\n",
       "      <td>2.062090e+05</td>\n",
       "      <td>9.900000e+01</td>\n",
       "      <td>6.000000e+00</td>\n",
       "      <td>2.300000e+01</td>\n",
       "      <td>3.000000e+01</td>\n",
       "    </tr>\n",
       "  </tbody>\n",
       "</table>\n",
       "</div>"
      ],
      "text/plain": [
       "           order_id    product_id  add_to_cart_order     reordered      aisle_id  department_id       user_id  order_number     order_dow  order_hour_of_day  days_since_prior_order\n",
       "count  2.715047e+07  2.715047e+07       2.715047e+07  2.715047e+07  2.715047e+07   2.715047e+07  2.715047e+07  2.715047e+07  2.715047e+07       2.715047e+07            2.715047e+07\n",
       "mean   1.710691e+06  2.570249e+04       8.479931e+00  5.930134e-01  7.104864e+01   9.628030e+00  1.029356e+05  1.721753e+01  2.726006e+00       1.343313e+01            1.036504e+01\n",
       "std    9.873487e+05  1.406363e+04       7.126466e+00  4.912724e-01  3.874474e+01   6.351164e+00  5.945022e+04  1.757646e+01  2.097757e+00       4.255240e+00            8.886408e+00\n",
       "min    2.000000e+00  1.000000e+00       1.000000e+00  0.000000e+00  2.000000e+00   1.000000e+00  1.000000e+00  1.000000e+00  0.000000e+00       0.000000e+00            0.000000e+00\n",
       "25%    8.556700e+05  1.370200e+04       3.000000e+00  0.000000e+00  2.400000e+01   4.000000e+00  5.142300e+04  5.000000e+00  1.000000e+00       1.000000e+01            4.000000e+00\n",
       "50%    1.710928e+06  2.519500e+04       7.000000e+00  1.000000e+00  8.300000e+01   9.000000e+00  1.025900e+05  1.100000e+01  3.000000e+00       1.300000e+01            7.000000e+00\n",
       "75%    2.565437e+06  3.820700e+04       1.200000e+01  1.000000e+00  1.070000e+02   1.600000e+01  1.543720e+05  2.400000e+01  5.000000e+00       1.600000e+01            1.400000e+01\n",
       "max    3.421083e+06  4.968600e+04       1.440000e+02  1.000000e+00  1.310000e+02   1.900000e+01  2.062090e+05  9.900000e+01  6.000000e+00       2.300000e+01            3.000000e+01"
      ]
     },
     "execution_count": 24,
     "metadata": {},
     "output_type": "execute_result"
    }
   ],
   "source": [
    "# summary statistics of food_related_orders_df\n",
    "food_related_orders_df.describe()"
   ]
  },
  {
   "cell_type": "code",
   "execution_count": 25,
   "metadata": {},
   "outputs": [
    {
     "data": {
      "text/plain": [
       "reordered\n",
       "0    11049877\n",
       "1    16100589\n",
       "Name: reordered, dtype: int64"
      ]
     },
     "execution_count": 25,
     "metadata": {},
     "output_type": "execute_result"
    }
   ],
   "source": [
    "# Number of Food related Orders Vs Re-Orders\n",
    "food_related_orders_df.groupby(by='reordered')['reordered'].count()\n",
    " "
   ]
  },
  {
   "cell_type": "code",
   "execution_count": 26,
   "metadata": {},
   "outputs": [
    {
     "data": {
      "image/png": "[encoded data removed]",
      "text/plain": [
       "<Figure size 864x576 with 1 Axes>"
      ]
     },
     "metadata": {
      "needs_background": "light"
     },
     "output_type": "display_data"
    }
   ],
   "source": [
    "# Graph to show number of Food related Orders Vs Re-Orders\n",
    "food_related_orders_df.groupby(by='reordered')['reordered'].count().plot(kind = 'bar',rot=0,color='lightcoral',figsize=(12,8))                                                                        \n",
    "plt.xlabel('0 - first time order; 1 - reordered',fontsize=12)\n",
    "plt.ylabel('number of orders',fontsize=12)\n",
    "plt.title('Number of Food related Orders Vs Re-Orders', fontsize=15)\n",
    "plt.show();"
   ]
  },
  {
   "cell_type": "code",
   "execution_count": 27,
   "metadata": {},
   "outputs": [
    {
     "data": {
      "image/png": "[encoded data removed]",
      "text/plain": [
       "<Figure size 864x576 with 1 Axes>"
      ]
     },
     "metadata": {
      "needs_background": "light"
     },
     "output_type": "display_data"
    }
   ],
   "source": [
    "# Frequency of orders by days of the week\n",
    "food_related_orders_df.groupby(by = 'order_dow')['order_dow'].count()\n",
    "days_of_the_week=['0=Sat', '1=Sun', '2=Mon', '3=Tue', '4=Wed', '5=Thu', '6=Fri']\n",
    "plt.figure(figsize=(12,8))\n",
    "sns.countplot(x='order_dow', data=food_related_orders_df,color='lightcoral')\n",
    "plt.ylabel('Count', fontsize=12)\n",
    "plt.xlabel(days_of_the_week,fontsize=12)\n",
    "plt.xticks(rotation='horizontal')\n",
    "plt.title(\"Frequency of orders by days of the week\", fontsize=15)\n",
    "plt.show();"
   ]
  },
  {
   "cell_type": "markdown",
   "metadata": {},
   "source": [
    "#### from the above graph you can notice that the maximum number of Instacart Orders were placed during weekends (Saturday and Sunday) ; with the least number of orders placed during Tuesday and Wednesday"
   ]
  },
  {
   "cell_type": "code",
   "execution_count": 28,
   "metadata": {},
   "outputs": [
    {
     "data": {
      "image/png": "[encoded data removed]",
      "text/plain": [
       "<Figure size 864x576 with 1 Axes>"
      ]
     },
     "metadata": {
      "needs_background": "light"
     },
     "output_type": "display_data"
    }
   ],
   "source": [
    "food_related_orders_df.groupby(by = 'order_hour_of_day')['order_hour_of_day'].count()\n",
    "plt.figure(figsize=(12,8))\n",
    "sns.countplot(x=\"order_hour_of_day\", data=food_related_orders_df, color='lightcoral')\n",
    "plt.ylabel('Count', fontsize=12)\n",
    "plt.xlabel('Hour of the day', fontsize=12)\n",
    "plt.xticks(rotation='horizontal')\n",
    "plt.title(\"Frequency of order by hour of the day\", fontsize=15)\n",
    "plt.show();"
   ]
  },
  {
   "cell_type": "markdown",
   "metadata": {},
   "source": [
    "#### from the above graph, we can notice that the Instacart Orders were peak during 8 AM to 6 PM, with the maximum number of orders at 10 AM, 11 AM , 2 PM and 3 PM"
   ]
  },
  {
   "cell_type": "code",
   "execution_count": 29,
   "metadata": {},
   "outputs": [
    {
     "data": {
      "text/plain": [
       "order_hour_of_day\n",
       "0      184238\n",
       "1       96041\n",
       "2       57096\n",
       "3       42012\n",
       "4       43498\n",
       "5       73172\n",
       "6      245136\n",
       "7      755275\n",
       "8     1449111\n",
       "9     2048046\n",
       "10    2299966\n",
       "11    2283881\n",
       "12    2193331\n",
       "13    2229756\n",
       "14    2254813\n",
       "15    2232703\n",
       "16    2122963\n",
       "17    1739754\n",
       "18    1359802\n",
       "19    1046737\n",
       "20     823993\n",
       "21     681899\n",
       "22     544619\n",
       "23     342624\n",
       "Name: order_hour_of_day, dtype: int64"
      ]
     },
     "execution_count": 29,
     "metadata": {},
     "output_type": "execute_result"
    }
   ],
   "source": [
    "food_related_orders_df.groupby(by = 'order_hour_of_day')['order_hour_of_day'].count()"
   ]
  },
  {
   "cell_type": "code",
   "execution_count": 30,
   "metadata": {},
   "outputs": [
    {
     "data": {
      "image/png": "[encoded data removed]",
      "text/plain": [
       "<Figure size 864x576 with 1 Axes>"
      ]
     },
     "metadata": {
      "needs_background": "light"
     },
     "output_type": "display_data"
    }
   ],
   "source": [
    "plt.figure(figsize=(12,8))\n",
    "plt.rcParams['agg.path.chunksize'] = 10000\n",
    "food_related_orders_df.groupby(by = 'order_hour_of_day')['order_hour_of_day'].count().plot(style='-', x='order_hour_of_day')\n",
    "plt.show();"
   ]
  },
  {
   "cell_type": "code",
   "execution_count": 31,
   "metadata": {
    "scrolled": false
   },
   "outputs": [
    {
     "data": {
      "text/plain": [
       "Banana                    472565\n",
       "Bag of Organic Bananas    379450\n",
       "Organic Strawberries      264683\n",
       "Organic Baby Spinach      241921\n",
       "Organic Hass Avocado      213584\n",
       "Organic Avocado           176815\n",
       "Large Lemon               152657\n",
       "Strawberries              142951\n",
       "Limes                     140627\n",
       "Organic Whole Milk        137905\n",
       "Name: product_name, dtype: int64"
      ]
     },
     "execution_count": 31,
     "metadata": {},
     "output_type": "execute_result"
    }
   ],
   "source": [
    "# Top 10 food products that were ordered the most\n",
    "food_related_orders_df['product_name'].value_counts().sort_values(ascending=False).head(10)"
   ]
  },
  {
   "cell_type": "markdown",
   "metadata": {},
   "source": [
    "### Top 10 food products that were ordered the most -- Food orders"
   ]
  },
  {
   "cell_type": "code",
   "execution_count": 32,
   "metadata": {
    "scrolled": false
   },
   "outputs": [
    {
     "data": {
      "image/png": "[encoded data removed]",
      "text/plain": [
       "<Figure size 864x576 with 1 Axes>"
      ]
     },
     "metadata": {
      "needs_background": "light"
     },
     "output_type": "display_data"
    }
   ],
   "source": [
    "# Top 10 food products that were ordered the most\n",
    "plt.figure(figsize=(12,8))\n",
    "top_10_pick=food_related_orders_df['product_name'].value_counts().sort_values(ascending=False).head(10)\n",
    "top_10_pick.plot(kind=\"bar\", color='lightcoral')\n",
    "plt.xticks(rotation=90)\n",
    "plt.title('Top 10 Popular food Products',fontsize=15)\n",
    "plt.show();"
   ]
  },
  {
   "cell_type": "markdown",
   "metadata": {},
   "source": [
    "### Top 10 orders in the first time orders -- Food orders"
   ]
  },
  {
   "cell_type": "code",
   "execution_count": 33,
   "metadata": {
    "scrolled": true
   },
   "outputs": [
    {
     "data": {
      "text/plain": [
       "Banana                    73956\n",
       "Bag of Organic Bananas    63537\n",
       "Organic Strawberries      58838\n",
       "Organic Baby Spinach      55037\n",
       "Large Lemon               46402\n",
       "Limes                     44859\n",
       "Organic Hass Avocado      43453\n",
       "Strawberries              43149\n",
       "Organic Avocado           42771\n",
       "Organic Blueberries       37138\n",
       "Name: product_name, dtype: int64"
      ]
     },
     "execution_count": 33,
     "metadata": {},
     "output_type": "execute_result"
    }
   ],
   "source": [
    "# Top 10 Pick for first time Order\n",
    "food_related_orders_df[food_related_orders_df['reordered']==0]['product_name'].value_counts().sort_values(ascending=False).head(10)\n"
   ]
  },
  {
   "cell_type": "markdown",
   "metadata": {},
   "source": [
    "### Top 10 orders in the Re-Orders -- Food orders"
   ]
  },
  {
   "cell_type": "code",
   "execution_count": 34,
   "metadata": {},
   "outputs": [
    {
     "data": {
      "text/plain": [
       "Banana                    398609\n",
       "Bag of Organic Bananas    315913\n",
       "Organic Strawberries      205845\n",
       "Organic Baby Spinach      186884\n",
       "Organic Hass Avocado      170131\n",
       "Organic Avocado           134044\n",
       "Organic Whole Milk        114510\n",
       "Large Lemon               106255\n",
       "Organic Raspberries       105409\n",
       "Strawberries               99802\n",
       "Name: product_name, dtype: int64"
      ]
     },
     "execution_count": 34,
     "metadata": {},
     "output_type": "execute_result"
    }
   ],
   "source": [
    "# Top 10 Pick for Re-Order\n",
    "food_related_orders_df[food_related_orders_df['reordered']==1]['product_name'].value_counts().sort_values(ascending=False).head(10)\n"
   ]
  },
  {
   "cell_type": "markdown",
   "metadata": {},
   "source": [
    "### Top 10 users who ordered the most food products"
   ]
  },
  {
   "cell_type": "code",
   "execution_count": 35,
   "metadata": {
    "scrolled": false
   },
   "outputs": [
    {
     "data": {
      "text/plain": [
       "201268    2893\n",
       "33731     2679\n",
       "182401    2597\n",
       "164055    2569\n",
       "108187    2465\n",
       "129928    2263\n",
       "60694     2262\n",
       "176478    2261\n",
       "13701     2169\n",
       "79106     2148\n",
       "Name: user_id, dtype: int64"
      ]
     },
     "execution_count": 35,
     "metadata": {},
     "output_type": "execute_result"
    }
   ],
   "source": [
    "# Top 10 users who ordered the most\n",
    "food_related_orders_df['user_id'].value_counts().sort_values(ascending=False).head(10)\n"
   ]
  },
  {
   "cell_type": "markdown",
   "metadata": {},
   "source": [
    "### Frequency of repetitive orders from the prior order"
   ]
  },
  {
   "cell_type": "code",
   "execution_count": 36,
   "metadata": {
    "scrolled": false
   },
   "outputs": [
    {
     "data": {
      "text/plain": [
       "0.0     2098399\n",
       "1.0      768414\n",
       "2.0     1216210\n",
       "3.0     1575525\n",
       "4.0     1752160\n",
       "5.0     1795292\n",
       "6.0     2133622\n",
       "7.0     2943481\n",
       "8.0     1632994\n",
       "9.0     1023537\n",
       "10.0     809022\n",
       "11.0     685539\n",
       "12.0     646318\n",
       "13.0     712852\n",
       "14.0     862826\n",
       "15.0     562296\n",
       "16.0     384649\n",
       "17.0     317913\n",
       "18.0     290357\n",
       "19.0     278327\n",
       "20.0     316406\n",
       "21.0     370553\n",
       "22.0     257304\n",
       "23.0     187549\n",
       "24.0     159836\n",
       "25.0     149462\n",
       "26.0     147548\n",
       "27.0     169231\n",
       "28.0     210969\n",
       "29.0     145878\n",
       "30.0    2545997\n",
       "Name: days_since_prior_order, dtype: int64"
      ]
     },
     "execution_count": 36,
     "metadata": {},
     "output_type": "execute_result"
    }
   ],
   "source": [
    "# frequency of days since prior order\n",
    "food_related_orders_df['days_since_prior_order'].value_counts().sort_index(ascending = True)"
   ]
  },
  {
   "cell_type": "code",
   "execution_count": 37,
   "metadata": {},
   "outputs": [
    {
     "data": {
      "image/png": "[encoded data removed]",
      "text/plain": [
       "<Figure size 864x576 with 1 Axes>"
      ]
     },
     "metadata": {
      "needs_background": "light"
     },
     "output_type": "display_data"
    }
   ],
   "source": [
    "# Frequency of repetitive orders from the prior order\n",
    "plt.figure(figsize = (12, 8))\n",
    "sns.countplot(x=\"days_since_prior_order\", data=food_related_orders_df, color = 'lightcoral')\n",
    "plt.ylabel('Count', fontsize=12)\n",
    "plt.xlabel('Days since prior order', fontsize=12)\n",
    "plt.xticks(rotation='vertical')\n",
    "plt.title(\"days since prior order\", fontsize=15)\n",
    "plt.show();"
   ]
  },
  {
   "cell_type": "markdown",
   "metadata": {},
   "source": [
    "#### from the graph above, the favourite reorder frequencies are 0th day, 7th day and 30th day."
   ]
  },
  {
   "cell_type": "markdown",
   "metadata": {},
   "source": [
    "### Separate out Vegetarian foods and Meat for further analysis"
   ]
  },
  {
   "cell_type": "code",
   "execution_count": 38,
   "metadata": {},
   "outputs": [],
   "source": [
    "#  How many are Vegetarians\n",
    "vegetarian_orders_df=food_related_orders_df[~((food_related_orders_df['product_name'].str.find('meat')>0)| \n",
    "                       (food_related_orders_df['department']=='meat seafood')|\n",
    "                       (food_related_orders_df['aisle']== 'packaged meat')|\n",
    "                       (food_related_orders_df['aisle']== 'packaged seafood')|\n",
    "                       (food_related_orders_df['aisle']== 'frozen meat seafood')|\n",
    "                       (food_related_orders_df['aisle']== 'seafood counter')|\n",
    "                       (food_related_orders_df['aisle']== 'canned meat seafood')|\n",
    "                       (food_related_orders_df['aisle']== 'lunch meat')|\n",
    "                       (food_related_orders_df['aisle']== 'hot dogs bacon sausage')|\n",
    "                       (food_related_orders_df['aisle']== 'meat counter'))\n",
    "                      ]\n",
    "                           \n",
    "non_vegetarian_orders_df=food_related_orders_df[((food_related_orders_df['product_name'].str.find('meat')>0)| \n",
    "                       (food_related_orders_df['department']=='meat seafood')|\n",
    "                       (food_related_orders_df['aisle']== 'packaged meat')|\n",
    "                       (food_related_orders_df['aisle']== 'packaged seafood')|\n",
    "                       (food_related_orders_df['aisle']== 'frozen meat seafood')|\n",
    "                       (food_related_orders_df['aisle']== 'seafood counter')|\n",
    "                       (food_related_orders_df['aisle']== 'canned meat seafood')|\n",
    "                       (food_related_orders_df['aisle']== 'lunch meat')|\n",
    "                       (food_related_orders_df['aisle']== 'hot dogs bacon sausage')|\n",
    "                       (food_related_orders_df['aisle']== 'meat counter'))\n",
    "                      ]    "
   ]
  },
  {
   "cell_type": "code",
   "execution_count": 39,
   "metadata": {
    "scrolled": true
   },
   "outputs": [
    {
     "name": "stdout",
     "output_type": "stream",
     "text": [
      "shape of vegetarian_orders_df =  (26297625, 15)\n",
      "shape of non_vegetarian_orders_df =  (852841, 15)\n",
      "Total =  27150466\n"
     ]
    }
   ],
   "source": [
    "print('shape of vegetarian_orders_df = ',vegetarian_orders_df.shape)\n",
    "print('shape of non_vegetarian_orders_df = ',non_vegetarian_orders_df.shape)\n",
    "print('Total = ',(vegetarian_orders_df.shape[0]+non_vegetarian_orders_df.shape[0]))\n",
    "# 27150466"
   ]
  },
  {
   "cell_type": "markdown",
   "metadata": {},
   "source": [
    "#### find the number of users who ordered only veg food"
   ]
  },
  {
   "cell_type": "code",
   "execution_count": 40,
   "metadata": {},
   "outputs": [],
   "source": [
    "veg_id = set(vegetarian_orders_df['user_id'])\n",
    "non_veg_id = set(non_vegetarian_orders_df['user_id'])\n",
    "\n",
    "# Set of users who ordered both vegetarian food and meat food\n",
    "veg_non_veg_users=veg_id.intersection(non_veg_id)\n",
    "\n",
    "\n",
    "# Set of users who ordered only vegetarian food and no meat food\n",
    "only_veggie_users = veg_id-non_veg_id"
   ]
  },
  {
   "cell_type": "code",
   "execution_count": 41,
   "metadata": {},
   "outputs": [
    {
     "data": {
      "text/plain": [
       "205096"
      ]
     },
     "execution_count": 41,
     "metadata": {},
     "output_type": "execute_result"
    }
   ],
   "source": [
    "# All the unique users - List of Veg and Non Veg users --- 205,096\n",
    "len(set(vegetarian_orders_df['user_id']))"
   ]
  },
  {
   "cell_type": "code",
   "execution_count": 42,
   "metadata": {},
   "outputs": [
    {
     "data": {
      "text/plain": [
       "79352"
      ]
     },
     "execution_count": 42,
     "metadata": {},
     "output_type": "execute_result"
    }
   ],
   "source": [
    "len(only_veggie_users)"
   ]
  },
  {
   "cell_type": "markdown",
   "metadata": {},
   "source": [
    "### Total number of users who ordered only Veg food (based on their Orders) - 79352"
   ]
  },
  {
   "cell_type": "code",
   "execution_count": 43,
   "metadata": {
    "scrolled": true
   },
   "outputs": [
    {
     "name": "stdout",
     "output_type": "stream",
     "text": [
      "users who orders both vegetarian and meat -  125744\n",
      "users who orders only vegetarian and no meat -  79352\n"
     ]
    }
   ],
   "source": [
    "# Users who ordered both Veg and Meat orders\n",
    "print('users who orders both vegetarian and meat - ',len(veg_non_veg_users))\n",
    "print('users who orders only vegetarian and no meat - ',len(only_veggie_users))"
   ]
  },
  {
   "cell_type": "code",
   "execution_count": 44,
   "metadata": {},
   "outputs": [],
   "source": [
    "# fuction to display only 5 records from a set\n",
    "def show_few_records(set_name):\n",
    "    current_iteration = 0\n",
    "    max_iterations = 5\n",
    "    print((\"number of items: {}\".format(len(set_name))))\n",
    "    for x in set_name:\n",
    "        if current_iteration < max_iterations:\n",
    "            print(x)\n",
    "        else:\n",
    "            break\n",
    "        current_iteration += 1"
   ]
  },
  {
   "cell_type": "code",
   "execution_count": 45,
   "metadata": {},
   "outputs": [
    {
     "name": "stdout",
     "output_type": "stream",
     "text": [
      "number of items: 125744\n",
      "2\n",
      "6\n",
      "7\n",
      "9\n",
      "10\n"
     ]
    }
   ],
   "source": [
    "# display only few records or few values from a set \n",
    "show_few_records(veg_non_veg_users)"
   ]
  },
  {
   "cell_type": "code",
   "execution_count": 46,
   "metadata": {},
   "outputs": [
    {
     "data": {
      "text/html": [
       "<div>\n",
       "<style scoped>\n",
       "    .dataframe tbody tr th:only-of-type {\n",
       "        vertical-align: middle;\n",
       "    }\n",
       "\n",
       "    .dataframe tbody tr th {\n",
       "        vertical-align: top;\n",
       "    }\n",
       "\n",
       "    .dataframe thead th {\n",
       "        text-align: right;\n",
       "    }\n",
       "</style>\n",
       "<table border=\"1\" class=\"dataframe\">\n",
       "  <thead>\n",
       "    <tr style=\"text-align: right;\">\n",
       "      <th></th>\n",
       "      <th>order_id</th>\n",
       "      <th>product_id</th>\n",
       "      <th>add_to_cart_order</th>\n",
       "      <th>reordered</th>\n",
       "      <th>product_name</th>\n",
       "      <th>aisle_id</th>\n",
       "      <th>department_id</th>\n",
       "      <th>user_id</th>\n",
       "      <th>eval_set</th>\n",
       "      <th>order_number</th>\n",
       "      <th>order_dow</th>\n",
       "      <th>order_hour_of_day</th>\n",
       "      <th>days_since_prior_order</th>\n",
       "      <th>department</th>\n",
       "      <th>aisle</th>\n",
       "    </tr>\n",
       "  </thead>\n",
       "  <tbody>\n",
       "    <tr>\n",
       "      <th>17019850</th>\n",
       "      <td>68288</td>\n",
       "      <td>9339</td>\n",
       "      <td>10</td>\n",
       "      <td>0</td>\n",
       "      <td>Organic Chicken &amp; Apple Sausage</td>\n",
       "      <td>106</td>\n",
       "      <td>12</td>\n",
       "      <td>10</td>\n",
       "      <td>prior</td>\n",
       "      <td>2</td>\n",
       "      <td>5</td>\n",
       "      <td>15</td>\n",
       "      <td>30.0</td>\n",
       "      <td>meat seafood</td>\n",
       "      <td>hot dogs bacon sausage</td>\n",
       "    </tr>\n",
       "    <tr>\n",
       "      <th>17019851</th>\n",
       "      <td>68288</td>\n",
       "      <td>28986</td>\n",
       "      <td>12</td>\n",
       "      <td>0</td>\n",
       "      <td>Mild Italian Chicken Sausage</td>\n",
       "      <td>106</td>\n",
       "      <td>12</td>\n",
       "      <td>10</td>\n",
       "      <td>prior</td>\n",
       "      <td>2</td>\n",
       "      <td>5</td>\n",
       "      <td>15</td>\n",
       "      <td>30.0</td>\n",
       "      <td>meat seafood</td>\n",
       "      <td>hot dogs bacon sausage</td>\n",
       "    </tr>\n",
       "    <tr>\n",
       "      <th>17019849</th>\n",
       "      <td>68288</td>\n",
       "      <td>5646</td>\n",
       "      <td>11</td>\n",
       "      <td>0</td>\n",
       "      <td>Organic Turkey Bacon</td>\n",
       "      <td>106</td>\n",
       "      <td>12</td>\n",
       "      <td>10</td>\n",
       "      <td>prior</td>\n",
       "      <td>2</td>\n",
       "      <td>5</td>\n",
       "      <td>15</td>\n",
       "      <td>30.0</td>\n",
       "      <td>meat seafood</td>\n",
       "      <td>hot dogs bacon sausage</td>\n",
       "    </tr>\n",
       "  </tbody>\n",
       "</table>\n",
       "</div>"
      ],
      "text/plain": [
       "          order_id  product_id  add_to_cart_order  reordered                     product_name  aisle_id  department_id  user_id eval_set  order_number  order_dow  order_hour_of_day  days_since_prior_order    department                   aisle\n",
       "17019850     68288        9339                 10          0  Organic Chicken & Apple Sausage       106             12       10    prior             2          5                 15                    30.0  meat seafood  hot dogs bacon sausage\n",
       "17019851     68288       28986                 12          0     Mild Italian Chicken Sausage       106             12       10    prior             2          5                 15                    30.0  meat seafood  hot dogs bacon sausage\n",
       "17019849     68288        5646                 11          0             Organic Turkey Bacon       106             12       10    prior             2          5                 15                    30.0  meat seafood  hot dogs bacon sausage"
      ]
     },
     "execution_count": 46,
     "metadata": {},
     "output_type": "execute_result"
    }
   ],
   "source": [
    "# Validate Orders related to Meat - By a specific user\n",
    "non_vegetarian_orders_df[non_vegetarian_orders_df['user_id']==10].head(3)"
   ]
  },
  {
   "cell_type": "code",
   "execution_count": 47,
   "metadata": {},
   "outputs": [
    {
     "data": {
      "text/html": [
       "<div>\n",
       "<style scoped>\n",
       "    .dataframe tbody tr th:only-of-type {\n",
       "        vertical-align: middle;\n",
       "    }\n",
       "\n",
       "    .dataframe tbody tr th {\n",
       "        vertical-align: top;\n",
       "    }\n",
       "\n",
       "    .dataframe thead th {\n",
       "        text-align: right;\n",
       "    }\n",
       "</style>\n",
       "<table border=\"1\" class=\"dataframe\">\n",
       "  <thead>\n",
       "    <tr style=\"text-align: right;\">\n",
       "      <th></th>\n",
       "      <th>order_id</th>\n",
       "      <th>product_id</th>\n",
       "      <th>add_to_cart_order</th>\n",
       "      <th>reordered</th>\n",
       "      <th>product_name</th>\n",
       "      <th>aisle_id</th>\n",
       "      <th>department_id</th>\n",
       "      <th>user_id</th>\n",
       "      <th>eval_set</th>\n",
       "      <th>order_number</th>\n",
       "      <th>order_dow</th>\n",
       "      <th>order_hour_of_day</th>\n",
       "      <th>days_since_prior_order</th>\n",
       "      <th>department</th>\n",
       "      <th>aisle</th>\n",
       "    </tr>\n",
       "  </thead>\n",
       "  <tbody>\n",
       "    <tr>\n",
       "      <th>14993178</th>\n",
       "      <td>68288</td>\n",
       "      <td>7746</td>\n",
       "      <td>40</td>\n",
       "      <td>0</td>\n",
       "      <td>Oregano</td>\n",
       "      <td>104</td>\n",
       "      <td>13</td>\n",
       "      <td>10</td>\n",
       "      <td>prior</td>\n",
       "      <td>2</td>\n",
       "      <td>5</td>\n",
       "      <td>15</td>\n",
       "      <td>30.0</td>\n",
       "      <td>pantry</td>\n",
       "      <td>spices seasonings</td>\n",
       "    </tr>\n",
       "    <tr>\n",
       "      <th>14993180</th>\n",
       "      <td>68288</td>\n",
       "      <td>8988</td>\n",
       "      <td>38</td>\n",
       "      <td>0</td>\n",
       "      <td>Organic Garlic Powder</td>\n",
       "      <td>104</td>\n",
       "      <td>13</td>\n",
       "      <td>10</td>\n",
       "      <td>prior</td>\n",
       "      <td>2</td>\n",
       "      <td>5</td>\n",
       "      <td>15</td>\n",
       "      <td>30.0</td>\n",
       "      <td>pantry</td>\n",
       "      <td>spices seasonings</td>\n",
       "    </tr>\n",
       "    <tr>\n",
       "      <th>14993179</th>\n",
       "      <td>68288</td>\n",
       "      <td>35725</td>\n",
       "      <td>42</td>\n",
       "      <td>0</td>\n",
       "      <td>Organic Oregano</td>\n",
       "      <td>104</td>\n",
       "      <td>13</td>\n",
       "      <td>10</td>\n",
       "      <td>prior</td>\n",
       "      <td>2</td>\n",
       "      <td>5</td>\n",
       "      <td>15</td>\n",
       "      <td>30.0</td>\n",
       "      <td>pantry</td>\n",
       "      <td>spices seasonings</td>\n",
       "    </tr>\n",
       "  </tbody>\n",
       "</table>\n",
       "</div>"
      ],
      "text/plain": [
       "          order_id  product_id  add_to_cart_order  reordered           product_name  aisle_id  department_id  user_id eval_set  order_number  order_dow  order_hour_of_day  days_since_prior_order department              aisle\n",
       "14993178     68288        7746                 40          0                Oregano       104             13       10    prior             2          5                 15                    30.0     pantry  spices seasonings\n",
       "14993180     68288        8988                 38          0  Organic Garlic Powder       104             13       10    prior             2          5                 15                    30.0     pantry  spices seasonings\n",
       "14993179     68288       35725                 42          0        Organic Oregano       104             13       10    prior             2          5                 15                    30.0     pantry  spices seasonings"
      ]
     },
     "execution_count": 47,
     "metadata": {},
     "output_type": "execute_result"
    }
   ],
   "source": [
    "# Validate Orders related to Vegetarian food - By the same specific user\n",
    "\n",
    "vegetarian_orders_df[vegetarian_orders_df['user_id']==10].head(3)"
   ]
  },
  {
   "cell_type": "code",
   "execution_count": 48,
   "metadata": {},
   "outputs": [
    {
     "name": "stdout",
     "output_type": "stream",
     "text": [
      "number of items: 79352\n",
      "1\n",
      "131074\n",
      "3\n",
      "4\n",
      "5\n"
     ]
    }
   ],
   "source": [
    "# only users who belongs to only_veggie_users \n",
    "show_few_records(only_veggie_users)"
   ]
  },
  {
   "cell_type": "code",
   "execution_count": 49,
   "metadata": {},
   "outputs": [
    {
     "data": {
      "text/html": [
       "<div>\n",
       "<style scoped>\n",
       "    .dataframe tbody tr th:only-of-type {\n",
       "        vertical-align: middle;\n",
       "    }\n",
       "\n",
       "    .dataframe tbody tr th {\n",
       "        vertical-align: top;\n",
       "    }\n",
       "\n",
       "    .dataframe thead th {\n",
       "        text-align: right;\n",
       "    }\n",
       "</style>\n",
       "<table border=\"1\" class=\"dataframe\">\n",
       "  <thead>\n",
       "    <tr style=\"text-align: right;\">\n",
       "      <th></th>\n",
       "      <th>order_id</th>\n",
       "      <th>product_id</th>\n",
       "      <th>add_to_cart_order</th>\n",
       "      <th>reordered</th>\n",
       "      <th>product_name</th>\n",
       "      <th>aisle_id</th>\n",
       "      <th>department_id</th>\n",
       "      <th>user_id</th>\n",
       "      <th>eval_set</th>\n",
       "      <th>order_number</th>\n",
       "      <th>order_dow</th>\n",
       "      <th>order_hour_of_day</th>\n",
       "      <th>days_since_prior_order</th>\n",
       "      <th>department</th>\n",
       "      <th>aisle</th>\n",
       "    </tr>\n",
       "  </thead>\n",
       "  <tbody>\n",
       "    <tr>\n",
       "      <th>9091960</th>\n",
       "      <td>444309</td>\n",
       "      <td>21903</td>\n",
       "      <td>2</td>\n",
       "      <td>1</td>\n",
       "      <td>Organic Baby Spinach</td>\n",
       "      <td>123</td>\n",
       "      <td>4</td>\n",
       "      <td>3</td>\n",
       "      <td>prior</td>\n",
       "      <td>2</td>\n",
       "      <td>3</td>\n",
       "      <td>19</td>\n",
       "      <td>9.0</td>\n",
       "      <td>produce</td>\n",
       "      <td>packaged vegetables fruits</td>\n",
       "    </tr>\n",
       "    <tr>\n",
       "      <th>577666</th>\n",
       "      <td>444309</td>\n",
       "      <td>17668</td>\n",
       "      <td>6</td>\n",
       "      <td>1</td>\n",
       "      <td>Unsweetened Chocolate Almond Breeze Almond Milk</td>\n",
       "      <td>91</td>\n",
       "      <td>16</td>\n",
       "      <td>3</td>\n",
       "      <td>prior</td>\n",
       "      <td>2</td>\n",
       "      <td>3</td>\n",
       "      <td>19</td>\n",
       "      <td>9.0</td>\n",
       "      <td>dairy eggs</td>\n",
       "      <td>soy lactosefree</td>\n",
       "    </tr>\n",
       "    <tr>\n",
       "      <th>22448700</th>\n",
       "      <td>444309</td>\n",
       "      <td>32402</td>\n",
       "      <td>9</td>\n",
       "      <td>1</td>\n",
       "      <td>Crackers, Crispy, Cheddar</td>\n",
       "      <td>78</td>\n",
       "      <td>19</td>\n",
       "      <td>3</td>\n",
       "      <td>prior</td>\n",
       "      <td>2</td>\n",
       "      <td>3</td>\n",
       "      <td>19</td>\n",
       "      <td>9.0</td>\n",
       "      <td>snacks</td>\n",
       "      <td>crackers</td>\n",
       "    </tr>\n",
       "  </tbody>\n",
       "</table>\n",
       "</div>"
      ],
      "text/plain": [
       "          order_id  product_id  add_to_cart_order  reordered                                     product_name  aisle_id  department_id  user_id eval_set  order_number  order_dow  order_hour_of_day  days_since_prior_order  department                       aisle\n",
       "9091960     444309       21903                  2          1                             Organic Baby Spinach       123              4        3    prior             2          3                 19                     9.0     produce  packaged vegetables fruits\n",
       "577666      444309       17668                  6          1  Unsweetened Chocolate Almond Breeze Almond Milk        91             16        3    prior             2          3                 19                     9.0  dairy eggs             soy lactosefree\n",
       "22448700    444309       32402                  9          1                        Crackers, Crispy, Cheddar        78             19        3    prior             2          3                 19                     9.0      snacks                    crackers"
      ]
     },
     "execution_count": 49,
     "metadata": {},
     "output_type": "execute_result"
    }
   ],
   "source": [
    "vegetarian_orders_df[vegetarian_orders_df['user_id']==3].head(3)"
   ]
  },
  {
   "cell_type": "code",
   "execution_count": 50,
   "metadata": {},
   "outputs": [
    {
     "data": {
      "text/html": [
       "<div>\n",
       "<style scoped>\n",
       "    .dataframe tbody tr th:only-of-type {\n",
       "        vertical-align: middle;\n",
       "    }\n",
       "\n",
       "    .dataframe tbody tr th {\n",
       "        vertical-align: top;\n",
       "    }\n",
       "\n",
       "    .dataframe thead th {\n",
       "        text-align: right;\n",
       "    }\n",
       "</style>\n",
       "<table border=\"1\" class=\"dataframe\">\n",
       "  <thead>\n",
       "    <tr style=\"text-align: right;\">\n",
       "      <th></th>\n",
       "      <th>order_id</th>\n",
       "      <th>product_id</th>\n",
       "      <th>add_to_cart_order</th>\n",
       "      <th>reordered</th>\n",
       "      <th>product_name</th>\n",
       "      <th>aisle_id</th>\n",
       "      <th>department_id</th>\n",
       "      <th>user_id</th>\n",
       "      <th>eval_set</th>\n",
       "      <th>order_number</th>\n",
       "      <th>order_dow</th>\n",
       "      <th>order_hour_of_day</th>\n",
       "      <th>days_since_prior_order</th>\n",
       "      <th>department</th>\n",
       "      <th>aisle</th>\n",
       "    </tr>\n",
       "  </thead>\n",
       "  <tbody>\n",
       "  </tbody>\n",
       "</table>\n",
       "</div>"
      ],
      "text/plain": [
       "Empty DataFrame\n",
       "Columns: [order_id, product_id, add_to_cart_order, reordered, product_name, aisle_id, department_id, user_id, eval_set, order_number, order_dow, order_hour_of_day, days_since_prior_order, department, aisle]\n",
       "Index: []"
      ]
     },
     "execution_count": 50,
     "metadata": {},
     "output_type": "execute_result"
    }
   ],
   "source": [
    "# User who has been identified as vegetarian user; check for the user in non-vegetarian df and should not be present;\n",
    "non_vegetarian_orders_df[non_vegetarian_orders_df['user_id']==3] "
   ]
  },
  {
   "cell_type": "code",
   "execution_count": 51,
   "metadata": {
    "scrolled": true
   },
   "outputs": [
    {
     "data": {
      "text/html": [
       "<div>\n",
       "<style scoped>\n",
       "    .dataframe tbody tr th:only-of-type {\n",
       "        vertical-align: middle;\n",
       "    }\n",
       "\n",
       "    .dataframe tbody tr th {\n",
       "        vertical-align: top;\n",
       "    }\n",
       "\n",
       "    .dataframe thead th {\n",
       "        text-align: right;\n",
       "    }\n",
       "</style>\n",
       "<table border=\"1\" class=\"dataframe\">\n",
       "  <thead>\n",
       "    <tr style=\"text-align: right;\">\n",
       "      <th></th>\n",
       "      <th>order_id</th>\n",
       "      <th>product_id</th>\n",
       "      <th>add_to_cart_order</th>\n",
       "      <th>reordered</th>\n",
       "      <th>product_name</th>\n",
       "      <th>aisle_id</th>\n",
       "      <th>department_id</th>\n",
       "      <th>user_id</th>\n",
       "      <th>eval_set</th>\n",
       "      <th>order_number</th>\n",
       "      <th>order_dow</th>\n",
       "      <th>order_hour_of_day</th>\n",
       "      <th>days_since_prior_order</th>\n",
       "      <th>department</th>\n",
       "      <th>aisle</th>\n",
       "    </tr>\n",
       "  </thead>\n",
       "  <tbody>\n",
       "    <tr>\n",
       "      <th>25935941</th>\n",
       "      <td>4</td>\n",
       "      <td>21351</td>\n",
       "      <td>6</td>\n",
       "      <td>1</td>\n",
       "      <td>Nutri-Grain Soft Baked Strawberry Cereal Break...</td>\n",
       "      <td>48</td>\n",
       "      <td>14</td>\n",
       "      <td>178520</td>\n",
       "      <td>prior</td>\n",
       "      <td>36</td>\n",
       "      <td>1</td>\n",
       "      <td>9</td>\n",
       "      <td>7.0</td>\n",
       "      <td>breakfast</td>\n",
       "      <td>breakfast bars pastries</td>\n",
       "    </tr>\n",
       "    <tr>\n",
       "      <th>22482283</th>\n",
       "      <td>4</td>\n",
       "      <td>17616</td>\n",
       "      <td>10</td>\n",
       "      <td>1</td>\n",
       "      <td>Goldfish Cheddar Baked Snack Crackers</td>\n",
       "      <td>78</td>\n",
       "      <td>19</td>\n",
       "      <td>178520</td>\n",
       "      <td>prior</td>\n",
       "      <td>36</td>\n",
       "      <td>1</td>\n",
       "      <td>9</td>\n",
       "      <td>7.0</td>\n",
       "      <td>snacks</td>\n",
       "      <td>crackers</td>\n",
       "    </tr>\n",
       "    <tr>\n",
       "      <th>23128877</th>\n",
       "      <td>4</td>\n",
       "      <td>39758</td>\n",
       "      <td>3</td>\n",
       "      <td>1</td>\n",
       "      <td>Chewy 25% Low Sugar Chocolate Chip Granola</td>\n",
       "      <td>3</td>\n",
       "      <td>19</td>\n",
       "      <td>178520</td>\n",
       "      <td>prior</td>\n",
       "      <td>36</td>\n",
       "      <td>1</td>\n",
       "      <td>9</td>\n",
       "      <td>7.0</td>\n",
       "      <td>snacks</td>\n",
       "      <td>energy granola bars</td>\n",
       "    </tr>\n",
       "  </tbody>\n",
       "</table>\n",
       "</div>"
      ],
      "text/plain": [
       "          order_id  product_id  add_to_cart_order  reordered                                       product_name  aisle_id  department_id  user_id eval_set  order_number  order_dow  order_hour_of_day  days_since_prior_order department                    aisle\n",
       "25935941         4       21351                  6          1  Nutri-Grain Soft Baked Strawberry Cereal Break...        48             14   178520    prior            36          1                  9                     7.0  breakfast  breakfast bars pastries\n",
       "22482283         4       17616                 10          1              Goldfish Cheddar Baked Snack Crackers        78             19   178520    prior            36          1                  9                     7.0     snacks                 crackers\n",
       "23128877         4       39758                  3          1         Chewy 25% Low Sugar Chocolate Chip Granola         3             19   178520    prior            36          1                  9                     7.0     snacks      energy granola bars"
      ]
     },
     "execution_count": 51,
     "metadata": {},
     "output_type": "execute_result"
    }
   ],
   "source": [
    "# Orders from users who we identified as Vegetarian users\n",
    "# Orders from only_veggie_users\n",
    "only_vegetarian_df=vegetarian_orders_df[vegetarian_orders_df['user_id'].isin(only_veggie_users)]\n",
    "only_vegetarian_df.head(3)"
   ]
  },
  {
   "cell_type": "code",
   "execution_count": 52,
   "metadata": {},
   "outputs": [
    {
     "data": {
      "text/plain": [
       "27260"
      ]
     },
     "execution_count": 52,
     "metadata": {},
     "output_type": "execute_result"
    }
   ],
   "source": [
    "# Number of unique Vegetarian products in the only_vegetarian_df\n",
    "only_vegetarian_df['product_name'].nunique()"
   ]
  },
  {
   "cell_type": "markdown",
   "metadata": {},
   "source": [
    "### Top 20 products ordered from users who we identified as Vegetarian users"
   ]
  },
  {
   "cell_type": "code",
   "execution_count": 53,
   "metadata": {
    "scrolled": false
   },
   "outputs": [
    {
     "data": {
      "text/plain": [
       "Banana                    107350\n",
       "Bag of Organic Bananas     96137\n",
       "Organic Strawberries       48070\n",
       "Organic Baby Spinach       47362\n",
       "Organic Hass Avocado       42442\n",
       "Strawberries               33272\n",
       "Organic Avocado            29762\n",
       "Organic Raspberries        27961\n",
       "Large Lemon                26765\n",
       "Organic Fuji Apple         26148\n",
       "Organic Half & Half        26101\n",
       "Organic Whole Milk         25405\n",
       "Organic Blueberries        24304\n",
       "Limes                      23124\n",
       "Half & Half                22147\n",
       "Raspberries                19155\n",
       "Clementines                18886\n",
       "Organic Lemon              18653\n",
       "Seedless Red Grapes        17921\n",
       "Organic Baby Carrots       17564\n",
       "Name: product_name, dtype: int64"
      ]
     },
     "execution_count": 53,
     "metadata": {},
     "output_type": "execute_result"
    }
   ],
   "source": [
    "# Top products ordered from users who we identified as only Vegetarian users\n",
    "only_vegetarian_df['product_name'].value_counts().sort_values(ascending=False).head(20)"
   ]
  },
  {
   "cell_type": "code",
   "execution_count": 54,
   "metadata": {},
   "outputs": [
    {
     "data": {
      "text/plain": [
       "<matplotlib.axes._subplots.AxesSubplot at 0x1a19d4e240>"
      ]
     },
     "execution_count": 54,
     "metadata": {},
     "output_type": "execute_result"
    },
    {
     "data": {
      "image/png": "[encoded data removed]",
      "text/plain": [
       "<Figure size 864x576 with 1 Axes>"
      ]
     },
     "metadata": {
      "needs_background": "light"
     },
     "output_type": "display_data"
    }
   ],
   "source": [
    "only_vegetarian_df['product_name'].value_counts().sort_values(ascending=False).head(20).plot(kind='bar',\n",
    "                                                                                             figsize=(12,8),\n",
    "                                                                                             color='lightcoral')\n"
   ]
  },
  {
   "cell_type": "markdown",
   "metadata": {},
   "source": [
    "### Top 20 products Vegetarian users ordered in their weekly reorders"
   ]
  },
  {
   "cell_type": "code",
   "execution_count": 55,
   "metadata": {
    "scrolled": false
   },
   "outputs": [
    {
     "data": {
      "text/plain": [
       "Banana                                  15258\n",
       "Bag of Organic Bananas                  11823\n",
       "Organic Strawberries                     5321\n",
       "Organic Baby Spinach                     4615\n",
       "Organic Hass Avocado                     4613\n",
       "Organic Fuji Apple                       4563\n",
       "Organic Half & Half                      4172\n",
       "Strawberries                             4064\n",
       "Half & Half                              3740\n",
       "Clementines                              3257\n",
       "Organic Raspberries                      3226\n",
       "Large Lemon                              3035\n",
       "Organic Avocado                          2997\n",
       "Organic Whole Milk                       2958\n",
       "Organic Blueberries                      2626\n",
       "Organic Gala Apples                      2600\n",
       "Organic Large Extra Fancy Fuji Apple     2484\n",
       "Seedless Red Grapes                      2480\n",
       "Honeycrisp Apple                         2416\n",
       "Apple Honeycrisp Organic                 2408\n",
       "Name: product_name, dtype: int64"
      ]
     },
     "execution_count": 55,
     "metadata": {},
     "output_type": "execute_result"
    }
   ],
   "source": [
    "only_vegetarian_df[only_vegetarian_df['days_since_prior_order']==7]['product_name'].value_counts().sort_values(ascending=False).head(20)\n"
   ]
  },
  {
   "cell_type": "code",
   "execution_count": 56,
   "metadata": {},
   "outputs": [
    {
     "data": {
      "text/plain": [
       "<matplotlib.axes._subplots.AxesSubplot at 0x1a1a2f6c88>"
      ]
     },
     "execution_count": 56,
     "metadata": {},
     "output_type": "execute_result"
    },
    {
     "data": {
      "image/png": "[encoded data removed]",
      "text/plain": [
       "<Figure size 864x576 with 1 Axes>"
      ]
     },
     "metadata": {
      "needs_background": "light"
     },
     "output_type": "display_data"
    }
   ],
   "source": [
    "only_vegetarian_df[only_vegetarian_df['days_since_prior_order']==7]['product_name'].value_counts(ascending=False).head(20).plot(kind='barh',\n",
    "                                                                                                                                figsize=(12,8),\n",
    "                                                                                                                                color = 'lightcoral')\n"
   ]
  },
  {
   "cell_type": "markdown",
   "metadata": {},
   "source": [
    "### Top 20 products which were added to users shopping cart first (first item added to the cart) in their re-orders"
   ]
  },
  {
   "cell_type": "code",
   "execution_count": 57,
   "metadata": {
    "scrolled": false
   },
   "outputs": [
    {
     "data": {
      "text/plain": [
       "<matplotlib.axes._subplots.AxesSubplot at 0x1a192b3668>"
      ]
     },
     "execution_count": 57,
     "metadata": {},
     "output_type": "execute_result"
    },
    {
     "data": {
      "image/png": "[encoded data removed]",
      "text/plain": [
       "<Figure size 864x576 with 1 Axes>"
      ]
     },
     "metadata": {
      "needs_background": "light"
     },
     "output_type": "display_data"
    }
   ],
   "source": [
    "only_vegetarian_df[((only_vegetarian_df['reordered']==1)\n",
    "                   &(only_vegetarian_df['add_to_cart_order']==1))]['product_name'].value_counts(ascending=False).head(20).plot(kind='barh',\n",
    "                                                                                                                               figsize=(12,8),\n",
    "                                                                                                                               color='lightcoral')\n"
   ]
  },
  {
   "cell_type": "code",
   "execution_count": 58,
   "metadata": {},
   "outputs": [],
   "source": [
    "# # Store the data into a CSV for further use\n",
    "# Commenting this portion as the csv generated is of bulk size 597MB\n",
    "# only_vegetarian_df.to_csv('./InstaCart_OnlyVegetarian_foods.csv')"
   ]
  },
  {
   "cell_type": "code",
   "execution_count": 59,
   "metadata": {},
   "outputs": [
    {
     "data": {
      "text/plain": [
       "(5647220, 15)"
      ]
     },
     "execution_count": 59,
     "metadata": {},
     "output_type": "execute_result"
    }
   ],
   "source": [
    "only_vegetarian_df.shape"
   ]
  },
  {
   "cell_type": "code",
   "execution_count": 60,
   "metadata": {
    "scrolled": true
   },
   "outputs": [
    {
     "data": {
      "text/html": [
       "<div>\n",
       "<style scoped>\n",
       "    .dataframe tbody tr th:only-of-type {\n",
       "        vertical-align: middle;\n",
       "    }\n",
       "\n",
       "    .dataframe tbody tr th {\n",
       "        vertical-align: top;\n",
       "    }\n",
       "\n",
       "    .dataframe thead th {\n",
       "        text-align: right;\n",
       "    }\n",
       "</style>\n",
       "<table border=\"1\" class=\"dataframe\">\n",
       "  <thead>\n",
       "    <tr style=\"text-align: right;\">\n",
       "      <th></th>\n",
       "      <th>order_id</th>\n",
       "      <th>product_id</th>\n",
       "      <th>add_to_cart_order</th>\n",
       "      <th>reordered</th>\n",
       "      <th>product_name</th>\n",
       "      <th>aisle_id</th>\n",
       "      <th>department_id</th>\n",
       "      <th>user_id</th>\n",
       "      <th>eval_set</th>\n",
       "      <th>order_number</th>\n",
       "      <th>order_dow</th>\n",
       "      <th>order_hour_of_day</th>\n",
       "      <th>days_since_prior_order</th>\n",
       "      <th>department</th>\n",
       "      <th>aisle</th>\n",
       "    </tr>\n",
       "  </thead>\n",
       "  <tbody>\n",
       "    <tr>\n",
       "      <th>25935941</th>\n",
       "      <td>4</td>\n",
       "      <td>21351</td>\n",
       "      <td>6</td>\n",
       "      <td>1</td>\n",
       "      <td>Nutri-Grain Soft Baked Strawberry Cereal Break...</td>\n",
       "      <td>48</td>\n",
       "      <td>14</td>\n",
       "      <td>178520</td>\n",
       "      <td>prior</td>\n",
       "      <td>36</td>\n",
       "      <td>1</td>\n",
       "      <td>9</td>\n",
       "      <td>7.0</td>\n",
       "      <td>breakfast</td>\n",
       "      <td>breakfast bars pastries</td>\n",
       "    </tr>\n",
       "    <tr>\n",
       "      <th>22482283</th>\n",
       "      <td>4</td>\n",
       "      <td>17616</td>\n",
       "      <td>10</td>\n",
       "      <td>1</td>\n",
       "      <td>Goldfish Cheddar Baked Snack Crackers</td>\n",
       "      <td>78</td>\n",
       "      <td>19</td>\n",
       "      <td>178520</td>\n",
       "      <td>prior</td>\n",
       "      <td>36</td>\n",
       "      <td>1</td>\n",
       "      <td>9</td>\n",
       "      <td>7.0</td>\n",
       "      <td>snacks</td>\n",
       "      <td>crackers</td>\n",
       "    </tr>\n",
       "    <tr>\n",
       "      <th>23128877</th>\n",
       "      <td>4</td>\n",
       "      <td>39758</td>\n",
       "      <td>3</td>\n",
       "      <td>1</td>\n",
       "      <td>Chewy 25% Low Sugar Chocolate Chip Granola</td>\n",
       "      <td>3</td>\n",
       "      <td>19</td>\n",
       "      <td>178520</td>\n",
       "      <td>prior</td>\n",
       "      <td>36</td>\n",
       "      <td>1</td>\n",
       "      <td>9</td>\n",
       "      <td>7.0</td>\n",
       "      <td>snacks</td>\n",
       "      <td>energy granola bars</td>\n",
       "    </tr>\n",
       "  </tbody>\n",
       "</table>\n",
       "</div>"
      ],
      "text/plain": [
       "          order_id  product_id  add_to_cart_order  reordered                                       product_name  aisle_id  department_id  user_id eval_set  order_number  order_dow  order_hour_of_day  days_since_prior_order department                    aisle\n",
       "25935941         4       21351                  6          1  Nutri-Grain Soft Baked Strawberry Cereal Break...        48             14   178520    prior            36          1                  9                     7.0  breakfast  breakfast bars pastries\n",
       "22482283         4       17616                 10          1              Goldfish Cheddar Baked Snack Crackers        78             19   178520    prior            36          1                  9                     7.0     snacks                 crackers\n",
       "23128877         4       39758                  3          1         Chewy 25% Low Sugar Chocolate Chip Granola         3             19   178520    prior            36          1                  9                     7.0     snacks      energy granola bars"
      ]
     },
     "execution_count": 60,
     "metadata": {},
     "output_type": "execute_result"
    }
   ],
   "source": [
    "only_vegetarian_df.head(3)"
   ]
  },
  {
   "cell_type": "code",
   "execution_count": 61,
   "metadata": {},
   "outputs": [
    {
     "name": "stderr",
     "output_type": "stream",
     "text": [
      "/Users/kkesari/anaconda3/envs/dsi/lib/python3.6/site-packages/IPython/core/interactiveshell.py:3049: DtypeWarning: Columns (9) have mixed types. Specify dtype option on import or set low_memory=False.\n",
      "  interactivity=interactivity, compiler=compiler, result=result)\n"
     ]
    }
   ],
   "source": [
    "# Read the food and nutrition Customized dataframes from USDA\n",
    "food_data_df=pd.read_csv('./prepared_data/food_descr.csv',index_col = 'Unnamed: 0')\n",
    "nutr_data_df = pd.read_csv('./prepared_data/nutr_descr.csv',index_col = 'Unnamed: 0')"
   ]
  },
  {
   "cell_type": "code",
   "execution_count": 62,
   "metadata": {},
   "outputs": [
    {
     "name": "stdout",
     "output_type": "stream",
     "text": [
      "food_data_df.shape (7793, 15)\n",
      "nutr_data_df.shape (644125, 22)\n"
     ]
    }
   ],
   "source": [
    "print(\"food_data_df.shape\", food_data_df.shape)\n",
    "print(\"nutr_data_df.shape\", nutr_data_df.shape)"
   ]
  },
  {
   "cell_type": "markdown",
   "metadata": {},
   "source": [
    "### Create a new data frame and exclude some of the below food groups and foods; restrict the DF to limited fresh food items only."
   ]
  },
  {
   "cell_type": "code",
   "execution_count": 63,
   "metadata": {},
   "outputs": [],
   "source": [
    "#  Create a new dataframe and exclude some of the below food groups and foods \n",
    "#  restrict the DF to limited fresh food items only.\n",
    "usda_food_df = food_data_df[~(\n",
    "                       (food_data_df['FdGrp_Desc']== 'Beef Products')|\n",
    "                       (food_data_df['FdGrp_Desc']== 'Baby Foods')|\n",
    "                       (food_data_df['FdGrp_Desc']== 'Soups, Sauces, and Gravies')|\n",
    "                       (food_data_df['FdGrp_Desc']== 'Beverages')|\n",
    "                       (food_data_df['FdGrp_Desc']== 'Pork Products')|\n",
    "                       (food_data_df['FdGrp_Desc']== 'Finfish and Shellfish Products')|\n",
    "                       (food_data_df['FdGrp_Desc']== 'Sausages and Luncheon Meats')|\n",
    "                       (food_data_df['FdGrp_Desc']== 'Restaurant Foods')|\n",
    "                       (food_data_df['FdGrp_Desc']== 'Fats and Oils')|\n",
    "                       (food_data_df['FdGrp_Desc']== 'Cereal Grains and Pasta')|    \n",
    "                       (food_data_df['Long_Desc'].str.find('meat')>0)|\n",
    "                       (food_data_df['Long_Desc'].str.find('prepared')>0)|\n",
    "                       (food_data_df['Long_Desc'].str.find('juice')>0)|\n",
    "                       (food_data_df['Long_Desc'].str.find('jam')>0)|\n",
    "                       (food_data_df['Long_Desc'].str.find('pudding')>0)|\n",
    "                       (food_data_df['Long_Desc'].str.find('instant')>0)| \n",
    "                       (food_data_df['Long_Desc'].str.find('smoothie')>0) \n",
    "                       )]"
   ]
  },
  {
   "cell_type": "code",
   "execution_count": 64,
   "metadata": {},
   "outputs": [
    {
     "data": {
      "text/plain": [
       "(3686, 15)"
      ]
     },
     "execution_count": 64,
     "metadata": {},
     "output_type": "execute_result"
    }
   ],
   "source": [
    "usda_food_df.shape"
   ]
  },
  {
   "cell_type": "code",
   "execution_count": 65,
   "metadata": {},
   "outputs": [],
   "source": [
    "# further exclude some of the prepare or instant food items from USDA food list\n",
    "exclude=['juice', 'Juice', 'prepared', 'instant', 'Instant', 'cooked', 'boiled', 'microwave', 'canned', 'dehydrated', 'stewed', 'unheated']\n",
    "pattern = '|'.join(exclude)\n",
    "usda_fresh_veg_food=usda_food_df.loc[~(usda_food_df['Long_Desc'].str.contains(pattern, case=False))]"
   ]
  },
  {
   "cell_type": "code",
   "execution_count": 66,
   "metadata": {},
   "outputs": [
    {
     "data": {
      "text/plain": [
       "(2640, 15)"
      ]
     },
     "execution_count": 66,
     "metadata": {},
     "output_type": "execute_result"
    }
   ],
   "source": [
    "# Shape of the usda_fresh_veg_food after eliminating the foods mentioned above\n",
    "usda_fresh_veg_food.shape"
   ]
  },
  {
   "cell_type": "code",
   "execution_count": 67,
   "metadata": {},
   "outputs": [
    {
     "data": {
      "text/plain": [
       "(644125, 22)"
      ]
     },
     "execution_count": 67,
     "metadata": {},
     "output_type": "execute_result"
    }
   ],
   "source": [
    "# nutrition data frame\n",
    "nutr_data_df.shape"
   ]
  },
  {
   "cell_type": "markdown",
   "metadata": {},
   "source": [
    "#### Identify only certain Nutrients (listed in pattern below) and their units"
   ]
  },
  {
   "cell_type": "code",
   "execution_count": 68,
   "metadata": {},
   "outputs": [],
   "source": [
    "# Identify only certain Nutrients (listed in pattern) and their units \n",
    "# Create a new DF with the specific columns\n",
    "pattern=['208','203','204','255','307','269','291','301','303','601','605','606','645','646']\n",
    "new_nutr_df=nutr_data_df[ (nutr_data_df['Nutr_No'].isin(pattern) )][['NDB_No','Nutr_No', 'Nutr_Val','Units','Tagname','NutrDesc']]\n",
    "new_nutr_df['NutrDescInUnits'] = new_nutr_df['NutrDesc'].str.cat(\" (\"+new_nutr_df['Units']+\")\")\n"
   ]
  },
  {
   "cell_type": "code",
   "execution_count": 69,
   "metadata": {},
   "outputs": [
    {
     "data": {
      "text/plain": [
       "(101119, 7)"
      ]
     },
     "execution_count": 69,
     "metadata": {},
     "output_type": "execute_result"
    }
   ],
   "source": [
    "# nutrition data frame shape after including specific nutrients\n",
    "new_nutr_df.shape"
   ]
  },
  {
   "cell_type": "code",
   "execution_count": 70,
   "metadata": {},
   "outputs": [
    {
     "data": {
      "text/plain": [
       "255    7793\n",
       "208    7793\n",
       "204    7793\n",
       "203    7793\n",
       "303    7713\n",
       "307    7709\n",
       "301    7708\n",
       "606    7450\n",
       "601    7394\n",
       "646    7279\n",
       "645    7277\n",
       "291    7231\n",
       "269    6007\n",
       "605    4179\n",
       "Name: Nutr_No, dtype: int64"
      ]
     },
     "execution_count": 70,
     "metadata": {},
     "output_type": "execute_result"
    }
   ],
   "source": [
    "# value counts of specific nutrients from nutrition data frame\n",
    "new_nutr_df['Nutr_No'].value_counts()"
   ]
  },
  {
   "cell_type": "code",
   "execution_count": 71,
   "metadata": {
    "scrolled": true
   },
   "outputs": [
    {
     "data": {
      "text/html": [
       "<div>\n",
       "<style scoped>\n",
       "    .dataframe tbody tr th:only-of-type {\n",
       "        vertical-align: middle;\n",
       "    }\n",
       "\n",
       "    .dataframe tbody tr th {\n",
       "        vertical-align: top;\n",
       "    }\n",
       "\n",
       "    .dataframe thead th {\n",
       "        text-align: right;\n",
       "    }\n",
       "</style>\n",
       "<table border=\"1\" class=\"dataframe\">\n",
       "  <thead>\n",
       "    <tr style=\"text-align: right;\">\n",
       "      <th></th>\n",
       "      <th>NDB_No</th>\n",
       "      <th>Nutr_No</th>\n",
       "      <th>Nutr_Val</th>\n",
       "      <th>Units</th>\n",
       "      <th>Tagname</th>\n",
       "      <th>NutrDesc</th>\n",
       "      <th>NutrDescInUnits</th>\n",
       "    </tr>\n",
       "  </thead>\n",
       "  <tbody>\n",
       "    <tr>\n",
       "      <th>0</th>\n",
       "      <td>1001</td>\n",
       "      <td>208</td>\n",
       "      <td>717.0</td>\n",
       "      <td>kcal</td>\n",
       "      <td>ENERC_KCAL</td>\n",
       "      <td>Energy</td>\n",
       "      <td>Energy (kcal)</td>\n",
       "    </tr>\n",
       "    <tr>\n",
       "      <th>4</th>\n",
       "      <td>1001</td>\n",
       "      <td>301</td>\n",
       "      <td>24.0</td>\n",
       "      <td>mg</td>\n",
       "      <td>CA</td>\n",
       "      <td>Calcium, Ca</td>\n",
       "      <td>Calcium, Ca (mg)</td>\n",
       "    </tr>\n",
       "    <tr>\n",
       "      <th>8</th>\n",
       "      <td>1001</td>\n",
       "      <td>307</td>\n",
       "      <td>643.0</td>\n",
       "      <td>mg</td>\n",
       "      <td>NaN</td>\n",
       "      <td>Sodium, Na</td>\n",
       "      <td>Sodium, Na (mg)</td>\n",
       "    </tr>\n",
       "  </tbody>\n",
       "</table>\n",
       "</div>"
      ],
      "text/plain": [
       "   NDB_No  Nutr_No  Nutr_Val Units     Tagname     NutrDesc   NutrDescInUnits\n",
       "0    1001      208     717.0  kcal  ENERC_KCAL       Energy     Energy (kcal)\n",
       "4    1001      301      24.0    mg          CA  Calcium, Ca  Calcium, Ca (mg)\n",
       "8    1001      307     643.0    mg         NaN   Sodium, Na   Sodium, Na (mg)"
      ]
     },
     "execution_count": 71,
     "metadata": {},
     "output_type": "execute_result"
    }
   ],
   "source": [
    "new_nutr_df.head(3)"
   ]
  },
  {
   "cell_type": "code",
   "execution_count": 72,
   "metadata": {},
   "outputs": [],
   "source": [
    "# Using the Pivot functionality, change the colums and rows, display nutrient information for each NDB_No.\n",
    "new_nutr_piv_df=new_nutr_df.pivot(index = 'NDB_No', columns = 'NutrDescInUnits', values = 'Nutr_Val')"
   ]
  },
  {
   "cell_type": "code",
   "execution_count": 73,
   "metadata": {},
   "outputs": [
    {
     "data": {
      "text/html": [
       "<div>\n",
       "<style scoped>\n",
       "    .dataframe tbody tr th:only-of-type {\n",
       "        vertical-align: middle;\n",
       "    }\n",
       "\n",
       "    .dataframe tbody tr th {\n",
       "        vertical-align: top;\n",
       "    }\n",
       "\n",
       "    .dataframe thead th {\n",
       "        text-align: right;\n",
       "    }\n",
       "</style>\n",
       "<table border=\"1\" class=\"dataframe\">\n",
       "  <thead>\n",
       "    <tr style=\"text-align: right;\">\n",
       "      <th>NutrDescInUnits</th>\n",
       "      <th>Calcium, Ca (mg)</th>\n",
       "      <th>Cholesterol (mg)</th>\n",
       "      <th>Energy (kcal)</th>\n",
       "      <th>Fatty acids, total monounsaturated (g)</th>\n",
       "      <th>Fatty acids, total polyunsaturated (g)</th>\n",
       "      <th>Fatty acids, total saturated (g)</th>\n",
       "      <th>Fatty acids, total trans (g)</th>\n",
       "      <th>Fiber, total dietary (g)</th>\n",
       "      <th>Iron, Fe (mg)</th>\n",
       "      <th>Protein (g)</th>\n",
       "      <th>Sodium, Na (mg)</th>\n",
       "      <th>Sugars, total (g)</th>\n",
       "      <th>Total lipid (fat) (g)</th>\n",
       "      <th>Water (g)</th>\n",
       "    </tr>\n",
       "    <tr>\n",
       "      <th>NDB_No</th>\n",
       "      <th></th>\n",
       "      <th></th>\n",
       "      <th></th>\n",
       "      <th></th>\n",
       "      <th></th>\n",
       "      <th></th>\n",
       "      <th></th>\n",
       "      <th></th>\n",
       "      <th></th>\n",
       "      <th></th>\n",
       "      <th></th>\n",
       "      <th></th>\n",
       "      <th></th>\n",
       "      <th></th>\n",
       "    </tr>\n",
       "  </thead>\n",
       "  <tbody>\n",
       "    <tr>\n",
       "      <th>1001</th>\n",
       "      <td>24.0</td>\n",
       "      <td>215.0</td>\n",
       "      <td>717.0</td>\n",
       "      <td>21.021</td>\n",
       "      <td>3.043</td>\n",
       "      <td>51.368</td>\n",
       "      <td>3.278</td>\n",
       "      <td>0.0</td>\n",
       "      <td>0.02</td>\n",
       "      <td>0.85</td>\n",
       "      <td>643.0</td>\n",
       "      <td>0.06</td>\n",
       "      <td>81.11</td>\n",
       "      <td>16.17</td>\n",
       "    </tr>\n",
       "    <tr>\n",
       "      <th>1002</th>\n",
       "      <td>23.0</td>\n",
       "      <td>225.0</td>\n",
       "      <td>731.0</td>\n",
       "      <td>19.874</td>\n",
       "      <td>3.331</td>\n",
       "      <td>45.390</td>\n",
       "      <td>2.669</td>\n",
       "      <td>0.0</td>\n",
       "      <td>0.05</td>\n",
       "      <td>0.49</td>\n",
       "      <td>583.0</td>\n",
       "      <td>0.06</td>\n",
       "      <td>78.30</td>\n",
       "      <td>16.72</td>\n",
       "    </tr>\n",
       "    <tr>\n",
       "      <th>1003</th>\n",
       "      <td>4.0</td>\n",
       "      <td>256.0</td>\n",
       "      <td>876.0</td>\n",
       "      <td>28.732</td>\n",
       "      <td>3.694</td>\n",
       "      <td>61.924</td>\n",
       "      <td>NaN</td>\n",
       "      <td>0.0</td>\n",
       "      <td>0.00</td>\n",
       "      <td>0.28</td>\n",
       "      <td>2.0</td>\n",
       "      <td>0.00</td>\n",
       "      <td>99.48</td>\n",
       "      <td>0.24</td>\n",
       "    </tr>\n",
       "  </tbody>\n",
       "</table>\n",
       "</div>"
      ],
      "text/plain": [
       "NutrDescInUnits  Calcium, Ca (mg)  Cholesterol (mg)  Energy (kcal)  Fatty acids, total monounsaturated (g)  Fatty acids, total polyunsaturated (g)  Fatty acids, total saturated (g)  Fatty acids, total trans (g)  Fiber, total dietary (g)  Iron, Fe (mg)  Protein (g)  Sodium, Na (mg)  Sugars, total (g)  Total lipid (fat) (g)  Water (g)\n",
       "NDB_No                                                                                                                                                                                                                                                                                                                                        \n",
       "1001                         24.0             215.0          717.0                                  21.021                                   3.043                            51.368                         3.278                       0.0           0.02         0.85            643.0               0.06                  81.11      16.17\n",
       "1002                         23.0             225.0          731.0                                  19.874                                   3.331                            45.390                         2.669                       0.0           0.05         0.49            583.0               0.06                  78.30      16.72\n",
       "1003                          4.0             256.0          876.0                                  28.732                                   3.694                            61.924                           NaN                       0.0           0.00         0.28              2.0               0.00                  99.48       0.24"
      ]
     },
     "execution_count": 73,
     "metadata": {},
     "output_type": "execute_result"
    }
   ],
   "source": [
    "new_nutr_piv_df.head(3)"
   ]
  },
  {
   "cell_type": "code",
   "execution_count": 74,
   "metadata": {},
   "outputs": [
    {
     "data": {
      "text/html": [
       "<div>\n",
       "<style scoped>\n",
       "    .dataframe tbody tr th:only-of-type {\n",
       "        vertical-align: middle;\n",
       "    }\n",
       "\n",
       "    .dataframe tbody tr th {\n",
       "        vertical-align: top;\n",
       "    }\n",
       "\n",
       "    .dataframe thead th {\n",
       "        text-align: right;\n",
       "    }\n",
       "</style>\n",
       "<table border=\"1\" class=\"dataframe\">\n",
       "  <thead>\n",
       "    <tr style=\"text-align: right;\">\n",
       "      <th></th>\n",
       "      <th>NDB_No</th>\n",
       "      <th>Long_Desc</th>\n",
       "      <th>product_id</th>\n",
       "      <th>product_name</th>\n",
       "    </tr>\n",
       "  </thead>\n",
       "  <tbody>\n",
       "  </tbody>\n",
       "</table>\n",
       "</div>"
      ],
      "text/plain": [
       "Empty DataFrame\n",
       "Columns: [NDB_No, Long_Desc, product_id, product_name]\n",
       "Index: []"
      ]
     },
     "execution_count": 74,
     "metadata": {},
     "output_type": "execute_result"
    }
   ],
   "source": [
    "# create an empty dataframe, with the intention to append data later on.\n",
    "#  This dataframe would contain the USDA NDB_No, Long Description of food and also the InstaCart's Product_ID and Product Name\n",
    "columns =['NDB_No','Long_Desc','product_id','product_name' ]\n",
    "usda_insta_df=pd.DataFrame(columns = columns)\n",
    "usda_insta_df.head()\n",
    "\n"
   ]
  },
  {
   "cell_type": "code",
   "execution_count": 75,
   "metadata": {},
   "outputs": [
    {
     "data": {
      "text/plain": [
       "(5647220, 15)"
      ]
     },
     "execution_count": 75,
     "metadata": {},
     "output_type": "execute_result"
    }
   ],
   "source": [
    "# Review the shape of the InstaCart's veg foods dataframe\n",
    "only_vegetarian_df.shape\n",
    "    "
   ]
  },
  {
   "cell_type": "code",
   "execution_count": 76,
   "metadata": {},
   "outputs": [
    {
     "data": {
      "text/plain": [
       "Index(['order_id', 'product_id', 'add_to_cart_order', 'reordered', 'product_name', 'aisle_id', 'department_id', 'user_id', 'eval_set', 'order_number', 'order_dow', 'order_hour_of_day', 'days_since_prior_order', 'department', 'aisle'], dtype='object')"
      ]
     },
     "execution_count": 76,
     "metadata": {},
     "output_type": "execute_result"
    }
   ],
   "source": [
    "# Number of columns from the InstaCart's Veg foods dataframe\n",
    "only_vegetarian_df.columns"
   ]
  },
  {
   "cell_type": "code",
   "execution_count": 77,
   "metadata": {},
   "outputs": [],
   "source": [
    "# get distinct product_id and product_name values from the only_vegetarian_df (from instacart data)\n",
    "veg_prod_unique_df = only_vegetarian_df[['product_id','product_name']]"
   ]
  },
  {
   "cell_type": "code",
   "execution_count": 78,
   "metadata": {},
   "outputs": [
    {
     "data": {
      "text/plain": [
       "(5647220, 2)"
      ]
     },
     "execution_count": 78,
     "metadata": {},
     "output_type": "execute_result"
    }
   ],
   "source": [
    "veg_prod_unique_df.shape"
   ]
  },
  {
   "cell_type": "code",
   "execution_count": 79,
   "metadata": {},
   "outputs": [
    {
     "data": {
      "text/plain": [
       "(27260, 2)"
      ]
     },
     "execution_count": 79,
     "metadata": {},
     "output_type": "execute_result"
    }
   ],
   "source": [
    "# to get the distinct product_id and product_name, drop duplicates\n",
    "veg_prod_unique_df=veg_prod_unique_df.drop_duplicates()\n",
    "veg_prod_unique_df.shape"
   ]
  },
  {
   "cell_type": "code",
   "execution_count": 80,
   "metadata": {
    "scrolled": true
   },
   "outputs": [
    {
     "data": {
      "text/html": [
       "<div>\n",
       "<style scoped>\n",
       "    .dataframe tbody tr th:only-of-type {\n",
       "        vertical-align: middle;\n",
       "    }\n",
       "\n",
       "    .dataframe tbody tr th {\n",
       "        vertical-align: top;\n",
       "    }\n",
       "\n",
       "    .dataframe thead th {\n",
       "        text-align: right;\n",
       "    }\n",
       "</style>\n",
       "<table border=\"1\" class=\"dataframe\">\n",
       "  <thead>\n",
       "    <tr style=\"text-align: right;\">\n",
       "      <th></th>\n",
       "      <th>product_id</th>\n",
       "      <th>product_name</th>\n",
       "    </tr>\n",
       "  </thead>\n",
       "  <tbody>\n",
       "    <tr>\n",
       "      <th>25935941</th>\n",
       "      <td>21351</td>\n",
       "      <td>Nutri-Grain Soft Baked Strawberry Cereal Break...</td>\n",
       "    </tr>\n",
       "    <tr>\n",
       "      <th>22482283</th>\n",
       "      <td>17616</td>\n",
       "      <td>Goldfish Cheddar Baked Snack Crackers</td>\n",
       "    </tr>\n",
       "    <tr>\n",
       "      <th>23128877</th>\n",
       "      <td>39758</td>\n",
       "      <td>Chewy 25% Low Sugar Chocolate Chip Granola</td>\n",
       "    </tr>\n",
       "  </tbody>\n",
       "</table>\n",
       "</div>"
      ],
      "text/plain": [
       "          product_id                                       product_name\n",
       "25935941       21351  Nutri-Grain Soft Baked Strawberry Cereal Break...\n",
       "22482283       17616              Goldfish Cheddar Baked Snack Crackers\n",
       "23128877       39758         Chewy 25% Low Sugar Chocolate Chip Granola"
      ]
     },
     "execution_count": 80,
     "metadata": {},
     "output_type": "execute_result"
    }
   ],
   "source": [
    "veg_prod_unique_df.head(3)"
   ]
  },
  {
   "cell_type": "code",
   "execution_count": 81,
   "metadata": {},
   "outputs": [
    {
     "data": {
      "text/plain": [
       "10631045                               BAG OF ORGANIC BANANAS\n",
       "31945715                     BABY FOOD STAGE 2 PUMPKIN BANANA\n",
       "14042081                                       ORGANIC BANANA\n",
       "25084873                     GRANOLA, CLUSTERS, BANANA WALNUT\n",
       "18280237    GLUTEN FREE DARK CHOCOLATE COVERED CREAMY BANA...\n",
       "Name: product_name, dtype: object"
      ]
     },
     "execution_count": 81,
     "metadata": {},
     "output_type": "execute_result"
    }
   ],
   "source": [
    "veg_prod_unique_df[veg_prod_unique_df['product_name'].str.find('Banana')>0]['product_name'].str.upper().head()"
   ]
  },
  {
   "cell_type": "code",
   "execution_count": 82,
   "metadata": {},
   "outputs": [],
   "source": [
    "# further exclude some of the prepare or instant food items from Instacart's food list\n",
    "exclude=['juice', 'Juice', 'Cereal','prepared', 'instant', 'Instant', 'cooked', 'boiled', 'microwave', 'canned', 'dehydrated', 'stewed', 'unheated']\n",
    "pattern = '|'.join(exclude)\n",
    "veg_prod_unique_df=veg_prod_unique_df.loc[~(veg_prod_unique_df['product_name'].str.contains(pattern, case=False))]\n"
   ]
  },
  {
   "cell_type": "code",
   "execution_count": 83,
   "metadata": {},
   "outputs": [
    {
     "data": {
      "text/plain": [
       "(26430, 2)"
      ]
     },
     "execution_count": 83,
     "metadata": {},
     "output_type": "execute_result"
    }
   ],
   "source": [
    "# review the shape of veg_prod_unique_df after exclusion\n",
    "veg_prod_unique_df.shape"
   ]
  },
  {
   "cell_type": "code",
   "execution_count": 84,
   "metadata": {},
   "outputs": [
    {
     "data": {
      "text/plain": [
       "(2640, 15)"
      ]
     },
     "execution_count": 84,
     "metadata": {},
     "output_type": "execute_result"
    }
   ],
   "source": [
    "# Shape of the usda_fresh_veg_food after eliminating the foods mentioned above\n",
    "usda_fresh_veg_food.shape"
   ]
  },
  {
   "cell_type": "markdown",
   "metadata": {},
   "source": [
    "### Loop through customized USDA Food data and InstaCart's food data and match food items using string match "
   ]
  },
  {
   "cell_type": "code",
   "execution_count": 85,
   "metadata": {
    "scrolled": true
   },
   "outputs": [
    {
     "data": {
      "text/html": [
       "<div>\n",
       "<style scoped>\n",
       "    .dataframe tbody tr th:only-of-type {\n",
       "        vertical-align: middle;\n",
       "    }\n",
       "\n",
       "    .dataframe tbody tr th {\n",
       "        vertical-align: top;\n",
       "    }\n",
       "\n",
       "    .dataframe thead th {\n",
       "        text-align: right;\n",
       "    }\n",
       "</style>\n",
       "<table border=\"1\" class=\"dataframe\">\n",
       "  <thead>\n",
       "    <tr style=\"text-align: right;\">\n",
       "      <th></th>\n",
       "      <th>NDB_No</th>\n",
       "      <th>Long_Desc</th>\n",
       "      <th>product_id</th>\n",
       "      <th>product_name</th>\n",
       "    </tr>\n",
       "  </thead>\n",
       "  <tbody>\n",
       "    <tr>\n",
       "      <th>0</th>\n",
       "      <td>1119</td>\n",
       "      <td>Yogurt, vanilla, low fat.</td>\n",
       "      <td>30442</td>\n",
       "      <td>Low Fat Vanilla Yogurt</td>\n",
       "    </tr>\n",
       "    <tr>\n",
       "      <th>1</th>\n",
       "      <td>1295</td>\n",
       "      <td>Yogurt, vanilla, non-fat</td>\n",
       "      <td>30442</td>\n",
       "      <td>Low Fat Vanilla Yogurt</td>\n",
       "    </tr>\n",
       "    <tr>\n",
       "      <th>2</th>\n",
       "      <td>1179</td>\n",
       "      <td>Sour cream, light</td>\n",
       "      <td>26172</td>\n",
       "      <td>Light Sour Cream</td>\n",
       "    </tr>\n",
       "    <tr>\n",
       "      <th>3</th>\n",
       "      <td>1001</td>\n",
       "      <td>Butter, salted</td>\n",
       "      <td>42736</td>\n",
       "      <td>Unsalted Butter</td>\n",
       "    </tr>\n",
       "    <tr>\n",
       "      <th>4</th>\n",
       "      <td>19335</td>\n",
       "      <td>Sugars, granulated</td>\n",
       "      <td>26152</td>\n",
       "      <td>Granulated Sugar</td>\n",
       "    </tr>\n",
       "  </tbody>\n",
       "</table>\n",
       "</div>"
      ],
      "text/plain": [
       "  NDB_No                  Long_Desc product_id            product_name\n",
       "0   1119  Yogurt, vanilla, low fat.      30442  Low Fat Vanilla Yogurt\n",
       "1   1295   Yogurt, vanilla, non-fat      30442  Low Fat Vanilla Yogurt\n",
       "2   1179          Sour cream, light      26172        Light Sour Cream\n",
       "3   1001             Butter, salted      42736         Unsalted Butter\n",
       "4  19335         Sugars, granulated      26152        Granulated Sugar"
      ]
     },
     "execution_count": 85,
     "metadata": {},
     "output_type": "execute_result"
    }
   ],
   "source": [
    "# Create a new dataframe with NDB_No, Long_Desc, product_id and product_name using Fuzzy Match\n",
    "# This results in a dataframe that contains instacart product mapped to USDA NDB_No.\n",
    "\n",
    "for prod,prod_row in enumerate(veg_prod_unique_df.itertuples(),1):\n",
    "    for food,food_row in enumerate(usda_fresh_veg_food.itertuples(),1):\n",
    "        if (fuzz.token_sort_ratio(food_row.Long_Desc.upper(), prod_row.product_name.upper()))>90:\n",
    "#             print(food_row.NDB_No,  food_row.Long_Desc, prod_row.product_id, prod_row.product_name)\n",
    "            usda_insta_df = usda_insta_df.append(\n",
    "                            pd.DataFrame({'NDB_No':food_row.NDB_No, \n",
    "                                          'Long_Desc': food_row.Long_Desc,\n",
    "                                          'product_id': prod_row.product_id,\n",
    "                                          'product_name': prod_row.product_name\n",
    "                                         } , index=[0]), ignore_index=True)\n",
    "\n",
    "            \n",
    "usda_insta_df.head()"
   ]
  },
  {
   "cell_type": "markdown",
   "metadata": {},
   "source": [
    "#### This resulting data frame has Instacart's Product names listed with the respective NDB Numbers from USDA"
   ]
  },
  {
   "cell_type": "code",
   "execution_count": 86,
   "metadata": {},
   "outputs": [
    {
     "data": {
      "text/plain": [
       "(173, 4)"
      ]
     },
     "execution_count": 86,
     "metadata": {},
     "output_type": "execute_result"
    }
   ],
   "source": [
    "usda_insta_df.shape"
   ]
  },
  {
   "cell_type": "code",
   "execution_count": 87,
   "metadata": {
    "scrolled": false
   },
   "outputs": [
    {
     "data": {
      "text/html": [
       "<div>\n",
       "<style scoped>\n",
       "    .dataframe tbody tr th:only-of-type {\n",
       "        vertical-align: middle;\n",
       "    }\n",
       "\n",
       "    .dataframe tbody tr th {\n",
       "        vertical-align: top;\n",
       "    }\n",
       "\n",
       "    .dataframe thead th {\n",
       "        text-align: right;\n",
       "    }\n",
       "</style>\n",
       "<table border=\"1\" class=\"dataframe\">\n",
       "  <thead>\n",
       "    <tr style=\"text-align: right;\">\n",
       "      <th></th>\n",
       "      <th>NDB_No</th>\n",
       "      <th>Long_Desc</th>\n",
       "      <th>product_id</th>\n",
       "      <th>product_name</th>\n",
       "    </tr>\n",
       "  </thead>\n",
       "  <tbody>\n",
       "    <tr>\n",
       "      <th>0</th>\n",
       "      <td>1119</td>\n",
       "      <td>Yogurt, vanilla, low fat.</td>\n",
       "      <td>30442</td>\n",
       "      <td>Low Fat Vanilla Yogurt</td>\n",
       "    </tr>\n",
       "    <tr>\n",
       "      <th>1</th>\n",
       "      <td>1295</td>\n",
       "      <td>Yogurt, vanilla, non-fat</td>\n",
       "      <td>30442</td>\n",
       "      <td>Low Fat Vanilla Yogurt</td>\n",
       "    </tr>\n",
       "    <tr>\n",
       "      <th>2</th>\n",
       "      <td>1179</td>\n",
       "      <td>Sour cream, light</td>\n",
       "      <td>26172</td>\n",
       "      <td>Light Sour Cream</td>\n",
       "    </tr>\n",
       "    <tr>\n",
       "      <th>3</th>\n",
       "      <td>1001</td>\n",
       "      <td>Butter, salted</td>\n",
       "      <td>42736</td>\n",
       "      <td>Unsalted Butter</td>\n",
       "    </tr>\n",
       "    <tr>\n",
       "      <th>4</th>\n",
       "      <td>19335</td>\n",
       "      <td>Sugars, granulated</td>\n",
       "      <td>26152</td>\n",
       "      <td>Granulated Sugar</td>\n",
       "    </tr>\n",
       "    <tr>\n",
       "      <th>5</th>\n",
       "      <td>11658</td>\n",
       "      <td>Spinach souffle</td>\n",
       "      <td>29116</td>\n",
       "      <td>Spinach Souffle</td>\n",
       "    </tr>\n",
       "    <tr>\n",
       "      <th>6</th>\n",
       "      <td>19296</td>\n",
       "      <td>Honey</td>\n",
       "      <td>49588</td>\n",
       "      <td>Honey</td>\n",
       "    </tr>\n",
       "    <tr>\n",
       "      <th>7</th>\n",
       "      <td>1146</td>\n",
       "      <td>Cheese, parmesan, shredded</td>\n",
       "      <td>25919</td>\n",
       "      <td>Parmesan Shredded Cheese</td>\n",
       "    </tr>\n",
       "    <tr>\n",
       "      <th>8</th>\n",
       "      <td>1117</td>\n",
       "      <td>Yogurt, plain, low fat</td>\n",
       "      <td>7054</td>\n",
       "      <td>Low Fat Plain Yogurt</td>\n",
       "    </tr>\n",
       "    <tr>\n",
       "      <th>9</th>\n",
       "      <td>18349</td>\n",
       "      <td>Rolls, french</td>\n",
       "      <td>517</td>\n",
       "      <td>French Rolls</td>\n",
       "    </tr>\n",
       "  </tbody>\n",
       "</table>\n",
       "</div>"
      ],
      "text/plain": [
       "  NDB_No                   Long_Desc product_id              product_name\n",
       "0   1119   Yogurt, vanilla, low fat.      30442    Low Fat Vanilla Yogurt\n",
       "1   1295    Yogurt, vanilla, non-fat      30442    Low Fat Vanilla Yogurt\n",
       "2   1179           Sour cream, light      26172          Light Sour Cream\n",
       "3   1001              Butter, salted      42736           Unsalted Butter\n",
       "4  19335          Sugars, granulated      26152          Granulated Sugar\n",
       "5  11658             Spinach souffle      29116           Spinach Souffle\n",
       "6  19296                       Honey      49588                     Honey\n",
       "7   1146  Cheese, parmesan, shredded      25919  Parmesan Shredded Cheese\n",
       "8   1117      Yogurt, plain, low fat       7054      Low Fat Plain Yogurt\n",
       "9  18349               Rolls, french        517              French Rolls"
      ]
     },
     "execution_count": 87,
     "metadata": {},
     "output_type": "execute_result"
    }
   ],
   "source": [
    "usda_insta_df.head(10)"
   ]
  },
  {
   "cell_type": "markdown",
   "metadata": {},
   "source": [
    "#### 'butter,salted' and 'butter, unsalted' fuzzy string match could not differentiate."
   ]
  },
  {
   "cell_type": "code",
   "execution_count": 88,
   "metadata": {},
   "outputs": [
    {
     "data": {
      "text/html": [
       "<div>\n",
       "<style scoped>\n",
       "    .dataframe tbody tr th:only-of-type {\n",
       "        vertical-align: middle;\n",
       "    }\n",
       "\n",
       "    .dataframe tbody tr th {\n",
       "        vertical-align: top;\n",
       "    }\n",
       "\n",
       "    .dataframe thead th {\n",
       "        text-align: right;\n",
       "    }\n",
       "</style>\n",
       "<table border=\"1\" class=\"dataframe\">\n",
       "  <thead>\n",
       "    <tr style=\"text-align: right;\">\n",
       "      <th>NutrDescInUnits</th>\n",
       "      <th>Calcium, Ca (mg)</th>\n",
       "      <th>Cholesterol (mg)</th>\n",
       "      <th>Energy (kcal)</th>\n",
       "      <th>Fatty acids, total monounsaturated (g)</th>\n",
       "      <th>Fatty acids, total polyunsaturated (g)</th>\n",
       "      <th>Fatty acids, total saturated (g)</th>\n",
       "      <th>Fatty acids, total trans (g)</th>\n",
       "      <th>Fiber, total dietary (g)</th>\n",
       "      <th>Iron, Fe (mg)</th>\n",
       "      <th>Protein (g)</th>\n",
       "      <th>Sodium, Na (mg)</th>\n",
       "      <th>Sugars, total (g)</th>\n",
       "      <th>Total lipid (fat) (g)</th>\n",
       "      <th>Water (g)</th>\n",
       "    </tr>\n",
       "    <tr>\n",
       "      <th>NDB_No</th>\n",
       "      <th></th>\n",
       "      <th></th>\n",
       "      <th></th>\n",
       "      <th></th>\n",
       "      <th></th>\n",
       "      <th></th>\n",
       "      <th></th>\n",
       "      <th></th>\n",
       "      <th></th>\n",
       "      <th></th>\n",
       "      <th></th>\n",
       "      <th></th>\n",
       "      <th></th>\n",
       "      <th></th>\n",
       "    </tr>\n",
       "  </thead>\n",
       "  <tbody>\n",
       "    <tr>\n",
       "      <th>1001</th>\n",
       "      <td>24.0</td>\n",
       "      <td>215.0</td>\n",
       "      <td>717.0</td>\n",
       "      <td>21.021</td>\n",
       "      <td>3.043</td>\n",
       "      <td>51.368</td>\n",
       "      <td>3.278</td>\n",
       "      <td>0.0</td>\n",
       "      <td>0.02</td>\n",
       "      <td>0.85</td>\n",
       "      <td>643.0</td>\n",
       "      <td>0.06</td>\n",
       "      <td>81.11</td>\n",
       "      <td>16.17</td>\n",
       "    </tr>\n",
       "    <tr>\n",
       "      <th>1002</th>\n",
       "      <td>23.0</td>\n",
       "      <td>225.0</td>\n",
       "      <td>731.0</td>\n",
       "      <td>19.874</td>\n",
       "      <td>3.331</td>\n",
       "      <td>45.390</td>\n",
       "      <td>2.669</td>\n",
       "      <td>0.0</td>\n",
       "      <td>0.05</td>\n",
       "      <td>0.49</td>\n",
       "      <td>583.0</td>\n",
       "      <td>0.06</td>\n",
       "      <td>78.30</td>\n",
       "      <td>16.72</td>\n",
       "    </tr>\n",
       "    <tr>\n",
       "      <th>1003</th>\n",
       "      <td>4.0</td>\n",
       "      <td>256.0</td>\n",
       "      <td>876.0</td>\n",
       "      <td>28.732</td>\n",
       "      <td>3.694</td>\n",
       "      <td>61.924</td>\n",
       "      <td>NaN</td>\n",
       "      <td>0.0</td>\n",
       "      <td>0.00</td>\n",
       "      <td>0.28</td>\n",
       "      <td>2.0</td>\n",
       "      <td>0.00</td>\n",
       "      <td>99.48</td>\n",
       "      <td>0.24</td>\n",
       "    </tr>\n",
       "    <tr>\n",
       "      <th>1004</th>\n",
       "      <td>528.0</td>\n",
       "      <td>75.0</td>\n",
       "      <td>353.0</td>\n",
       "      <td>7.778</td>\n",
       "      <td>0.800</td>\n",
       "      <td>18.669</td>\n",
       "      <td>NaN</td>\n",
       "      <td>0.0</td>\n",
       "      <td>0.31</td>\n",
       "      <td>21.40</td>\n",
       "      <td>1146.0</td>\n",
       "      <td>0.50</td>\n",
       "      <td>28.74</td>\n",
       "      <td>42.41</td>\n",
       "    </tr>\n",
       "    <tr>\n",
       "      <th>1005</th>\n",
       "      <td>674.0</td>\n",
       "      <td>94.0</td>\n",
       "      <td>371.0</td>\n",
       "      <td>8.598</td>\n",
       "      <td>0.784</td>\n",
       "      <td>18.764</td>\n",
       "      <td>NaN</td>\n",
       "      <td>0.0</td>\n",
       "      <td>0.43</td>\n",
       "      <td>23.24</td>\n",
       "      <td>560.0</td>\n",
       "      <td>0.51</td>\n",
       "      <td>29.68</td>\n",
       "      <td>41.11</td>\n",
       "    </tr>\n",
       "  </tbody>\n",
       "</table>\n",
       "</div>"
      ],
      "text/plain": [
       "NutrDescInUnits  Calcium, Ca (mg)  Cholesterol (mg)  Energy (kcal)  Fatty acids, total monounsaturated (g)  Fatty acids, total polyunsaturated (g)  Fatty acids, total saturated (g)  Fatty acids, total trans (g)  Fiber, total dietary (g)  Iron, Fe (mg)  Protein (g)  Sodium, Na (mg)  Sugars, total (g)  Total lipid (fat) (g)  Water (g)\n",
       "NDB_No                                                                                                                                                                                                                                                                                                                                        \n",
       "1001                         24.0             215.0          717.0                                  21.021                                   3.043                            51.368                         3.278                       0.0           0.02         0.85            643.0               0.06                  81.11      16.17\n",
       "1002                         23.0             225.0          731.0                                  19.874                                   3.331                            45.390                         2.669                       0.0           0.05         0.49            583.0               0.06                  78.30      16.72\n",
       "1003                          4.0             256.0          876.0                                  28.732                                   3.694                            61.924                           NaN                       0.0           0.00         0.28              2.0               0.00                  99.48       0.24\n",
       "1004                        528.0              75.0          353.0                                   7.778                                   0.800                            18.669                           NaN                       0.0           0.31        21.40           1146.0               0.50                  28.74      42.41\n",
       "1005                        674.0              94.0          371.0                                   8.598                                   0.784                            18.764                           NaN                       0.0           0.43        23.24            560.0               0.51                  29.68      41.11"
      ]
     },
     "execution_count": 88,
     "metadata": {},
     "output_type": "execute_result"
    }
   ],
   "source": [
    "new_nutr_piv_df.head()"
   ]
  },
  {
   "cell_type": "code",
   "execution_count": 89,
   "metadata": {},
   "outputs": [
    {
     "data": {
      "text/plain": [
       "NutrDescInUnits\n",
       "Calcium, Ca (mg)                           24.000\n",
       "Cholesterol (mg)                          215.000\n",
       "Energy (kcal)                             717.000\n",
       "Fatty acids, total monounsaturated (g)     21.021\n",
       "Fatty acids, total polyunsaturated (g)      3.043\n",
       "Fatty acids, total saturated (g)           51.368\n",
       "Fatty acids, total trans (g)                3.278\n",
       "Fiber, total dietary (g)                    0.000\n",
       "Iron, Fe (mg)                               0.020\n",
       "Protein (g)                                 0.850\n",
       "Sodium, Na (mg)                           643.000\n",
       "Sugars, total (g)                           0.060\n",
       "Total lipid (fat) (g)                      81.110\n",
       "Water (g)                                  16.170\n",
       "Name: 1001, dtype: float64"
      ]
     },
     "execution_count": 89,
     "metadata": {},
     "output_type": "execute_result"
    }
   ],
   "source": [
    "# using loc\n",
    "# nutrient information for a specific NDB number--> 1001\n",
    "new_nutr_piv_df.loc[1001]"
   ]
  },
  {
   "cell_type": "code",
   "execution_count": 90,
   "metadata": {},
   "outputs": [
    {
     "data": {
      "text/plain": [
       "NutrDescInUnits\n",
       "Calcium, Ca (mg)                           24.000\n",
       "Cholesterol (mg)                          215.000\n",
       "Energy (kcal)                             717.000\n",
       "Fatty acids, total monounsaturated (g)     21.021\n",
       "Fatty acids, total polyunsaturated (g)      3.043\n",
       "Fatty acids, total saturated (g)           51.368\n",
       "Fatty acids, total trans (g)                3.278\n",
       "Fiber, total dietary (g)                    0.000\n",
       "Iron, Fe (mg)                               0.020\n",
       "Protein (g)                                 0.850\n",
       "Sodium, Na (mg)                           643.000\n",
       "Sugars, total (g)                           0.060\n",
       "Total lipid (fat) (g)                      81.110\n",
       "Water (g)                                  16.170\n",
       "Name: 1001, dtype: float64"
      ]
     },
     "execution_count": 90,
     "metadata": {},
     "output_type": "execute_result"
    }
   ],
   "source": [
    "# using iloc\n",
    "new_nutr_piv_df.iloc[0]"
   ]
  },
  {
   "cell_type": "code",
   "execution_count": 91,
   "metadata": {},
   "outputs": [
    {
     "data": {
      "text/plain": [
       "NutrDescInUnits\n",
       "Calcium, Ca (mg)                          120.00\n",
       "Cholesterol (mg)                           29.00\n",
       "Energy (kcal)                             192.00\n",
       "Fatty acids, total monounsaturated (g)       NaN\n",
       "Fatty acids, total polyunsaturated (g)       NaN\n",
       "Fatty acids, total saturated (g)            5.19\n",
       "Fatty acids, total trans (g)                 NaN\n",
       "Fiber, total dietary (g)                    0.90\n",
       "Iron, Fe (mg)                               0.21\n",
       "Protein (g)                                 3.20\n",
       "Sodium, Na (mg)                            60.00\n",
       "Sugars, total (g)                            NaN\n",
       "Total lipid (fat) (g)                       8.40\n",
       "Water (g)                                  60.00\n",
       "Name: 19271, dtype: float64"
      ]
     },
     "execution_count": 91,
     "metadata": {},
     "output_type": "execute_result"
    }
   ],
   "source": [
    "# 19271\tIce creams, strawberry\t40002\tStrawberry Ice Cream\n",
    "new_nutr_piv_df.loc[19271]\n"
   ]
  },
  {
   "cell_type": "code",
   "execution_count": 92,
   "metadata": {},
   "outputs": [],
   "source": [
    "# merging instacart's product information and USDA's nutrient information\n",
    "usda_instacart_nutr_df = (usda_insta_df \n",
    "                                .merge(new_nutr_piv_df, on=\"NDB_No\"))"
   ]
  },
  {
   "cell_type": "code",
   "execution_count": 93,
   "metadata": {},
   "outputs": [
    {
     "data": {
      "text/plain": [
       "(173, 18)"
      ]
     },
     "execution_count": 93,
     "metadata": {},
     "output_type": "execute_result"
    }
   ],
   "source": [
    "usda_instacart_nutr_df.shape"
   ]
  },
  {
   "cell_type": "code",
   "execution_count": 94,
   "metadata": {},
   "outputs": [
    {
     "data": {
      "text/html": [
       "<div>\n",
       "<style scoped>\n",
       "    .dataframe tbody tr th:only-of-type {\n",
       "        vertical-align: middle;\n",
       "    }\n",
       "\n",
       "    .dataframe tbody tr th {\n",
       "        vertical-align: top;\n",
       "    }\n",
       "\n",
       "    .dataframe thead th {\n",
       "        text-align: right;\n",
       "    }\n",
       "</style>\n",
       "<table border=\"1\" class=\"dataframe\">\n",
       "  <thead>\n",
       "    <tr style=\"text-align: right;\">\n",
       "      <th></th>\n",
       "      <th>NDB_No</th>\n",
       "      <th>Long_Desc</th>\n",
       "      <th>product_id</th>\n",
       "      <th>product_name</th>\n",
       "      <th>Calcium, Ca (mg)</th>\n",
       "      <th>Cholesterol (mg)</th>\n",
       "      <th>Energy (kcal)</th>\n",
       "      <th>Fatty acids, total monounsaturated (g)</th>\n",
       "      <th>Fatty acids, total polyunsaturated (g)</th>\n",
       "      <th>Fatty acids, total saturated (g)</th>\n",
       "      <th>Fatty acids, total trans (g)</th>\n",
       "      <th>Fiber, total dietary (g)</th>\n",
       "      <th>Iron, Fe (mg)</th>\n",
       "      <th>Protein (g)</th>\n",
       "      <th>Sodium, Na (mg)</th>\n",
       "      <th>Sugars, total (g)</th>\n",
       "      <th>Total lipid (fat) (g)</th>\n",
       "      <th>Water (g)</th>\n",
       "    </tr>\n",
       "  </thead>\n",
       "  <tbody>\n",
       "  </tbody>\n",
       "</table>\n",
       "</div>"
      ],
      "text/plain": [
       "Empty DataFrame\n",
       "Columns: [NDB_No, Long_Desc, product_id, product_name, Calcium, Ca (mg), Cholesterol (mg), Energy (kcal), Fatty acids, total monounsaturated (g), Fatty acids, total polyunsaturated (g), Fatty acids, total saturated (g), Fatty acids, total trans (g), Fiber, total dietary (g), Iron, Fe (mg), Protein (g), Sodium, Na (mg), Sugars, total (g), Total lipid (fat) (g), Water (g)]\n",
       "Index: []"
      ]
     },
     "execution_count": 94,
     "metadata": {},
     "output_type": "execute_result"
    }
   ],
   "source": [
    "# find duplicates\n",
    "usda_instacart_nutr_df[usda_instacart_nutr_df.duplicated()].head()"
   ]
  },
  {
   "cell_type": "code",
   "execution_count": 95,
   "metadata": {},
   "outputs": [],
   "source": [
    "#  drop duplicates\n",
    "usda_instacart_nutr_df=usda_instacart_nutr_df.drop_duplicates()"
   ]
  },
  {
   "cell_type": "code",
   "execution_count": 96,
   "metadata": {},
   "outputs": [
    {
     "data": {
      "text/plain": [
       "(173, 18)"
      ]
     },
     "execution_count": 96,
     "metadata": {},
     "output_type": "execute_result"
    }
   ],
   "source": [
    "# review the shape after dropping duplicates\n",
    "usda_instacart_nutr_df.shape"
   ]
  },
  {
   "cell_type": "code",
   "execution_count": 97,
   "metadata": {},
   "outputs": [
    {
     "data": {
      "text/html": [
       "<div>\n",
       "<style scoped>\n",
       "    .dataframe tbody tr th:only-of-type {\n",
       "        vertical-align: middle;\n",
       "    }\n",
       "\n",
       "    .dataframe tbody tr th {\n",
       "        vertical-align: top;\n",
       "    }\n",
       "\n",
       "    .dataframe thead th {\n",
       "        text-align: right;\n",
       "    }\n",
       "</style>\n",
       "<table border=\"1\" class=\"dataframe\">\n",
       "  <thead>\n",
       "    <tr style=\"text-align: right;\">\n",
       "      <th></th>\n",
       "      <th>NDB_No</th>\n",
       "      <th>Long_Desc</th>\n",
       "      <th>product_id</th>\n",
       "      <th>product_name</th>\n",
       "      <th>Calcium, Ca (mg)</th>\n",
       "      <th>Cholesterol (mg)</th>\n",
       "      <th>Energy (kcal)</th>\n",
       "      <th>Fatty acids, total monounsaturated (g)</th>\n",
       "      <th>Fatty acids, total polyunsaturated (g)</th>\n",
       "      <th>Fatty acids, total saturated (g)</th>\n",
       "      <th>Fatty acids, total trans (g)</th>\n",
       "      <th>Fiber, total dietary (g)</th>\n",
       "      <th>Iron, Fe (mg)</th>\n",
       "      <th>Protein (g)</th>\n",
       "      <th>Sodium, Na (mg)</th>\n",
       "      <th>Sugars, total (g)</th>\n",
       "      <th>Total lipid (fat) (g)</th>\n",
       "      <th>Water (g)</th>\n",
       "    </tr>\n",
       "  </thead>\n",
       "  <tbody>\n",
       "    <tr>\n",
       "      <th>0</th>\n",
       "      <td>1119</td>\n",
       "      <td>Yogurt, vanilla, low fat.</td>\n",
       "      <td>30442</td>\n",
       "      <td>Low Fat Vanilla Yogurt</td>\n",
       "      <td>171.0</td>\n",
       "      <td>5.0</td>\n",
       "      <td>85.0</td>\n",
       "      <td>0.343</td>\n",
       "      <td>0.036</td>\n",
       "      <td>0.806</td>\n",
       "      <td>NaN</td>\n",
       "      <td>0.0</td>\n",
       "      <td>0.07</td>\n",
       "      <td>4.93</td>\n",
       "      <td>66.0</td>\n",
       "      <td>13.80</td>\n",
       "      <td>1.25</td>\n",
       "      <td>79.0</td>\n",
       "    </tr>\n",
       "    <tr>\n",
       "      <th>1</th>\n",
       "      <td>1119</td>\n",
       "      <td>Yogurt, vanilla, low fat.</td>\n",
       "      <td>21387</td>\n",
       "      <td>Non-Fat Vanilla Yogurt</td>\n",
       "      <td>171.0</td>\n",
       "      <td>5.0</td>\n",
       "      <td>85.0</td>\n",
       "      <td>0.343</td>\n",
       "      <td>0.036</td>\n",
       "      <td>0.806</td>\n",
       "      <td>NaN</td>\n",
       "      <td>0.0</td>\n",
       "      <td>0.07</td>\n",
       "      <td>4.93</td>\n",
       "      <td>66.0</td>\n",
       "      <td>13.80</td>\n",
       "      <td>1.25</td>\n",
       "      <td>79.0</td>\n",
       "    </tr>\n",
       "    <tr>\n",
       "      <th>2</th>\n",
       "      <td>1295</td>\n",
       "      <td>Yogurt, vanilla, non-fat</td>\n",
       "      <td>30442</td>\n",
       "      <td>Low Fat Vanilla Yogurt</td>\n",
       "      <td>118.0</td>\n",
       "      <td>3.0</td>\n",
       "      <td>78.0</td>\n",
       "      <td>0.000</td>\n",
       "      <td>0.000</td>\n",
       "      <td>0.000</td>\n",
       "      <td>NaN</td>\n",
       "      <td>0.0</td>\n",
       "      <td>0.00</td>\n",
       "      <td>2.94</td>\n",
       "      <td>47.0</td>\n",
       "      <td>5.88</td>\n",
       "      <td>0.00</td>\n",
       "      <td>79.0</td>\n",
       "    </tr>\n",
       "    <tr>\n",
       "      <th>3</th>\n",
       "      <td>1295</td>\n",
       "      <td>Yogurt, vanilla, non-fat</td>\n",
       "      <td>21387</td>\n",
       "      <td>Non-Fat Vanilla Yogurt</td>\n",
       "      <td>118.0</td>\n",
       "      <td>3.0</td>\n",
       "      <td>78.0</td>\n",
       "      <td>0.000</td>\n",
       "      <td>0.000</td>\n",
       "      <td>0.000</td>\n",
       "      <td>NaN</td>\n",
       "      <td>0.0</td>\n",
       "      <td>0.00</td>\n",
       "      <td>2.94</td>\n",
       "      <td>47.0</td>\n",
       "      <td>5.88</td>\n",
       "      <td>0.00</td>\n",
       "      <td>79.0</td>\n",
       "    </tr>\n",
       "    <tr>\n",
       "      <th>4</th>\n",
       "      <td>1179</td>\n",
       "      <td>Sour cream, light</td>\n",
       "      <td>26172</td>\n",
       "      <td>Light Sour Cream</td>\n",
       "      <td>141.0</td>\n",
       "      <td>35.0</td>\n",
       "      <td>136.0</td>\n",
       "      <td>3.100</td>\n",
       "      <td>0.400</td>\n",
       "      <td>6.600</td>\n",
       "      <td>NaN</td>\n",
       "      <td>0.0</td>\n",
       "      <td>0.07</td>\n",
       "      <td>3.50</td>\n",
       "      <td>83.0</td>\n",
       "      <td>0.22</td>\n",
       "      <td>10.60</td>\n",
       "      <td>78.1</td>\n",
       "    </tr>\n",
       "  </tbody>\n",
       "</table>\n",
       "</div>"
      ],
      "text/plain": [
       "  NDB_No                  Long_Desc product_id            product_name  Calcium, Ca (mg)  Cholesterol (mg)  Energy (kcal)  Fatty acids, total monounsaturated (g)  Fatty acids, total polyunsaturated (g)  Fatty acids, total saturated (g)  Fatty acids, total trans (g)  Fiber, total dietary (g)  Iron, Fe (mg)  Protein (g)  Sodium, Na (mg)  Sugars, total (g)  Total lipid (fat) (g)  Water (g)\n",
       "0   1119  Yogurt, vanilla, low fat.      30442  Low Fat Vanilla Yogurt             171.0               5.0           85.0                                   0.343                                   0.036                             0.806                           NaN                       0.0           0.07         4.93             66.0              13.80                   1.25       79.0\n",
       "1   1119  Yogurt, vanilla, low fat.      21387  Non-Fat Vanilla Yogurt             171.0               5.0           85.0                                   0.343                                   0.036                             0.806                           NaN                       0.0           0.07         4.93             66.0              13.80                   1.25       79.0\n",
       "2   1295   Yogurt, vanilla, non-fat      30442  Low Fat Vanilla Yogurt             118.0               3.0           78.0                                   0.000                                   0.000                             0.000                           NaN                       0.0           0.00         2.94             47.0               5.88                   0.00       79.0\n",
       "3   1295   Yogurt, vanilla, non-fat      21387  Non-Fat Vanilla Yogurt             118.0               3.0           78.0                                   0.000                                   0.000                             0.000                           NaN                       0.0           0.00         2.94             47.0               5.88                   0.00       79.0\n",
       "4   1179          Sour cream, light      26172        Light Sour Cream             141.0              35.0          136.0                                   3.100                                   0.400                             6.600                           NaN                       0.0           0.07         3.50             83.0               0.22                  10.60       78.1"
      ]
     },
     "execution_count": 97,
     "metadata": {},
     "output_type": "execute_result"
    }
   ],
   "source": [
    "usda_instacart_nutr_df.head()"
   ]
  },
  {
   "cell_type": "code",
   "execution_count": 98,
   "metadata": {},
   "outputs": [
    {
     "data": {
      "text/plain": [
       "(5647220, 15)"
      ]
     },
     "execution_count": 98,
     "metadata": {},
     "output_type": "execute_result"
    }
   ],
   "source": [
    "# Instacart DF with Veg. Food\n",
    "only_vegetarian_df.shape"
   ]
  },
  {
   "cell_type": "code",
   "execution_count": 99,
   "metadata": {},
   "outputs": [
    {
     "data": {
      "text/plain": [
       "Index(['order_id', 'product_id', 'add_to_cart_order', 'reordered', 'product_name', 'aisle_id', 'department_id', 'user_id', 'eval_set', 'order_number', 'order_dow', 'order_hour_of_day', 'days_since_prior_order', 'department', 'aisle'], dtype='object')"
      ]
     },
     "execution_count": 99,
     "metadata": {},
     "output_type": "execute_result"
    }
   ],
   "source": [
    "only_vegetarian_df.columns"
   ]
  },
  {
   "cell_type": "code",
   "execution_count": 100,
   "metadata": {},
   "outputs": [],
   "source": [
    "# merging Instacart's previous orders with usda food and nutrition dataframe resulting in\n",
    "# new data frame with order_id, product_id, ndb_no. with nutrient information\n",
    "usda_instacart_final_df = (usda_instacart_nutr_df\n",
    "                                .merge(only_vegetarian_df, on=[\"product_id\",\"product_name\"])                           \n",
    "                        )"
   ]
  },
  {
   "cell_type": "code",
   "execution_count": 101,
   "metadata": {},
   "outputs": [
    {
     "data": {
      "text/plain": [
       "(47877, 31)"
      ]
     },
     "execution_count": 101,
     "metadata": {},
     "output_type": "execute_result"
    }
   ],
   "source": [
    "# 47877 rows after merge (previous orders + usda nutrient info)\n",
    "usda_instacart_final_df.shape"
   ]
  },
  {
   "cell_type": "code",
   "execution_count": 102,
   "metadata": {},
   "outputs": [
    {
     "data": {
      "text/html": [
       "<div>\n",
       "<style scoped>\n",
       "    .dataframe tbody tr th:only-of-type {\n",
       "        vertical-align: middle;\n",
       "    }\n",
       "\n",
       "    .dataframe tbody tr th {\n",
       "        vertical-align: top;\n",
       "    }\n",
       "\n",
       "    .dataframe thead th {\n",
       "        text-align: right;\n",
       "    }\n",
       "</style>\n",
       "<table border=\"1\" class=\"dataframe\">\n",
       "  <thead>\n",
       "    <tr style=\"text-align: right;\">\n",
       "      <th></th>\n",
       "      <th>NDB_No</th>\n",
       "      <th>Long_Desc</th>\n",
       "      <th>product_id</th>\n",
       "      <th>product_name</th>\n",
       "      <th>Calcium, Ca (mg)</th>\n",
       "      <th>Cholesterol (mg)</th>\n",
       "      <th>Energy (kcal)</th>\n",
       "      <th>Fatty acids, total monounsaturated (g)</th>\n",
       "      <th>Fatty acids, total polyunsaturated (g)</th>\n",
       "      <th>Fatty acids, total saturated (g)</th>\n",
       "      <th>Fatty acids, total trans (g)</th>\n",
       "      <th>Fiber, total dietary (g)</th>\n",
       "      <th>Iron, Fe (mg)</th>\n",
       "      <th>Protein (g)</th>\n",
       "      <th>Sodium, Na (mg)</th>\n",
       "      <th>Sugars, total (g)</th>\n",
       "      <th>Total lipid (fat) (g)</th>\n",
       "      <th>Water (g)</th>\n",
       "      <th>order_id</th>\n",
       "      <th>add_to_cart_order</th>\n",
       "      <th>reordered</th>\n",
       "      <th>aisle_id</th>\n",
       "      <th>department_id</th>\n",
       "      <th>user_id</th>\n",
       "      <th>eval_set</th>\n",
       "      <th>order_number</th>\n",
       "      <th>order_dow</th>\n",
       "      <th>order_hour_of_day</th>\n",
       "      <th>days_since_prior_order</th>\n",
       "      <th>department</th>\n",
       "      <th>aisle</th>\n",
       "    </tr>\n",
       "  </thead>\n",
       "  <tbody>\n",
       "    <tr>\n",
       "      <th>6803</th>\n",
       "      <td>1001</td>\n",
       "      <td>Butter, salted</td>\n",
       "      <td>42736</td>\n",
       "      <td>Unsalted Butter</td>\n",
       "      <td>24.0</td>\n",
       "      <td>215.0</td>\n",
       "      <td>717.0</td>\n",
       "      <td>21.021</td>\n",
       "      <td>3.043</td>\n",
       "      <td>51.368</td>\n",
       "      <td>3.278</td>\n",
       "      <td>0.0</td>\n",
       "      <td>0.02</td>\n",
       "      <td>0.85</td>\n",
       "      <td>643.0</td>\n",
       "      <td>0.06</td>\n",
       "      <td>81.11</td>\n",
       "      <td>16.17</td>\n",
       "      <td>2392038</td>\n",
       "      <td>8</td>\n",
       "      <td>1</td>\n",
       "      <td>36</td>\n",
       "      <td>16</td>\n",
       "      <td>69447</td>\n",
       "      <td>prior</td>\n",
       "      <td>38</td>\n",
       "      <td>0</td>\n",
       "      <td>19</td>\n",
       "      <td>7.0</td>\n",
       "      <td>dairy eggs</td>\n",
       "      <td>butter</td>\n",
       "    </tr>\n",
       "    <tr>\n",
       "      <th>30149</th>\n",
       "      <td>18266</td>\n",
       "      <td>Muffins, English, whole-wheat</td>\n",
       "      <td>31371</td>\n",
       "      <td>Whole Wheat English Muffins</td>\n",
       "      <td>265.0</td>\n",
       "      <td>0.0</td>\n",
       "      <td>203.0</td>\n",
       "      <td>0.513</td>\n",
       "      <td>0.835</td>\n",
       "      <td>0.334</td>\n",
       "      <td>NaN</td>\n",
       "      <td>6.7</td>\n",
       "      <td>2.45</td>\n",
       "      <td>8.80</td>\n",
       "      <td>364.0</td>\n",
       "      <td>8.09</td>\n",
       "      <td>2.10</td>\n",
       "      <td>45.70</td>\n",
       "      <td>572673</td>\n",
       "      <td>12</td>\n",
       "      <td>1</td>\n",
       "      <td>93</td>\n",
       "      <td>3</td>\n",
       "      <td>187007</td>\n",
       "      <td>prior</td>\n",
       "      <td>30</td>\n",
       "      <td>4</td>\n",
       "      <td>10</td>\n",
       "      <td>9.0</td>\n",
       "      <td>bakery</td>\n",
       "      <td>breakfast bakery</td>\n",
       "    </tr>\n",
       "    <tr>\n",
       "      <th>10879</th>\n",
       "      <td>11658</td>\n",
       "      <td>Spinach souffle</td>\n",
       "      <td>29116</td>\n",
       "      <td>Spinach Souffle</td>\n",
       "      <td>165.0</td>\n",
       "      <td>118.0</td>\n",
       "      <td>172.0</td>\n",
       "      <td>3.021</td>\n",
       "      <td>0.610</td>\n",
       "      <td>6.091</td>\n",
       "      <td>0.188</td>\n",
       "      <td>0.7</td>\n",
       "      <td>1.19</td>\n",
       "      <td>7.89</td>\n",
       "      <td>566.0</td>\n",
       "      <td>1.85</td>\n",
       "      <td>12.95</td>\n",
       "      <td>70.73</td>\n",
       "      <td>106472</td>\n",
       "      <td>1</td>\n",
       "      <td>1</td>\n",
       "      <td>38</td>\n",
       "      <td>1</td>\n",
       "      <td>57701</td>\n",
       "      <td>prior</td>\n",
       "      <td>38</td>\n",
       "      <td>1</td>\n",
       "      <td>20</td>\n",
       "      <td>0.0</td>\n",
       "      <td>frozen</td>\n",
       "      <td>frozen meals</td>\n",
       "    </tr>\n",
       "    <tr>\n",
       "      <th>13567</th>\n",
       "      <td>1117</td>\n",
       "      <td>Yogurt, plain, low fat</td>\n",
       "      <td>7054</td>\n",
       "      <td>Low Fat Plain Yogurt</td>\n",
       "      <td>183.0</td>\n",
       "      <td>6.0</td>\n",
       "      <td>63.0</td>\n",
       "      <td>0.426</td>\n",
       "      <td>0.044</td>\n",
       "      <td>1.000</td>\n",
       "      <td>NaN</td>\n",
       "      <td>0.0</td>\n",
       "      <td>0.08</td>\n",
       "      <td>5.25</td>\n",
       "      <td>70.0</td>\n",
       "      <td>7.04</td>\n",
       "      <td>1.55</td>\n",
       "      <td>85.07</td>\n",
       "      <td>1307546</td>\n",
       "      <td>9</td>\n",
       "      <td>1</td>\n",
       "      <td>120</td>\n",
       "      <td>16</td>\n",
       "      <td>148695</td>\n",
       "      <td>prior</td>\n",
       "      <td>21</td>\n",
       "      <td>4</td>\n",
       "      <td>10</td>\n",
       "      <td>7.0</td>\n",
       "      <td>dairy eggs</td>\n",
       "      <td>yogurt</td>\n",
       "    </tr>\n",
       "    <tr>\n",
       "      <th>3744</th>\n",
       "      <td>1179</td>\n",
       "      <td>Sour cream, light</td>\n",
       "      <td>26172</td>\n",
       "      <td>Light Sour Cream</td>\n",
       "      <td>141.0</td>\n",
       "      <td>35.0</td>\n",
       "      <td>136.0</td>\n",
       "      <td>3.100</td>\n",
       "      <td>0.400</td>\n",
       "      <td>6.600</td>\n",
       "      <td>NaN</td>\n",
       "      <td>0.0</td>\n",
       "      <td>0.07</td>\n",
       "      <td>3.50</td>\n",
       "      <td>83.0</td>\n",
       "      <td>0.22</td>\n",
       "      <td>10.60</td>\n",
       "      <td>78.10</td>\n",
       "      <td>3010622</td>\n",
       "      <td>2</td>\n",
       "      <td>1</td>\n",
       "      <td>108</td>\n",
       "      <td>16</td>\n",
       "      <td>92842</td>\n",
       "      <td>prior</td>\n",
       "      <td>19</td>\n",
       "      <td>4</td>\n",
       "      <td>19</td>\n",
       "      <td>6.0</td>\n",
       "      <td>dairy eggs</td>\n",
       "      <td>other creams cheeses</td>\n",
       "    </tr>\n",
       "  </tbody>\n",
       "</table>\n",
       "</div>"
      ],
      "text/plain": [
       "      NDB_No                      Long_Desc product_id                 product_name  Calcium, Ca (mg)  Cholesterol (mg)  Energy (kcal)  Fatty acids, total monounsaturated (g)  Fatty acids, total polyunsaturated (g)  Fatty acids, total saturated (g)  Fatty acids, total trans (g)  Fiber, total dietary (g)  Iron, Fe (mg)  Protein (g)  Sodium, Na (mg)  Sugars, total (g)  Total lipid (fat) (g)  Water (g)  order_id  add_to_cart_order  reordered  aisle_id  department_id  user_id eval_set  order_number  order_dow  order_hour_of_day  days_since_prior_order  department                 aisle\n",
       "6803    1001                 Butter, salted      42736              Unsalted Butter              24.0             215.0          717.0                                  21.021                                   3.043                            51.368                         3.278                       0.0           0.02         0.85            643.0               0.06                  81.11      16.17   2392038                  8          1        36             16    69447    prior            38          0                 19                     7.0  dairy eggs                butter\n",
       "30149  18266  Muffins, English, whole-wheat      31371  Whole Wheat English Muffins             265.0               0.0          203.0                                   0.513                                   0.835                             0.334                           NaN                       6.7           2.45         8.80            364.0               8.09                   2.10      45.70    572673                 12          1        93              3   187007    prior            30          4                 10                     9.0      bakery      breakfast bakery\n",
       "10879  11658                Spinach souffle      29116              Spinach Souffle             165.0             118.0          172.0                                   3.021                                   0.610                             6.091                         0.188                       0.7           1.19         7.89            566.0               1.85                  12.95      70.73    106472                  1          1        38              1    57701    prior            38          1                 20                     0.0      frozen          frozen meals\n",
       "13567   1117         Yogurt, plain, low fat       7054         Low Fat Plain Yogurt             183.0               6.0           63.0                                   0.426                                   0.044                             1.000                           NaN                       0.0           0.08         5.25             70.0               7.04                   1.55      85.07   1307546                  9          1       120             16   148695    prior            21          4                 10                     7.0  dairy eggs                yogurt\n",
       "3744    1179              Sour cream, light      26172             Light Sour Cream             141.0              35.0          136.0                                   3.100                                   0.400                             6.600                           NaN                       0.0           0.07         3.50             83.0               0.22                  10.60      78.10   3010622                  2          1       108             16    92842    prior            19          4                 19                     6.0  dairy eggs  other creams cheeses"
      ]
     },
     "execution_count": 102,
     "metadata": {},
     "output_type": "execute_result"
    }
   ],
   "source": [
    "usda_instacart_final_df.sample(5)"
   ]
  },
  {
   "cell_type": "code",
   "execution_count": 103,
   "metadata": {},
   "outputs": [
    {
     "data": {
      "text/plain": [
       "(47877, 31)"
      ]
     },
     "execution_count": 103,
     "metadata": {},
     "output_type": "execute_result"
    }
   ],
   "source": [
    "usda_instacart_final_df.shape"
   ]
  },
  {
   "cell_type": "code",
   "execution_count": 104,
   "metadata": {},
   "outputs": [
    {
     "data": {
      "text/html": [
       "<div>\n",
       "<style scoped>\n",
       "    .dataframe tbody tr th:only-of-type {\n",
       "        vertical-align: middle;\n",
       "    }\n",
       "\n",
       "    .dataframe tbody tr th {\n",
       "        vertical-align: top;\n",
       "    }\n",
       "\n",
       "    .dataframe thead th {\n",
       "        text-align: right;\n",
       "    }\n",
       "</style>\n",
       "<table border=\"1\" class=\"dataframe\">\n",
       "  <thead>\n",
       "    <tr style=\"text-align: right;\">\n",
       "      <th></th>\n",
       "      <th>product_name</th>\n",
       "      <th>Sugars, total (g)</th>\n",
       "    </tr>\n",
       "  </thead>\n",
       "  <tbody>\n",
       "    <tr>\n",
       "      <th>30795</th>\n",
       "      <td>Whole Wheat English Muffins</td>\n",
       "      <td>8.09</td>\n",
       "    </tr>\n",
       "    <tr>\n",
       "      <th>6682</th>\n",
       "      <td>Unsalted Butter</td>\n",
       "      <td>0.06</td>\n",
       "    </tr>\n",
       "    <tr>\n",
       "      <th>41688</th>\n",
       "      <td>French Vanilla Soy Creamer</td>\n",
       "      <td>20.00</td>\n",
       "    </tr>\n",
       "    <tr>\n",
       "      <th>14712</th>\n",
       "      <td>Fat Free Cream Cheese</td>\n",
       "      <td>5.48</td>\n",
       "    </tr>\n",
       "    <tr>\n",
       "      <th>13960</th>\n",
       "      <td>Low Fat Plain Yogurt</td>\n",
       "      <td>7.04</td>\n",
       "    </tr>\n",
       "  </tbody>\n",
       "</table>\n",
       "</div>"
      ],
      "text/plain": [
       "                      product_name  Sugars, total (g)\n",
       "30795  Whole Wheat English Muffins               8.09\n",
       "6682               Unsalted Butter               0.06\n",
       "41688   French Vanilla Soy Creamer              20.00\n",
       "14712        Fat Free Cream Cheese               5.48\n",
       "13960         Low Fat Plain Yogurt               7.04"
      ]
     },
     "execution_count": 104,
     "metadata": {},
     "output_type": "execute_result"
    }
   ],
   "source": [
    "# Granulated Sugar,Powdered Sugar,Honey, Dark corn syrup, light corn syrup,\n",
    "# Molasses, Mejdool dates are high in sugars. \n",
    "usda_instacart_final_df[(usda_instacart_final_df['product_name']!='Granulated Sugar')\n",
    "                        &(usda_instacart_final_df['product_name']!='Powdered Sugar')\n",
    "                        &(usda_instacart_final_df['product_name']!='Honey')\n",
    "                        &(usda_instacart_final_df['product_name']!='Dark Corn Syrup')\n",
    "                        &(usda_instacart_final_df['product_name']!='Light Corn Syrup')\n",
    "                        &(usda_instacart_final_df['product_name']!='Molasses')\n",
    "                        &(usda_instacart_final_df['product_name']!='Medjool Dates')\n",
    "                       ][['product_name','Sugars, total (g)']].sort_values(by='Sugars, total (g)'\n",
    "                                                                           ,ascending=False).sample(5)\n"
   ]
  },
  {
   "cell_type": "code",
   "execution_count": 105,
   "metadata": {
    "scrolled": false
   },
   "outputs": [
    {
     "data": {
      "text/html": [
       "<div>\n",
       "<style scoped>\n",
       "    .dataframe tbody tr th:only-of-type {\n",
       "        vertical-align: middle;\n",
       "    }\n",
       "\n",
       "    .dataframe tbody tr th {\n",
       "        vertical-align: top;\n",
       "    }\n",
       "\n",
       "    .dataframe thead th {\n",
       "        text-align: right;\n",
       "    }\n",
       "</style>\n",
       "<table border=\"1\" class=\"dataframe\">\n",
       "  <thead>\n",
       "    <tr style=\"text-align: right;\">\n",
       "      <th></th>\n",
       "      <th></th>\n",
       "      <th></th>\n",
       "      <th></th>\n",
       "    </tr>\n",
       "    <tr>\n",
       "      <th>NDB_No</th>\n",
       "      <th>Long_Desc</th>\n",
       "      <th>product_name</th>\n",
       "      <th>Sugars, total (g)</th>\n",
       "    </tr>\n",
       "  </thead>\n",
       "  <tbody>\n",
       "    <tr>\n",
       "      <th>19335</th>\n",
       "      <th>Sugars, granulated</th>\n",
       "      <th>Granulated Sugar</th>\n",
       "      <th>99.8</th>\n",
       "    </tr>\n",
       "  </tbody>\n",
       "</table>\n",
       "</div>"
      ],
      "text/plain": [
       "Empty DataFrame\n",
       "Columns: []\n",
       "Index: [(19335, Sugars, granulated, Granulated Sugar, 99.8)]"
      ]
     },
     "execution_count": 105,
     "metadata": {},
     "output_type": "execute_result"
    }
   ],
   "source": [
    "# Maximum Sugars\n",
    "usda_instacart_final_df[usda_instacart_final_df['Sugars, total (g)']==usda_instacart_final_df['Sugars, total (g)'].max()][['NDB_No','Long_Desc','product_name','Sugars, total (g)']].groupby(by=['NDB_No','Long_Desc','product_name','Sugars, total (g)']).count().sort_values(by='Sugars, total (g)', ascending=False)\n",
    "                                                                                                                          "
   ]
  },
  {
   "cell_type": "code",
   "execution_count": 106,
   "metadata": {
    "scrolled": true
   },
   "outputs": [
    {
     "data": {
      "text/html": [
       "<div>\n",
       "<style scoped>\n",
       "    .dataframe tbody tr th:only-of-type {\n",
       "        vertical-align: middle;\n",
       "    }\n",
       "\n",
       "    .dataframe tbody tr th {\n",
       "        vertical-align: top;\n",
       "    }\n",
       "\n",
       "    .dataframe thead th {\n",
       "        text-align: right;\n",
       "    }\n",
       "</style>\n",
       "<table border=\"1\" class=\"dataframe\">\n",
       "  <thead>\n",
       "    <tr style=\"text-align: right;\">\n",
       "      <th></th>\n",
       "      <th></th>\n",
       "      <th></th>\n",
       "      <th></th>\n",
       "    </tr>\n",
       "    <tr>\n",
       "      <th>NDB_No</th>\n",
       "      <th>Long_Desc</th>\n",
       "      <th>product_name</th>\n",
       "      <th>Protein (g)</th>\n",
       "    </tr>\n",
       "  </thead>\n",
       "  <tbody>\n",
       "    <tr>\n",
       "      <th rowspan=\"4\" valign=\"top\">1146</th>\n",
       "      <th rowspan=\"4\" valign=\"top\">Cheese, parmesan, shredded</th>\n",
       "      <th>Cheese, Shredded, Parmesan</th>\n",
       "      <th>37.86</th>\n",
       "    </tr>\n",
       "    <tr>\n",
       "      <th>Parmesan Cheese Shreds</th>\n",
       "      <th>37.86</th>\n",
       "    </tr>\n",
       "    <tr>\n",
       "      <th>Parmesan Shredded Cheese</th>\n",
       "      <th>37.86</th>\n",
       "    </tr>\n",
       "    <tr>\n",
       "      <th>Shredded Parmesan Cheese</th>\n",
       "      <th>37.86</th>\n",
       "    </tr>\n",
       "  </tbody>\n",
       "</table>\n",
       "</div>"
      ],
      "text/plain": [
       "Empty DataFrame\n",
       "Columns: []\n",
       "Index: [(1146, Cheese, parmesan, shredded, Cheese, Shredded, Parmesan, 37.86), (1146, Cheese, parmesan, shredded, Parmesan Cheese Shreds, 37.86), (1146, Cheese, parmesan, shredded, Parmesan Shredded Cheese, 37.86), (1146, Cheese, parmesan, shredded, Shredded Parmesan Cheese, 37.86)]"
      ]
     },
     "execution_count": 106,
     "metadata": {},
     "output_type": "execute_result"
    }
   ],
   "source": [
    "#  Maximum Protein\n",
    "usda_instacart_final_df[usda_instacart_final_df['Protein (g)']==usda_instacart_final_df['Protein (g)'].max()][['NDB_No','Long_Desc','product_name','Protein (g)']].groupby(by=['NDB_No','Long_Desc','product_name','Protein (g)']).count().sort_values(by='Protein (g)', ascending=False)\n",
    "                                                                                                                          "
   ]
  },
  {
   "cell_type": "code",
   "execution_count": 107,
   "metadata": {
    "scrolled": true
   },
   "outputs": [
    {
     "data": {
      "text/html": [
       "<div>\n",
       "<style scoped>\n",
       "    .dataframe tbody tr th:only-of-type {\n",
       "        vertical-align: middle;\n",
       "    }\n",
       "\n",
       "    .dataframe tbody tr th {\n",
       "        vertical-align: top;\n",
       "    }\n",
       "\n",
       "    .dataframe thead th {\n",
       "        text-align: right;\n",
       "    }\n",
       "</style>\n",
       "<table border=\"1\" class=\"dataframe\">\n",
       "  <thead>\n",
       "    <tr style=\"text-align: right;\">\n",
       "      <th></th>\n",
       "      <th></th>\n",
       "      <th></th>\n",
       "      <th></th>\n",
       "    </tr>\n",
       "    <tr>\n",
       "      <th>NDB_No</th>\n",
       "      <th>Long_Desc</th>\n",
       "      <th>product_name</th>\n",
       "      <th>Fiber, total dietary (g)</th>\n",
       "    </tr>\n",
       "  </thead>\n",
       "  <tbody>\n",
       "    <tr>\n",
       "      <th>19165</th>\n",
       "      <th>Cocoa, dry powder, unsweetened</th>\n",
       "      <th>Unsweetened Cocoa Powder</th>\n",
       "      <th>37.0</th>\n",
       "    </tr>\n",
       "  </tbody>\n",
       "</table>\n",
       "</div>"
      ],
      "text/plain": [
       "Empty DataFrame\n",
       "Columns: []\n",
       "Index: [(19165, Cocoa, dry powder, unsweetened, Unsweetened Cocoa Powder, 37.0)]"
      ]
     },
     "execution_count": 107,
     "metadata": {},
     "output_type": "execute_result"
    }
   ],
   "source": [
    "#  Maximum Total Dietary Fiber \n",
    "usda_instacart_final_df[usda_instacart_final_df['Fiber, total dietary (g)']==usda_instacart_final_df['Fiber, total dietary (g)'].max()][['NDB_No','Long_Desc','product_name','Fiber, total dietary (g)']].groupby(by=['NDB_No','Long_Desc','product_name','Fiber, total dietary (g)']).count().sort_values(by='Fiber, total dietary (g)', ascending=False)\n",
    "                                                                                                                          "
   ]
  },
  {
   "cell_type": "code",
   "execution_count": 108,
   "metadata": {
    "scrolled": true
   },
   "outputs": [
    {
     "data": {
      "text/html": [
       "<div>\n",
       "<style scoped>\n",
       "    .dataframe tbody tr th:only-of-type {\n",
       "        vertical-align: middle;\n",
       "    }\n",
       "\n",
       "    .dataframe tbody tr th {\n",
       "        vertical-align: top;\n",
       "    }\n",
       "\n",
       "    .dataframe thead th {\n",
       "        text-align: right;\n",
       "    }\n",
       "</style>\n",
       "<table border=\"1\" class=\"dataframe\">\n",
       "  <thead>\n",
       "    <tr style=\"text-align: right;\">\n",
       "      <th></th>\n",
       "      <th></th>\n",
       "      <th></th>\n",
       "      <th></th>\n",
       "    </tr>\n",
       "    <tr>\n",
       "      <th>NDB_No</th>\n",
       "      <th>Long_Desc</th>\n",
       "      <th>product_name</th>\n",
       "      <th>Sugars, total (g)</th>\n",
       "    </tr>\n",
       "  </thead>\n",
       "  <tbody>\n",
       "    <tr>\n",
       "      <th>1019</th>\n",
       "      <th>Cheese, feta</th>\n",
       "      <th>Feta Cheese</th>\n",
       "      <th>0.0</th>\n",
       "    </tr>\n",
       "    <tr>\n",
       "      <th>1026</th>\n",
       "      <th>Cheese, mozzarella, whole milk</th>\n",
       "      <th>Whole Milk Mozzarella Cheese</th>\n",
       "      <th>0.0</th>\n",
       "    </tr>\n",
       "    <tr>\n",
       "      <th>1040</th>\n",
       "      <th>Cheese, swiss</th>\n",
       "      <th>Swiss Cheese</th>\n",
       "      <th>0.0</th>\n",
       "    </tr>\n",
       "    <tr>\n",
       "      <th rowspan=\"2\" valign=\"top\">1251</th>\n",
       "      <th rowspan=\"2\" valign=\"top\">Cheese, Mexican blend</th>\n",
       "      <th>Mexican 4 Cheese Blend</th>\n",
       "      <th>0.0</th>\n",
       "    </tr>\n",
       "    <tr>\n",
       "      <th>Mexican Blend Cheese</th>\n",
       "      <th>0.0</th>\n",
       "    </tr>\n",
       "    <tr>\n",
       "      <th>2047</th>\n",
       "      <th>Salt, table</th>\n",
       "      <th>Table Salt</th>\n",
       "      <th>0.0</th>\n",
       "    </tr>\n",
       "    <tr>\n",
       "      <th rowspan=\"2\" valign=\"top\">2068</th>\n",
       "      <th rowspan=\"2\" valign=\"top\">Vinegar, red wine</th>\n",
       "      <th>Red Wine Vinegar</th>\n",
       "      <th>0.0</th>\n",
       "    </tr>\n",
       "    <tr>\n",
       "      <th>Vinegar, Red Wine</th>\n",
       "      <th>0.0</th>\n",
       "    </tr>\n",
       "    <tr>\n",
       "      <th>21421</th>\n",
       "      <th>KFC, Crispy Chicken Strips</th>\n",
       "      <th>Crispy Chicken Strips</th>\n",
       "      <th>0.0</th>\n",
       "    </tr>\n",
       "  </tbody>\n",
       "</table>\n",
       "</div>"
      ],
      "text/plain": [
       "Empty DataFrame\n",
       "Columns: []\n",
       "Index: [(1019, Cheese, feta, Feta Cheese, 0.0), (1026, Cheese, mozzarella, whole milk, Whole Milk Mozzarella Cheese, 0.0), (1040, Cheese, swiss, Swiss Cheese, 0.0), (1251, Cheese, Mexican blend, Mexican 4 Cheese Blend, 0.0), (1251, Cheese, Mexican blend, Mexican Blend Cheese, 0.0), (2047, Salt, table, Table Salt, 0.0), (2068, Vinegar, red wine, Red Wine Vinegar, 0.0), (2068, Vinegar, red wine, Vinegar, Red Wine, 0.0), (21421, KFC, Crispy Chicken Strips, Crispy Chicken Strips, 0.0)]"
      ]
     },
     "execution_count": 108,
     "metadata": {},
     "output_type": "execute_result"
    }
   ],
   "source": [
    "#  Minimum amount of Sugars \n",
    "usda_instacart_final_df[usda_instacart_final_df['Sugars, total (g)']==usda_instacart_final_df['Sugars, total (g)'].min()][['NDB_No','Long_Desc','product_name','Sugars, total (g)']].groupby(by=['NDB_No','Long_Desc','product_name','Sugars, total (g)']).count().sort_values(by='Sugars, total (g)', ascending=False)\n",
    "                                                                                                        "
   ]
  },
  {
   "cell_type": "code",
   "execution_count": 109,
   "metadata": {
    "scrolled": true
   },
   "outputs": [
    {
     "data": {
      "text/html": [
       "<div>\n",
       "<style scoped>\n",
       "    .dataframe tbody tr th:only-of-type {\n",
       "        vertical-align: middle;\n",
       "    }\n",
       "\n",
       "    .dataframe tbody tr th {\n",
       "        vertical-align: top;\n",
       "    }\n",
       "\n",
       "    .dataframe thead th {\n",
       "        text-align: right;\n",
       "    }\n",
       "</style>\n",
       "<table border=\"1\" class=\"dataframe\">\n",
       "  <thead>\n",
       "    <tr style=\"text-align: right;\">\n",
       "      <th></th>\n",
       "      <th></th>\n",
       "      <th></th>\n",
       "      <th></th>\n",
       "    </tr>\n",
       "    <tr>\n",
       "      <th>NDB_No</th>\n",
       "      <th>Long_Desc</th>\n",
       "      <th>product_name</th>\n",
       "      <th>Fatty acids, total saturated (g)</th>\n",
       "    </tr>\n",
       "  </thead>\n",
       "  <tbody>\n",
       "    <tr>\n",
       "      <th rowspan=\"3\" valign=\"top\">1001</th>\n",
       "      <th rowspan=\"3\" valign=\"top\">Butter, salted</th>\n",
       "      <th>Butter Salted</th>\n",
       "      <th>51.368</th>\n",
       "    </tr>\n",
       "    <tr>\n",
       "      <th>Salted Butter</th>\n",
       "      <th>51.368</th>\n",
       "    </tr>\n",
       "    <tr>\n",
       "      <th>Unsalted Butter</th>\n",
       "      <th>51.368</th>\n",
       "    </tr>\n",
       "  </tbody>\n",
       "</table>\n",
       "</div>"
      ],
      "text/plain": [
       "Empty DataFrame\n",
       "Columns: []\n",
       "Index: [(1001, Butter, salted, Butter Salted, 51.368), (1001, Butter, salted, Salted Butter, 51.368), (1001, Butter, salted, Unsalted Butter, 51.368)]"
      ]
     },
     "execution_count": 109,
     "metadata": {},
     "output_type": "execute_result"
    }
   ],
   "source": [
    "#  Maximum amount of Fatty acids, total saturated (g) \n",
    "usda_instacart_final_df[usda_instacart_final_df['Fatty acids, total saturated (g)']==usda_instacart_final_df['Fatty acids, total saturated (g)'].max()][['NDB_No','Long_Desc','product_name','Fatty acids, total saturated (g)']].groupby(by=['NDB_No','Long_Desc','product_name','Fatty acids, total saturated (g)']).count().sort_values(by='Fatty acids, total saturated (g)', ascending=False)\n",
    "                                                                                                        "
   ]
  },
  {
   "cell_type": "code",
   "execution_count": 110,
   "metadata": {
    "scrolled": true
   },
   "outputs": [
    {
     "data": {
      "text/html": [
       "<div>\n",
       "<style scoped>\n",
       "    .dataframe tbody tr th:only-of-type {\n",
       "        vertical-align: middle;\n",
       "    }\n",
       "\n",
       "    .dataframe tbody tr th {\n",
       "        vertical-align: top;\n",
       "    }\n",
       "\n",
       "    .dataframe thead th {\n",
       "        text-align: right;\n",
       "    }\n",
       "</style>\n",
       "<table border=\"1\" class=\"dataframe\">\n",
       "  <thead>\n",
       "    <tr style=\"text-align: right;\">\n",
       "      <th></th>\n",
       "      <th></th>\n",
       "      <th></th>\n",
       "      <th></th>\n",
       "    </tr>\n",
       "    <tr>\n",
       "      <th>NDB_No</th>\n",
       "      <th>Long_Desc</th>\n",
       "      <th>product_name</th>\n",
       "      <th>Cholesterol (mg)</th>\n",
       "    </tr>\n",
       "  </thead>\n",
       "  <tbody>\n",
       "    <tr>\n",
       "      <th rowspan=\"3\" valign=\"top\">1001</th>\n",
       "      <th rowspan=\"3\" valign=\"top\">Butter, salted</th>\n",
       "      <th>Butter Salted</th>\n",
       "      <th>215.0</th>\n",
       "    </tr>\n",
       "    <tr>\n",
       "      <th>Salted Butter</th>\n",
       "      <th>215.0</th>\n",
       "    </tr>\n",
       "    <tr>\n",
       "      <th>Unsalted Butter</th>\n",
       "      <th>215.0</th>\n",
       "    </tr>\n",
       "  </tbody>\n",
       "</table>\n",
       "</div>"
      ],
      "text/plain": [
       "Empty DataFrame\n",
       "Columns: []\n",
       "Index: [(1001, Butter, salted, Butter Salted, 215.0), (1001, Butter, salted, Salted Butter, 215.0), (1001, Butter, salted, Unsalted Butter, 215.0)]"
      ]
     },
     "execution_count": 110,
     "metadata": {},
     "output_type": "execute_result"
    }
   ],
   "source": [
    "#  Maximum amount of Cholesterol (mg) \n",
    "usda_instacart_final_df[usda_instacart_final_df['Cholesterol (mg)']==usda_instacart_final_df['Cholesterol (mg)'].max()][['NDB_No','Long_Desc','product_name','Cholesterol (mg)']].groupby(by=['NDB_No','Long_Desc','product_name','Cholesterol (mg)']).count().sort_values(by='Cholesterol (mg)', ascending=False)\n",
    "                                                                                                        "
   ]
  },
  {
   "cell_type": "code",
   "execution_count": 111,
   "metadata": {},
   "outputs": [
    {
     "data": {
      "text/html": [
       "<div>\n",
       "<style scoped>\n",
       "    .dataframe tbody tr th:only-of-type {\n",
       "        vertical-align: middle;\n",
       "    }\n",
       "\n",
       "    .dataframe tbody tr th {\n",
       "        vertical-align: top;\n",
       "    }\n",
       "\n",
       "    .dataframe thead th {\n",
       "        text-align: right;\n",
       "    }\n",
       "</style>\n",
       "<table border=\"1\" class=\"dataframe\">\n",
       "  <thead>\n",
       "    <tr style=\"text-align: right;\">\n",
       "      <th></th>\n",
       "      <th></th>\n",
       "      <th></th>\n",
       "      <th></th>\n",
       "    </tr>\n",
       "    <tr>\n",
       "      <th>NDB_No</th>\n",
       "      <th>Long_Desc</th>\n",
       "      <th>product_name</th>\n",
       "      <th>Fatty acids, total trans (g)</th>\n",
       "    </tr>\n",
       "  </thead>\n",
       "  <tbody>\n",
       "    <tr>\n",
       "      <th rowspan=\"3\" valign=\"top\">1001</th>\n",
       "      <th rowspan=\"3\" valign=\"top\">Butter, salted</th>\n",
       "      <th>Butter Salted</th>\n",
       "      <th>3.278</th>\n",
       "    </tr>\n",
       "    <tr>\n",
       "      <th>Salted Butter</th>\n",
       "      <th>3.278</th>\n",
       "    </tr>\n",
       "    <tr>\n",
       "      <th>Unsalted Butter</th>\n",
       "      <th>3.278</th>\n",
       "    </tr>\n",
       "  </tbody>\n",
       "</table>\n",
       "</div>"
      ],
      "text/plain": [
       "Empty DataFrame\n",
       "Columns: []\n",
       "Index: [(1001, Butter, salted, Butter Salted, 3.278), (1001, Butter, salted, Salted Butter, 3.278), (1001, Butter, salted, Unsalted Butter, 3.278)]"
      ]
     },
     "execution_count": 111,
     "metadata": {},
     "output_type": "execute_result"
    }
   ],
   "source": [
    "#  Maximum amount of Fatty acids, total trans (g)\n",
    "usda_instacart_final_df[usda_instacart_final_df['Fatty acids, total trans (g)']==usda_instacart_final_df['Fatty acids, total trans (g)'].max()][['NDB_No','Long_Desc','product_name','Fatty acids, total trans (g)']].groupby(by=['NDB_No','Long_Desc','product_name','Fatty acids, total trans (g)']).count().sort_values(by='Fatty acids, total trans (g)', ascending=False)\n",
    "                                                                                                        "
   ]
  },
  {
   "cell_type": "code",
   "execution_count": 112,
   "metadata": {},
   "outputs": [
    {
     "data": {
      "text/html": [
       "<div>\n",
       "<style scoped>\n",
       "    .dataframe tbody tr th:only-of-type {\n",
       "        vertical-align: middle;\n",
       "    }\n",
       "\n",
       "    .dataframe tbody tr th {\n",
       "        vertical-align: top;\n",
       "    }\n",
       "\n",
       "    .dataframe thead th {\n",
       "        text-align: right;\n",
       "    }\n",
       "</style>\n",
       "<table border=\"1\" class=\"dataframe\">\n",
       "  <thead>\n",
       "    <tr style=\"text-align: right;\">\n",
       "      <th></th>\n",
       "      <th></th>\n",
       "      <th></th>\n",
       "      <th></th>\n",
       "    </tr>\n",
       "    <tr>\n",
       "      <th>NDB_No</th>\n",
       "      <th>Long_Desc</th>\n",
       "      <th>product_name</th>\n",
       "      <th>Fiber, total dietary (g)</th>\n",
       "    </tr>\n",
       "  </thead>\n",
       "  <tbody>\n",
       "    <tr>\n",
       "      <th>19165</th>\n",
       "      <th>Cocoa, dry powder, unsweetened</th>\n",
       "      <th>Unsweetened Cocoa Powder</th>\n",
       "      <th>37.0</th>\n",
       "    </tr>\n",
       "    <tr>\n",
       "      <th rowspan=\"2\" valign=\"top\">11615</th>\n",
       "      <th rowspan=\"2\" valign=\"top\">Chives, freeze-dried</th>\n",
       "      <th>Freeze Dried Chives</th>\n",
       "      <th>26.2</th>\n",
       "    </tr>\n",
       "    <tr>\n",
       "      <th>Freeze-Dried Chives</th>\n",
       "      <th>26.2</th>\n",
       "    </tr>\n",
       "    <tr>\n",
       "      <th>2049</th>\n",
       "      <th>Thyme, fresh</th>\n",
       "      <th>Fresh Thyme</th>\n",
       "      <th>14.0</th>\n",
       "    </tr>\n",
       "    <tr>\n",
       "      <th>2075</th>\n",
       "      <th>Seasoning mix, dry, taco, original</th>\n",
       "      <th>Original Taco Seasoning Mix</th>\n",
       "      <th>13.3</th>\n",
       "    </tr>\n",
       "  </tbody>\n",
       "</table>\n",
       "</div>"
      ],
      "text/plain": [
       "Empty DataFrame\n",
       "Columns: []\n",
       "Index: [(19165, Cocoa, dry powder, unsweetened, Unsweetened Cocoa Powder, 37.0), (11615, Chives, freeze-dried, Freeze Dried Chives, 26.2), (11615, Chives, freeze-dried, Freeze-Dried Chives, 26.2), (2049, Thyme, fresh, Fresh Thyme, 14.0), (2075, Seasoning mix, dry, taco, original, Original Taco Seasoning Mix, 13.3)]"
      ]
     },
     "execution_count": 112,
     "metadata": {},
     "output_type": "execute_result"
    }
   ],
   "source": [
    "# Top foods with Total Dietary Fiber \n",
    "usda_instacart_final_df[['NDB_No','Long_Desc','product_name','Fiber, total dietary (g)']].groupby(by=['NDB_No','Long_Desc','product_name','Fiber, total dietary (g)']).count().sort_values(by='Fiber, total dietary (g)', ascending=False).head(5)"
   ]
  },
  {
   "cell_type": "code",
   "execution_count": 113,
   "metadata": {},
   "outputs": [
    {
     "data": {
      "text/plain": [
       "(47877, 31)"
      ]
     },
     "execution_count": 113,
     "metadata": {},
     "output_type": "execute_result"
    }
   ],
   "source": [
    "usda_instacart_final_df.shape"
   ]
  },
  {
   "cell_type": "code",
   "execution_count": 114,
   "metadata": {},
   "outputs": [
    {
     "data": {
      "text/html": [
       "<div>\n",
       "<style scoped>\n",
       "    .dataframe tbody tr th:only-of-type {\n",
       "        vertical-align: middle;\n",
       "    }\n",
       "\n",
       "    .dataframe tbody tr th {\n",
       "        vertical-align: top;\n",
       "    }\n",
       "\n",
       "    .dataframe thead th {\n",
       "        text-align: right;\n",
       "    }\n",
       "</style>\n",
       "<table border=\"1\" class=\"dataframe\">\n",
       "  <thead>\n",
       "    <tr style=\"text-align: right;\">\n",
       "      <th></th>\n",
       "      <th>NDB_No</th>\n",
       "      <th>Long_Desc</th>\n",
       "      <th>product_id</th>\n",
       "      <th>product_name</th>\n",
       "      <th>Calcium, Ca (mg)</th>\n",
       "      <th>Cholesterol (mg)</th>\n",
       "      <th>Energy (kcal)</th>\n",
       "      <th>Fatty acids, total monounsaturated (g)</th>\n",
       "      <th>Fatty acids, total polyunsaturated (g)</th>\n",
       "      <th>Fatty acids, total saturated (g)</th>\n",
       "      <th>Fatty acids, total trans (g)</th>\n",
       "      <th>Fiber, total dietary (g)</th>\n",
       "      <th>Iron, Fe (mg)</th>\n",
       "      <th>Protein (g)</th>\n",
       "      <th>Sodium, Na (mg)</th>\n",
       "      <th>Sugars, total (g)</th>\n",
       "      <th>Total lipid (fat) (g)</th>\n",
       "      <th>Water (g)</th>\n",
       "      <th>order_id</th>\n",
       "      <th>add_to_cart_order</th>\n",
       "      <th>reordered</th>\n",
       "      <th>aisle_id</th>\n",
       "      <th>department_id</th>\n",
       "      <th>user_id</th>\n",
       "      <th>eval_set</th>\n",
       "      <th>order_number</th>\n",
       "      <th>order_dow</th>\n",
       "      <th>order_hour_of_day</th>\n",
       "      <th>days_since_prior_order</th>\n",
       "      <th>department</th>\n",
       "      <th>aisle</th>\n",
       "    </tr>\n",
       "  </thead>\n",
       "  <tbody>\n",
       "    <tr>\n",
       "      <th>0</th>\n",
       "      <td>1119</td>\n",
       "      <td>Yogurt, vanilla, low fat.</td>\n",
       "      <td>30442</td>\n",
       "      <td>Low Fat Vanilla Yogurt</td>\n",
       "      <td>171.0</td>\n",
       "      <td>5.0</td>\n",
       "      <td>85.0</td>\n",
       "      <td>0.343</td>\n",
       "      <td>0.036</td>\n",
       "      <td>0.806</td>\n",
       "      <td>NaN</td>\n",
       "      <td>0.0</td>\n",
       "      <td>0.07</td>\n",
       "      <td>4.93</td>\n",
       "      <td>66.0</td>\n",
       "      <td>13.8</td>\n",
       "      <td>1.25</td>\n",
       "      <td>79.0</td>\n",
       "      <td>27</td>\n",
       "      <td>2</td>\n",
       "      <td>1</td>\n",
       "      <td>120</td>\n",
       "      <td>16</td>\n",
       "      <td>129389</td>\n",
       "      <td>prior</td>\n",
       "      <td>16</td>\n",
       "      <td>6</td>\n",
       "      <td>20</td>\n",
       "      <td>14.0</td>\n",
       "      <td>dairy eggs</td>\n",
       "      <td>yogurt</td>\n",
       "    </tr>\n",
       "    <tr>\n",
       "      <th>1</th>\n",
       "      <td>1119</td>\n",
       "      <td>Yogurt, vanilla, low fat.</td>\n",
       "      <td>30442</td>\n",
       "      <td>Low Fat Vanilla Yogurt</td>\n",
       "      <td>171.0</td>\n",
       "      <td>5.0</td>\n",
       "      <td>85.0</td>\n",
       "      <td>0.343</td>\n",
       "      <td>0.036</td>\n",
       "      <td>0.806</td>\n",
       "      <td>NaN</td>\n",
       "      <td>0.0</td>\n",
       "      <td>0.07</td>\n",
       "      <td>4.93</td>\n",
       "      <td>66.0</td>\n",
       "      <td>13.8</td>\n",
       "      <td>1.25</td>\n",
       "      <td>79.0</td>\n",
       "      <td>3024</td>\n",
       "      <td>1</td>\n",
       "      <td>0</td>\n",
       "      <td>120</td>\n",
       "      <td>16</td>\n",
       "      <td>56367</td>\n",
       "      <td>prior</td>\n",
       "      <td>17</td>\n",
       "      <td>3</td>\n",
       "      <td>13</td>\n",
       "      <td>19.0</td>\n",
       "      <td>dairy eggs</td>\n",
       "      <td>yogurt</td>\n",
       "    </tr>\n",
       "    <tr>\n",
       "      <th>2</th>\n",
       "      <td>1119</td>\n",
       "      <td>Yogurt, vanilla, low fat.</td>\n",
       "      <td>30442</td>\n",
       "      <td>Low Fat Vanilla Yogurt</td>\n",
       "      <td>171.0</td>\n",
       "      <td>5.0</td>\n",
       "      <td>85.0</td>\n",
       "      <td>0.343</td>\n",
       "      <td>0.036</td>\n",
       "      <td>0.806</td>\n",
       "      <td>NaN</td>\n",
       "      <td>0.0</td>\n",
       "      <td>0.07</td>\n",
       "      <td>4.93</td>\n",
       "      <td>66.0</td>\n",
       "      <td>13.8</td>\n",
       "      <td>1.25</td>\n",
       "      <td>79.0</td>\n",
       "      <td>4966</td>\n",
       "      <td>1</td>\n",
       "      <td>0</td>\n",
       "      <td>120</td>\n",
       "      <td>16</td>\n",
       "      <td>164868</td>\n",
       "      <td>prior</td>\n",
       "      <td>1</td>\n",
       "      <td>2</td>\n",
       "      <td>14</td>\n",
       "      <td>0.0</td>\n",
       "      <td>dairy eggs</td>\n",
       "      <td>yogurt</td>\n",
       "    </tr>\n",
       "  </tbody>\n",
       "</table>\n",
       "</div>"
      ],
      "text/plain": [
       "  NDB_No                  Long_Desc product_id            product_name  Calcium, Ca (mg)  Cholesterol (mg)  Energy (kcal)  Fatty acids, total monounsaturated (g)  Fatty acids, total polyunsaturated (g)  Fatty acids, total saturated (g)  Fatty acids, total trans (g)  Fiber, total dietary (g)  Iron, Fe (mg)  Protein (g)  Sodium, Na (mg)  Sugars, total (g)  Total lipid (fat) (g)  Water (g)  order_id  add_to_cart_order  reordered  aisle_id  department_id  user_id eval_set  order_number  order_dow  order_hour_of_day  days_since_prior_order  department   aisle\n",
       "0   1119  Yogurt, vanilla, low fat.      30442  Low Fat Vanilla Yogurt             171.0               5.0           85.0                                   0.343                                   0.036                             0.806                           NaN                       0.0           0.07         4.93             66.0               13.8                   1.25       79.0        27                  2          1       120             16   129389    prior            16          6                 20                    14.0  dairy eggs  yogurt\n",
       "1   1119  Yogurt, vanilla, low fat.      30442  Low Fat Vanilla Yogurt             171.0               5.0           85.0                                   0.343                                   0.036                             0.806                           NaN                       0.0           0.07         4.93             66.0               13.8                   1.25       79.0      3024                  1          0       120             16    56367    prior            17          3                 13                    19.0  dairy eggs  yogurt\n",
       "2   1119  Yogurt, vanilla, low fat.      30442  Low Fat Vanilla Yogurt             171.0               5.0           85.0                                   0.343                                   0.036                             0.806                           NaN                       0.0           0.07         4.93             66.0               13.8                   1.25       79.0      4966                  1          0       120             16   164868    prior             1          2                 14                     0.0  dairy eggs  yogurt"
      ]
     },
     "execution_count": 114,
     "metadata": {},
     "output_type": "execute_result"
    }
   ],
   "source": [
    "usda_instacart_final_df.head(3)"
   ]
  },
  {
   "cell_type": "code",
   "execution_count": 115,
   "metadata": {},
   "outputs": [
    {
     "data": {
      "text/plain": [
       "NDB_No                                        0\n",
       "Long_Desc                                     0\n",
       "product_id                                    0\n",
       "product_name                                  0\n",
       "Calcium, Ca (mg)                              0\n",
       "Cholesterol (mg)                            979\n",
       "Energy (kcal)                                 0\n",
       "Fatty acids, total monounsaturated (g)     4061\n",
       "Fatty acids, total polyunsaturated (g)     3993\n",
       "Fatty acids, total saturated (g)            291\n",
       "Fatty acids, total trans (g)              28392\n",
       "Fiber, total dietary (g)                    823\n",
       "Iron, Fe (mg)                                 0\n",
       "Protein (g)                                   0\n",
       "Sodium, Na (mg)                               0\n",
       "Sugars, total (g)                          1698\n",
       "Total lipid (fat) (g)                         0\n",
       "Water (g)                                     0\n",
       "order_id                                      0\n",
       "add_to_cart_order                             0\n",
       "reordered                                     0\n",
       "aisle_id                                      0\n",
       "department_id                                 0\n",
       "user_id                                       0\n",
       "eval_set                                      0\n",
       "order_number                                  0\n",
       "order_dow                                     0\n",
       "order_hour_of_day                             0\n",
       "days_since_prior_order                        0\n",
       "department                                    0\n",
       "aisle                                         0\n",
       "dtype: int64"
      ]
     },
     "execution_count": 115,
     "metadata": {},
     "output_type": "execute_result"
    }
   ],
   "source": [
    "#  check the nulls\n",
    "usda_instacart_final_df.isnull().sum()"
   ]
  },
  {
   "cell_type": "code",
   "execution_count": 116,
   "metadata": {},
   "outputs": [],
   "source": [
    "# fill the NaN s with '0', whereever the nutrient information is not given\n",
    "usda_instacart_final_df.fillna(0, inplace=True)"
   ]
  },
  {
   "cell_type": "code",
   "execution_count": 117,
   "metadata": {
    "scrolled": true
   },
   "outputs": [
    {
     "data": {
      "text/plain": [
       "0"
      ]
     },
     "execution_count": 117,
     "metadata": {},
     "output_type": "execute_result"
    }
   ],
   "source": [
    "usda_instacart_final_df.isnull().sum().sum()"
   ]
  },
  {
   "cell_type": "code",
   "execution_count": 118,
   "metadata": {},
   "outputs": [
    {
     "data": {
      "text/plain": [
       "Index(['NDB_No', 'Long_Desc', 'product_id', 'product_name', 'Calcium, Ca (mg)', 'Cholesterol (mg)', 'Energy (kcal)', 'Fatty acids, total monounsaturated (g)', 'Fatty acids, total polyunsaturated (g)', 'Fatty acids, total saturated (g)', 'Fatty acids, total trans (g)', 'Fiber, total dietary (g)', 'Iron, Fe (mg)', 'Protein (g)', 'Sodium, Na (mg)', 'Sugars, total (g)', 'Total lipid (fat) (g)', 'Water (g)', 'order_id', 'add_to_cart_order', 'reordered', 'aisle_id', 'department_id', 'user_id', 'eval_set', 'order_number', 'order_dow', 'order_hour_of_day', 'days_since_prior_order', 'department', 'aisle'], dtype='object')"
      ]
     },
     "execution_count": 118,
     "metadata": {},
     "output_type": "execute_result"
    }
   ],
   "source": [
    "usda_instacart_final_df.columns"
   ]
  },
  {
   "cell_type": "code",
   "execution_count": 119,
   "metadata": {},
   "outputs": [],
   "source": [
    "# store into csv\n",
    "usda_instacart_final_df.to_csv('./prepared_data/USDA_Insta_Final_Data.csv')"
   ]
  },
  {
   "cell_type": "code",
   "execution_count": null,
   "metadata": {},
   "outputs": [],
   "source": []
  }
 ],
 "metadata": {
  "kernelspec": {
   "display_name": "Python 3",
   "language": "python",
   "name": "python3"
  },
  "language_info": {
   "codemirror_mode": {
    "name": "ipython",
    "version": 3
   },
   "file_extension": ".py",
   "mimetype": "text/x-python",
   "name": "python",
   "nbconvert_exporter": "python",
   "pygments_lexer": "ipython3",
   "version": "3.6.8"
  }
 },
 "nbformat": 4,
 "nbformat_minor": 2
}
