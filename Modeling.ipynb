{
 "cells": [
  {
   "cell_type": "code",
   "execution_count": 1,
   "metadata": {},
   "outputs": [],
   "source": [
    "# import libraries\n",
    "import pandas as pd\n",
    "import numpy as np\n",
    "import matplotlib.pyplot as plt\n",
    "import seaborn as sns\n",
    "%matplotlib inline\n",
    "\n",
    "from sklearn.linear_model import LogisticRegression\n",
    "from sklearn.model_selection import train_test_split, cross_val_score\n",
    "\n",
    "from sklearn.tree import DecisionTreeRegressor,DecisionTreeClassifier\n",
    "from sklearn.preprocessing import PolynomialFeatures, StandardScaler\n",
    "from sklearn.metrics import accuracy_score,mean_squared_error,confusion_matrix,f1_score\n",
    "from sklearn.model_selection import GridSearchCV, train_test_split, cross_val_score\n",
    "from sklearn.ensemble import (RandomForestClassifier,RandomForestRegressor, ExtraTreesClassifier,\n",
    "                              BaggingClassifier, AdaBoostRegressor)\n",
    "from sklearn import svm\n",
    "from sklearn.neighbors import KNeighborsRegressor, KNeighborsClassifier\n",
    "from sklearn.pipeline import Pipeline\n",
    "from sklearn.ensemble import AdaBoostClassifier\n",
    "\n",
    "\n",
    "import warnings\n",
    "\n",
    "from sklearn.metrics import roc_curve, auc, roc_auc_score\n",
    "from sklearn.metrics import confusion_matrix,accuracy_score, f1_score, classification_report\n"
   ]
  },
  {
   "cell_type": "code",
   "execution_count": 2,
   "metadata": {},
   "outputs": [],
   "source": [
    "# Load the final csv \n",
    "usda_instacart_final_df= pd.read_csv('./prepared_data/USDA_Insta_Final_Data.csv',index_col = 'Unnamed: 0')"
   ]
  },
  {
   "cell_type": "code",
   "execution_count": 3,
   "metadata": {},
   "outputs": [
    {
     "data": {
      "text/plain": [
       "(47877, 31)"
      ]
     },
     "execution_count": 3,
     "metadata": {},
     "output_type": "execute_result"
    }
   ],
   "source": [
    "usda_instacart_final_df.shape"
   ]
  },
  {
   "cell_type": "code",
   "execution_count": 4,
   "metadata": {},
   "outputs": [
    {
     "data": {
      "text/plain": [
       "Index(['NDB_No', 'Long_Desc', 'product_id', 'product_name', 'Calcium, Ca (mg)',\n",
       "       'Cholesterol (mg)', 'Energy (kcal)',\n",
       "       'Fatty acids, total monounsaturated (g)',\n",
       "       'Fatty acids, total polyunsaturated (g)',\n",
       "       'Fatty acids, total saturated (g)', 'Fatty acids, total trans (g)',\n",
       "       'Fiber, total dietary (g)', 'Iron, Fe (mg)', 'Protein (g)',\n",
       "       'Sodium, Na (mg)', 'Sugars, total (g)', 'Total lipid (fat) (g)',\n",
       "       'Water (g)', 'order_id', 'add_to_cart_order', 'reordered', 'aisle_id',\n",
       "       'department_id', 'user_id', 'eval_set', 'order_number', 'order_dow',\n",
       "       'order_hour_of_day', 'days_since_prior_order', 'department', 'aisle'],\n",
       "      dtype='object')"
      ]
     },
     "execution_count": 4,
     "metadata": {},
     "output_type": "execute_result"
    }
   ],
   "source": [
    "usda_instacart_final_df.columns"
   ]
  },
  {
   "cell_type": "code",
   "execution_count": 5,
   "metadata": {},
   "outputs": [
    {
     "data": {
      "text/html": [
       "<div>\n",
       "<style scoped>\n",
       "    .dataframe tbody tr th:only-of-type {\n",
       "        vertical-align: middle;\n",
       "    }\n",
       "\n",
       "    .dataframe tbody tr th {\n",
       "        vertical-align: top;\n",
       "    }\n",
       "\n",
       "    .dataframe thead th {\n",
       "        text-align: right;\n",
       "    }\n",
       "</style>\n",
       "<table border=\"1\" class=\"dataframe\">\n",
       "  <thead>\n",
       "    <tr style=\"text-align: right;\">\n",
       "      <th></th>\n",
       "      <th>NDB_No</th>\n",
       "      <th>Cholesterol (mg)</th>\n",
       "      <th>Protein (g)</th>\n",
       "      <th>Sugars, total (g)</th>\n",
       "      <th>Total lipid (fat) (g)</th>\n",
       "      <th>add_to_cart_order</th>\n",
       "      <th>reordered</th>\n",
       "      <th>order_number</th>\n",
       "      <th>order_dow</th>\n",
       "      <th>order_hour_of_day</th>\n",
       "      <th>days_since_prior_order</th>\n",
       "    </tr>\n",
       "  </thead>\n",
       "  <tbody>\n",
       "    <tr>\n",
       "      <th>0</th>\n",
       "      <td>1119</td>\n",
       "      <td>5.0</td>\n",
       "      <td>4.93</td>\n",
       "      <td>13.8</td>\n",
       "      <td>1.25</td>\n",
       "      <td>2</td>\n",
       "      <td>1</td>\n",
       "      <td>16</td>\n",
       "      <td>6</td>\n",
       "      <td>20</td>\n",
       "      <td>14.0</td>\n",
       "    </tr>\n",
       "    <tr>\n",
       "      <th>1</th>\n",
       "      <td>1119</td>\n",
       "      <td>5.0</td>\n",
       "      <td>4.93</td>\n",
       "      <td>13.8</td>\n",
       "      <td>1.25</td>\n",
       "      <td>1</td>\n",
       "      <td>0</td>\n",
       "      <td>17</td>\n",
       "      <td>3</td>\n",
       "      <td>13</td>\n",
       "      <td>19.0</td>\n",
       "    </tr>\n",
       "    <tr>\n",
       "      <th>2</th>\n",
       "      <td>1119</td>\n",
       "      <td>5.0</td>\n",
       "      <td>4.93</td>\n",
       "      <td>13.8</td>\n",
       "      <td>1.25</td>\n",
       "      <td>1</td>\n",
       "      <td>0</td>\n",
       "      <td>1</td>\n",
       "      <td>2</td>\n",
       "      <td>14</td>\n",
       "      <td>0.0</td>\n",
       "    </tr>\n",
       "    <tr>\n",
       "      <th>3</th>\n",
       "      <td>1119</td>\n",
       "      <td>5.0</td>\n",
       "      <td>4.93</td>\n",
       "      <td>13.8</td>\n",
       "      <td>1.25</td>\n",
       "      <td>1</td>\n",
       "      <td>1</td>\n",
       "      <td>26</td>\n",
       "      <td>5</td>\n",
       "      <td>13</td>\n",
       "      <td>7.0</td>\n",
       "    </tr>\n",
       "    <tr>\n",
       "      <th>4</th>\n",
       "      <td>1119</td>\n",
       "      <td>5.0</td>\n",
       "      <td>4.93</td>\n",
       "      <td>13.8</td>\n",
       "      <td>1.25</td>\n",
       "      <td>5</td>\n",
       "      <td>1</td>\n",
       "      <td>3</td>\n",
       "      <td>3</td>\n",
       "      <td>16</td>\n",
       "      <td>30.0</td>\n",
       "    </tr>\n",
       "  </tbody>\n",
       "</table>\n",
       "</div>"
      ],
      "text/plain": [
       "   NDB_No  Cholesterol (mg)  Protein (g)  Sugars, total (g)  \\\n",
       "0    1119               5.0         4.93               13.8   \n",
       "1    1119               5.0         4.93               13.8   \n",
       "2    1119               5.0         4.93               13.8   \n",
       "3    1119               5.0         4.93               13.8   \n",
       "4    1119               5.0         4.93               13.8   \n",
       "\n",
       "   Total lipid (fat) (g)  add_to_cart_order  reordered  order_number  \\\n",
       "0                   1.25                  2          1            16   \n",
       "1                   1.25                  1          0            17   \n",
       "2                   1.25                  1          0             1   \n",
       "3                   1.25                  1          1            26   \n",
       "4                   1.25                  5          1             3   \n",
       "\n",
       "   order_dow  order_hour_of_day  days_since_prior_order  \n",
       "0          6                 20                    14.0  \n",
       "1          3                 13                    19.0  \n",
       "2          2                 14                     0.0  \n",
       "3          5                 13                     7.0  \n",
       "4          3                 16                    30.0  "
      ]
     },
     "execution_count": 5,
     "metadata": {},
     "output_type": "execute_result"
    }
   ],
   "source": [
    "usda_instacart_final_df= usda_instacart_final_df.drop(columns=['order_id','user_id','product_id',\n",
    "                                            'department_id','product_name',\n",
    "                                            'aisle_id','aisle','department','eval_set',\n",
    "                                            'Long_Desc', 'product_id', 'product_name', 'Calcium, Ca (mg)',\n",
    "                                            'Energy (kcal)','Fatty acids, total monounsaturated (g)',\n",
    "                                            'Fatty acids, total polyunsaturated (g)',\n",
    "                                            'Fatty acids, total saturated (g)', 'Fatty acids, total trans (g)',\n",
    "                                            'Fiber, total dietary (g)', 'Iron, Fe (mg)',\n",
    "                                            'Sodium, Na (mg)','Water (g)'],axis=1)\n",
    "usda_instacart_final_df.head()"
   ]
  },
  {
   "cell_type": "code",
   "execution_count": 6,
   "metadata": {},
   "outputs": [],
   "source": [
    "# define X and y\n",
    "X = usda_instacart_final_df.drop('reordered', axis=1)\n",
    "y = usda_instacart_final_df['reordered']"
   ]
  },
  {
   "cell_type": "code",
   "execution_count": 7,
   "metadata": {},
   "outputs": [
    {
     "data": {
      "text/plain": [
       "0    0.501138\n",
       "1    0.498862\n",
       "Name: reordered, dtype: float64"
      ]
     },
     "execution_count": 7,
     "metadata": {},
     "output_type": "execute_result"
    }
   ],
   "source": [
    "# base line\n",
    "y.value_counts(normalize = True)"
   ]
  },
  {
   "cell_type": "code",
   "execution_count": 8,
   "metadata": {},
   "outputs": [],
   "source": [
    "# train test split\n",
    "X_train, X_test, y_train, y_test = train_test_split(X, y, test_size = 0.3,\n",
    "                                                    random_state = 42,\n",
    "                                                    stratify = y)"
   ]
  },
  {
   "cell_type": "code",
   "execution_count": 9,
   "metadata": {},
   "outputs": [
    {
     "name": "stdout",
     "output_type": "stream",
     "text": [
      "train score: 0.690538000179035\n",
      "test score: 0.6978557504873294\n"
     ]
    },
    {
     "name": "stderr",
     "output_type": "stream",
     "text": [
      "/Users/kkesari/anaconda3/envs/dsi/lib/python3.6/site-packages/sklearn/linear_model/logistic.py:433: FutureWarning: Default solver will be changed to 'lbfgs' in 0.22. Specify a solver to silence this warning.\n",
      "  FutureWarning)\n"
     ]
    }
   ],
   "source": [
    "lr = LogisticRegression()                          # instantiate the model\n",
    "lr.fit(X_train,y_train)                            # fit the model\n",
    "print(\"train score:\", lr.score(X_train, y_train))\n",
    "print(\"test score:\", lr.score(X_test, y_test))"
   ]
  },
  {
   "cell_type": "code",
   "execution_count": 10,
   "metadata": {},
   "outputs": [
    {
     "name": "stdout",
     "output_type": "stream",
     "text": [
      "[[5664 1534]\n",
      " [2806 4360]]\n",
      "accuracy: 0.6978557504873294\n",
      "tn, fp, fn, tp: 5664 1534 2806 4360\n",
      "f1 score: 0.6676875957120979\n",
      "              precision    recall  f1-score   support\n",
      "\n",
      "           0       0.67      0.79      0.72      7198\n",
      "           1       0.74      0.61      0.67      7166\n",
      "\n",
      "   micro avg       0.70      0.70      0.70     14364\n",
      "   macro avg       0.70      0.70      0.70     14364\n",
      "weighted avg       0.70      0.70      0.70     14364\n",
      "\n"
     ]
    }
   ],
   "source": [
    "# evaluate the model\n",
    "# evaluate the metrics\n",
    "y_pred = lr.predict(X_test)\n",
    "print(confusion_matrix(y_test, y_pred))\n",
    "print(\"accuracy:\", accuracy_score(y_test, y_pred))\n",
    "tn, fp, fn, tp = confusion_matrix(y_test,y_pred).ravel()\n",
    "print(\"tn, fp, fn, tp:\", tn, fp, fn, tp)\n",
    "print(\"f1 score:\",f1_score(y_test, y_pred))\n",
    "print(classification_report(y_test, y_pred))"
   ]
  },
  {
   "cell_type": "code",
   "execution_count": 11,
   "metadata": {},
   "outputs": [
    {
     "name": "stdout",
     "output_type": "stream",
     "text": [
      "train score: 0.983469101542685\n",
      "test score: 0.70843776106934\n"
     ]
    }
   ],
   "source": [
    "bag = BaggingClassifier() # instantiate the model\n",
    "bag.fit(X_train, y_train) # fit the model\n",
    "print(\"train score:\", bag.score(X_train, y_train))\n",
    "print(\"test score:\", bag.score(X_test, y_test))"
   ]
  },
  {
   "cell_type": "code",
   "execution_count": 12,
   "metadata": {},
   "outputs": [
    {
     "name": "stdout",
     "output_type": "stream",
     "text": [
      "[[5327 1871]\n",
      " [2317 4849]]\n",
      "tn, fp, fn, tp: 5327 1871 2317 4849\n",
      "accuracy: 0.70843776106934\n",
      "f1 score: 0.6984012674636324\n",
      "              precision    recall  f1-score   support\n",
      "\n",
      "           0       0.70      0.74      0.72      7198\n",
      "           1       0.72      0.68      0.70      7166\n",
      "\n",
      "   micro avg       0.71      0.71      0.71     14364\n",
      "   macro avg       0.71      0.71      0.71     14364\n",
      "weighted avg       0.71      0.71      0.71     14364\n",
      "\n"
     ]
    }
   ],
   "source": [
    "# evaluate the model\n",
    "# evaluate the metrics\n",
    "\n",
    "y_pred_bag = bag.predict(X_test)\n",
    "print(confusion_matrix(y_test, y_pred_bag))\n",
    "tn, fp, fn, tp = confusion_matrix(y_test,y_pred_bag).ravel()\n",
    "print(\"tn, fp, fn, tp:\", tn, fp, fn, tp)\n",
    "print(\"accuracy:\", accuracy_score(y_test, y_pred_bag))\n",
    "print(\"f1 score:\",f1_score(y_test, y_pred_bag))\n",
    "print(classification_report(y_test, y_pred_bag))"
   ]
  },
  {
   "cell_type": "code",
   "execution_count": 13,
   "metadata": {},
   "outputs": [
    {
     "name": "stdout",
     "output_type": "stream",
     "text": [
      "train score: 0.7172142153791066\n",
      "train score: 0.7201336675020885\n"
     ]
    }
   ],
   "source": [
    "# Decision Tree Classifier\n",
    "tree = DecisionTreeClassifier(max_depth=5) # instantiate the model\n",
    "tree.fit(X_train, y_train)                 # fit the model\n",
    "print(\"train score:\", tree.score(X_train, y_train))\n",
    "print(\"train score:\", tree.score(X_test, y_test))"
   ]
  },
  {
   "cell_type": "code",
   "execution_count": 14,
   "metadata": {},
   "outputs": [
    {
     "name": "stdout",
     "output_type": "stream",
     "text": [
      "[[4711 2487]\n",
      " [1533 5633]]\n",
      "tn, fp, fn, tp: 4711 2487 1533 5633\n",
      "accuracy: 0.7201336675020885\n",
      "f1 score: 0.7370142614156746\n",
      "              precision    recall  f1-score   support\n",
      "\n",
      "           0       0.75      0.65      0.70      7198\n",
      "           1       0.69      0.79      0.74      7166\n",
      "\n",
      "   micro avg       0.72      0.72      0.72     14364\n",
      "   macro avg       0.72      0.72      0.72     14364\n",
      "weighted avg       0.72      0.72      0.72     14364\n",
      "\n"
     ]
    }
   ],
   "source": [
    "# evaluate the model\n",
    "# evaluate the metrics\n",
    "\n",
    "y_pred_tree = tree.predict(X_test)\n",
    "print(confusion_matrix(y_test, y_pred_tree))\n",
    "tn, fp, fn, tp = confusion_matrix(y_test,y_pred_tree).ravel()\n",
    "print(\"tn, fp, fn, tp:\", tn, fp, fn, tp)\n",
    "print(\"accuracy:\", accuracy_score(y_test, y_pred_tree))\n",
    "print(\"f1 score:\",f1_score(y_test, y_pred_tree))\n",
    "print(classification_report(y_test, y_pred_tree))"
   ]
  },
  {
   "cell_type": "code",
   "execution_count": 15,
   "metadata": {},
   "outputs": [
    {
     "name": "stderr",
     "output_type": "stream",
     "text": [
      "/Users/kkesari/anaconda3/envs/dsi/lib/python3.6/site-packages/sklearn/ensemble/forest.py:246: FutureWarning: The default value of n_estimators will change from 10 in version 0.20 to 100 in 0.22.\n",
      "  \"10 in version 0.20 to 100 in 0.22.\", FutureWarning)\n"
     ]
    },
    {
     "name": "stdout",
     "output_type": "stream",
     "text": [
      "train score: 0.9837674932115895\n",
      "test score: 0.7130325814536341\n"
     ]
    }
   ],
   "source": [
    "# Random forest classifier\n",
    "rfc = RandomForestClassifier(random_state=42) # instantiate the model\n",
    "rfc.fit(X_train, y_train)                     # fit the model\n",
    "print(\"train score:\", rfc.score(X_train, y_train))\n",
    "print(\"test score:\", rfc.score(X_test, y_test))"
   ]
  },
  {
   "cell_type": "code",
   "execution_count": 16,
   "metadata": {},
   "outputs": [
    {
     "name": "stdout",
     "output_type": "stream",
     "text": [
      "Fitting 2 folds for each of 24 candidates, totalling 48 fits\n"
     ]
    },
    {
     "name": "stderr",
     "output_type": "stream",
     "text": [
      "[Parallel(n_jobs=1)]: Using backend SequentialBackend with 1 concurrent workers.\n",
      "[Parallel(n_jobs=1)]: Done  48 out of  48 | elapsed:   16.8s finished\n"
     ]
    },
    {
     "name": "stdout",
     "output_type": "stream",
     "text": [
      "grid.best_score_: 0.7328797779965983\n",
      "grid.best_params_: {'max_depth': 10, 'n_estimators': 100}\n"
     ]
    }
   ],
   "source": [
    "# grid search\n",
    "params = {'n_estimators':[5,10,50,100], 'max_depth':[None,2,3,4,10,11]}\n",
    "grid = GridSearchCV(rfc, param_grid = params,cv=2,verbose=1)\n",
    "grid.fit(X_train,y_train)\n",
    "print(\"grid.best_score_:\", grid.best_score_)\n",
    "print(\"grid.best_params_:\", grid.best_params_)"
   ]
  },
  {
   "cell_type": "code",
   "execution_count": 17,
   "metadata": {},
   "outputs": [
    {
     "name": "stdout",
     "output_type": "stream",
     "text": [
      "[[5356 1842]\n",
      " [2280 4886]]\n",
      "tn, fp, fn, tp: 5356 1842 2280 4886\n",
      "accuracy: 0.7130325814536341\n",
      "f1 score: 0.7033251763351086\n",
      "              precision    recall  f1-score   support\n",
      "\n",
      "           0       0.70      0.74      0.72      7198\n",
      "           1       0.73      0.68      0.70      7166\n",
      "\n",
      "   micro avg       0.71      0.71      0.71     14364\n",
      "   macro avg       0.71      0.71      0.71     14364\n",
      "weighted avg       0.71      0.71      0.71     14364\n",
      "\n"
     ]
    }
   ],
   "source": [
    "# evaluate the model\n",
    "# evaluate the metrics\n",
    "\n",
    "y_pred_rfc = rfc.predict(X_test)\n",
    "print(confusion_matrix(y_test, y_pred_rfc))\n",
    "tn, fp, fn, tp = confusion_matrix(y_test,y_pred_rfc).ravel()\n",
    "print(\"tn, fp, fn, tp:\", tn, fp, fn, tp)\n",
    "print(\"accuracy:\", accuracy_score(y_test, y_pred_rfc))\n",
    "print(\"f1 score:\",f1_score(y_test, y_pred_rfc))\n",
    "print(classification_report(y_test, y_pred_rfc))"
   ]
  },
  {
   "cell_type": "code",
   "execution_count": 18,
   "metadata": {},
   "outputs": [
    {
     "name": "stdout",
     "output_type": "stream",
     "text": [
      "0.8261537688741493\n"
     ]
    }
   ],
   "source": [
    "probs = grid.best_estimator_.predict_proba(X_test) # Predict probabilities for the test data.\n",
    "preds = probs[:,1] # Keep Probabilities of the positive class only\n",
    "fpr, tpr, threshold = roc_curve(y_test, preds)\n",
    "roc_auc = auc(fpr, tpr)\n",
    "print(roc_auc)"
   ]
  },
  {
   "cell_type": "code",
   "execution_count": 19,
   "metadata": {},
   "outputs": [
    {
     "data": {
      "image/png": "[encoded data removed]",
      "text/plain": [
       "<Figure size 432x288 with 1 Axes>"
      ]
     },
     "metadata": {
      "needs_background": "light"
     },
     "output_type": "display_data"
    }
   ],
   "source": [
    "# calculate the fpr and tpr for all thresholds of the classification\n",
    "probs = grid.best_estimator_.predict_proba(X_test)\n",
    "preds = probs[:,1]\n",
    "fpr, tpr, threshold = roc_curve(y_test, preds)\n",
    "roc_auc = auc(fpr, tpr)\n",
    "\n",
    "\n",
    "# plot roc curve\n",
    "import matplotlib.pyplot as plt\n",
    "plt.title('Receiver Operating Characteristic')\n",
    "plt.plot(fpr, tpr, 'b', label = 'AUC = %0.3f' % roc_auc)\n",
    "plt.legend(loc = 'lower right')\n",
    "plt.plot([0, 1], [0, 1],'r--')\n",
    "plt.xlim([0, 1])\n",
    "plt.ylim([0, 1])\n",
    "plt.ylabel('True Positive Rate')\n",
    "plt.xlabel('False Positive Rate')\n",
    "plt.show();\n"
   ]
  },
  {
   "cell_type": "code",
   "execution_count": 20,
   "metadata": {},
   "outputs": [],
   "source": [
    "from sklearn.ensemble import AdaBoostClassifier\n",
    "\n",
    "scores_test = []\n",
    "scores_train = []\n",
    "n_estimators = []\n",
    "\n",
    "for n_est in range(30):\n",
    "    ada = AdaBoostClassifier(n_estimators=n_est+1, random_state=42) # instantiate the model\n",
    "    ada.fit(X_train, y_train) # fit the model\n",
    "    n_estimators.append(n_est+1)\n",
    "    scores_test.append(ada.score(X_test, y_test))\n",
    "    scores_train.append(ada.score(X_train, y_train))"
   ]
  },
  {
   "cell_type": "code",
   "execution_count": 21,
   "metadata": {},
   "outputs": [
    {
     "name": "stdout",
     "output_type": "stream",
     "text": [
      "test score: 0.7300194931773879\n",
      "train score: 0.7258974129442306\n"
     ]
    }
   ],
   "source": [
    "print(\"test score:\", ada.score(X_test, y_test))\n",
    "print(\"train score:\", ada.score(X_train, y_train))"
   ]
  },
  {
   "cell_type": "code",
   "execution_count": 22,
   "metadata": {},
   "outputs": [],
   "source": [
    "# Create adaboost-decision tree classifer \n",
    "# abc = AdaBoostClassifier(n_estimators=30,\n",
    "#                          learning_rate=1,\n",
    "#                          random_state=42)\n",
    "# # Train model\n",
    "# model = abc.fit(X, y)"
   ]
  },
  {
   "cell_type": "code",
   "execution_count": 23,
   "metadata": {},
   "outputs": [
    {
     "data": {
      "text/plain": [
       "<matplotlib.legend.Legend at 0x1a1b627198>"
      ]
     },
     "execution_count": 23,
     "metadata": {},
     "output_type": "execute_result"
    },
    {
     "data": {
      "image/png": "[encoded data removed]",
      "text/plain": [
       "<Figure size 432x288 with 1 Axes>"
      ]
     },
     "metadata": {
      "needs_background": "light"
     },
     "output_type": "display_data"
    }
   ],
   "source": [
    "\n",
    "plt.plot(n_estimators, scores_test, label='Test scores')\n",
    "plt.plot(n_estimators, scores_train, label='Train scores')\n",
    "plt.xlabel('# Estimators')\n",
    "plt.ylabel('Accuracy')\n",
    "plt.legend()"
   ]
  },
  {
   "cell_type": "code",
   "execution_count": 24,
   "metadata": {},
   "outputs": [],
   "source": [
    "y_pred_ada = ada.predict(X_test)"
   ]
  },
  {
   "cell_type": "code",
   "execution_count": 25,
   "metadata": {},
   "outputs": [
    {
     "name": "stdout",
     "output_type": "stream",
     "text": [
      "Accuracy: 0.7300194931773879\n"
     ]
    }
   ],
   "source": [
    "# Model Accuracy, how often is the classifier correct?\n",
    "print(\"Accuracy:\", accuracy_score(y_test, y_pred_ada))"
   ]
  },
  {
   "cell_type": "code",
   "execution_count": 26,
   "metadata": {},
   "outputs": [
    {
     "name": "stdout",
     "output_type": "stream",
     "text": [
      "[[5045 2153]\n",
      " [1725 5441]]\n",
      "tn, fp, fn, tp: 5045 2153 1725 5441\n",
      "f1 score: 0.7372628726287264\n",
      "              precision    recall  f1-score   support\n",
      "\n",
      "           0       0.75      0.70      0.72      7198\n",
      "           1       0.72      0.76      0.74      7166\n",
      "\n",
      "   micro avg       0.73      0.73      0.73     14364\n",
      "   macro avg       0.73      0.73      0.73     14364\n",
      "weighted avg       0.73      0.73      0.73     14364\n",
      "\n"
     ]
    }
   ],
   "source": [
    "# evaluation metrics\n",
    "print((confusion_matrix(y_test, y_pred_ada)))\n",
    "tn, fp, fn, tp = confusion_matrix(y_test,y_pred_ada).ravel()\n",
    "print(\"tn, fp, fn, tp:\", tn, fp, fn, tp)\n",
    "print(\"f1 score:\",f1_score(y_test, y_pred_ada))\n",
    "print(classification_report(y_test, y_pred_ada))"
   ]
  },
  {
   "cell_type": "code",
   "execution_count": null,
   "metadata": {},
   "outputs": [],
   "source": []
  }
 ],
 "metadata": {
  "kernelspec": {
   "display_name": "Python 3",
   "language": "python",
   "name": "python3"
  },
  "language_info": {
   "codemirror_mode": {
    "name": "ipython",
    "version": 3
   },
   "file_extension": ".py",
   "mimetype": "text/x-python",
   "name": "python",
   "nbconvert_exporter": "python",
   "pygments_lexer": "ipython3",
   "version": "3.6.8"
  }
 },
 "nbformat": 4,
 "nbformat_minor": 2
}
