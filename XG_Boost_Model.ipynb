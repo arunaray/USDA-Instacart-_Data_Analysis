{
 "cells": [
  {
   "cell_type": "code",
   "execution_count": 1,
   "metadata": {},
   "outputs": [],
   "source": [
    "# import libraries\n",
    "import pandas as pd\n",
    "import numpy as np\n",
    "import matplotlib.pyplot as plt\n",
    "import seaborn as sns\n",
    "%matplotlib inline\n",
    "\n",
    "from sklearn.linear_model import LogisticRegression\n",
    "from sklearn.model_selection import train_test_split, cross_val_score\n",
    "\n",
    "from sklearn.tree import DecisionTreeRegressor,DecisionTreeClassifier\n",
    "from sklearn.preprocessing import PolynomialFeatures, StandardScaler\n",
    "from sklearn.metrics import accuracy_score,mean_squared_error,confusion_matrix,f1_score\n",
    "from sklearn.model_selection import GridSearchCV, train_test_split, cross_val_score\n",
    "from sklearn.ensemble import (RandomForestClassifier,RandomForestRegressor, ExtraTreesClassifier,\n",
    "                              BaggingClassifier, AdaBoostRegressor)\n",
    "from sklearn import svm\n",
    "from sklearn.neighbors import KNeighborsRegressor, KNeighborsClassifier\n",
    "from sklearn.pipeline import Pipeline\n",
    "from sklearn.ensemble import AdaBoostClassifier\n",
    "from xgboost import XGBClassifier\n",
    "\n",
    "\n",
    "import warnings\n",
    "\n",
    "from sklearn.metrics import roc_curve, auc\n",
    "from sklearn.metrics import confusion_matrix,accuracy_score, f1_score, classification_report"
   ]
  },
  {
   "cell_type": "code",
   "execution_count": 2,
   "metadata": {},
   "outputs": [],
   "source": [
    "# Load the final csv \n",
    "usda_instacart_final_df= pd.read_csv('./prepared_data/USDA_Insta_Final_Data.csv',index_col = 'Unnamed: 0')"
   ]
  },
  {
   "cell_type": "code",
   "execution_count": 3,
   "metadata": {},
   "outputs": [
    {
     "data": {
      "text/html": [
       "<div>\n",
       "<style scoped>\n",
       "    .dataframe tbody tr th:only-of-type {\n",
       "        vertical-align: middle;\n",
       "    }\n",
       "\n",
       "    .dataframe tbody tr th {\n",
       "        vertical-align: top;\n",
       "    }\n",
       "\n",
       "    .dataframe thead th {\n",
       "        text-align: right;\n",
       "    }\n",
       "</style>\n",
       "<table border=\"1\" class=\"dataframe\">\n",
       "  <thead>\n",
       "    <tr style=\"text-align: right;\">\n",
       "      <th></th>\n",
       "      <th>NDB_No</th>\n",
       "      <th>Cholesterol (mg)</th>\n",
       "      <th>Protein (g)</th>\n",
       "      <th>Sugars, total (g)</th>\n",
       "      <th>Total lipid (fat) (g)</th>\n",
       "      <th>add_to_cart_order</th>\n",
       "      <th>reordered</th>\n",
       "      <th>order_number</th>\n",
       "      <th>order_dow</th>\n",
       "      <th>order_hour_of_day</th>\n",
       "      <th>days_since_prior_order</th>\n",
       "    </tr>\n",
       "  </thead>\n",
       "  <tbody>\n",
       "    <tr>\n",
       "      <th>0</th>\n",
       "      <td>1119</td>\n",
       "      <td>5.0</td>\n",
       "      <td>4.93</td>\n",
       "      <td>13.8</td>\n",
       "      <td>1.25</td>\n",
       "      <td>2</td>\n",
       "      <td>1</td>\n",
       "      <td>16</td>\n",
       "      <td>6</td>\n",
       "      <td>20</td>\n",
       "      <td>14.0</td>\n",
       "    </tr>\n",
       "    <tr>\n",
       "      <th>1</th>\n",
       "      <td>1119</td>\n",
       "      <td>5.0</td>\n",
       "      <td>4.93</td>\n",
       "      <td>13.8</td>\n",
       "      <td>1.25</td>\n",
       "      <td>1</td>\n",
       "      <td>0</td>\n",
       "      <td>17</td>\n",
       "      <td>3</td>\n",
       "      <td>13</td>\n",
       "      <td>19.0</td>\n",
       "    </tr>\n",
       "    <tr>\n",
       "      <th>2</th>\n",
       "      <td>1119</td>\n",
       "      <td>5.0</td>\n",
       "      <td>4.93</td>\n",
       "      <td>13.8</td>\n",
       "      <td>1.25</td>\n",
       "      <td>1</td>\n",
       "      <td>0</td>\n",
       "      <td>1</td>\n",
       "      <td>2</td>\n",
       "      <td>14</td>\n",
       "      <td>0.0</td>\n",
       "    </tr>\n",
       "    <tr>\n",
       "      <th>3</th>\n",
       "      <td>1119</td>\n",
       "      <td>5.0</td>\n",
       "      <td>4.93</td>\n",
       "      <td>13.8</td>\n",
       "      <td>1.25</td>\n",
       "      <td>1</td>\n",
       "      <td>1</td>\n",
       "      <td>26</td>\n",
       "      <td>5</td>\n",
       "      <td>13</td>\n",
       "      <td>7.0</td>\n",
       "    </tr>\n",
       "    <tr>\n",
       "      <th>4</th>\n",
       "      <td>1119</td>\n",
       "      <td>5.0</td>\n",
       "      <td>4.93</td>\n",
       "      <td>13.8</td>\n",
       "      <td>1.25</td>\n",
       "      <td>5</td>\n",
       "      <td>1</td>\n",
       "      <td>3</td>\n",
       "      <td>3</td>\n",
       "      <td>16</td>\n",
       "      <td>30.0</td>\n",
       "    </tr>\n",
       "  </tbody>\n",
       "</table>\n",
       "</div>"
      ],
      "text/plain": [
       "   NDB_No  Cholesterol (mg)  Protein (g)  Sugars, total (g)  \\\n",
       "0    1119               5.0         4.93               13.8   \n",
       "1    1119               5.0         4.93               13.8   \n",
       "2    1119               5.0         4.93               13.8   \n",
       "3    1119               5.0         4.93               13.8   \n",
       "4    1119               5.0         4.93               13.8   \n",
       "\n",
       "   Total lipid (fat) (g)  add_to_cart_order  reordered  order_number  \\\n",
       "0                   1.25                  2          1            16   \n",
       "1                   1.25                  1          0            17   \n",
       "2                   1.25                  1          0             1   \n",
       "3                   1.25                  1          1            26   \n",
       "4                   1.25                  5          1             3   \n",
       "\n",
       "   order_dow  order_hour_of_day  days_since_prior_order  \n",
       "0          6                 20                    14.0  \n",
       "1          3                 13                    19.0  \n",
       "2          2                 14                     0.0  \n",
       "3          5                 13                     7.0  \n",
       "4          3                 16                    30.0  "
      ]
     },
     "execution_count": 3,
     "metadata": {},
     "output_type": "execute_result"
    }
   ],
   "source": [
    "# drop the columns which are not considered in this model\n",
    "usda_instacart_final_df= usda_instacart_final_df.drop(columns=['order_id','user_id','product_id',\n",
    "                                            'department_id','product_name',\n",
    "                                            'aisle_id','aisle','department','eval_set',\n",
    "                                            'Long_Desc', 'product_id', 'product_name', 'Calcium, Ca (mg)',\n",
    "                                            'Energy (kcal)','Fatty acids, total monounsaturated (g)',\n",
    "                                            'Fatty acids, total polyunsaturated (g)',\n",
    "                                            'Fatty acids, total saturated (g)', 'Fatty acids, total trans (g)',\n",
    "                                            'Fiber, total dietary (g)', 'Iron, Fe (mg)',\n",
    "                                            'Sodium, Na (mg)','Water (g)'],axis=1)\n",
    "usda_instacart_final_df.head()"
   ]
  },
  {
   "cell_type": "code",
   "execution_count": 4,
   "metadata": {},
   "outputs": [],
   "source": [
    "# define X and y\n",
    "X = usda_instacart_final_df.drop('reordered', axis=1)\n",
    "y = usda_instacart_final_df['reordered']"
   ]
  },
  {
   "cell_type": "code",
   "execution_count": 5,
   "metadata": {},
   "outputs": [],
   "source": [
    "# train test split\n",
    "X_train, X_test, y_train, y_test = train_test_split(X, y, test_size = 0.3,\n",
    "                                                    random_state = 42,\n",
    "                                                    stratify = y)"
   ]
  },
  {
   "cell_type": "code",
   "execution_count": 6,
   "metadata": {},
   "outputs": [],
   "source": [
    "# instantiate the XGBoost classifier\n",
    "# parameters in XGBoost\n",
    "xgb = XGBClassifier(\n",
    " learning_rate =0.1,\n",
    " n_estimators=1000,\n",
    " max_depth=5,\n",
    " min_child_weight=1,\n",
    " gamma=0,\n",
    " subsample=0.8,\n",
    " colsample_bytree=0.8,\n",
    " objective= 'binary:logistic',\n",
    " nthread=4,\n",
    " scale_pos_weight=1,\n",
    " random_state=42)"
   ]
  },
  {
   "cell_type": "code",
   "execution_count": 7,
   "metadata": {},
   "outputs": [
    {
     "data": {
      "text/plain": [
       "XGBClassifier(base_score=0.5, booster='gbtree', colsample_bylevel=1,\n",
       "       colsample_bynode=1, colsample_bytree=0.8, gamma=0,\n",
       "       learning_rate=0.1, max_delta_step=0, max_depth=5,\n",
       "       min_child_weight=1, missing=None, n_estimators=1000, n_jobs=1,\n",
       "       nthread=4, objective='binary:logistic', random_state=42,\n",
       "       reg_alpha=0, reg_lambda=1, scale_pos_weight=1, seed=None,\n",
       "       silent=None, subsample=0.8, verbosity=1)"
      ]
     },
     "execution_count": 7,
     "metadata": {},
     "output_type": "execute_result"
    }
   ],
   "source": [
    "# fit the model\n",
    "xgb.fit(X,y,eval_metric='auc')"
   ]
  },
  {
   "cell_type": "code",
   "execution_count": 8,
   "metadata": {},
   "outputs": [
    {
     "name": "stdout",
     "output_type": "stream",
     "text": [
      "train score: 0.814191507773103\n",
      "test score: 0.8157894736842105\n"
     ]
    }
   ],
   "source": [
    "print(\"train score:\", xgb.score(X_train, y_train))\n",
    "print(\"test score:\", xgb.score(X_test, y_test))"
   ]
  },
  {
   "cell_type": "code",
   "execution_count": 9,
   "metadata": {},
   "outputs": [],
   "source": [
    "y_pred_xgb = xgb.predict(X_test)"
   ]
  },
  {
   "cell_type": "code",
   "execution_count": 10,
   "metadata": {},
   "outputs": [],
   "source": [
    "from sklearn.metrics import roc_auc_score"
   ]
  },
  {
   "cell_type": "code",
   "execution_count": 11,
   "metadata": {},
   "outputs": [
    {
     "data": {
      "text/plain": [
       "0.8158347781196702"
      ]
     },
     "execution_count": 11,
     "metadata": {},
     "output_type": "execute_result"
    }
   ],
   "source": [
    "# roc_auc score\n",
    "roc_auc_score(y_test, y_pred_xgb)"
   ]
  },
  {
   "cell_type": "code",
   "execution_count": 12,
   "metadata": {},
   "outputs": [
    {
     "name": "stdout",
     "output_type": "stream",
     "text": [
      "Fitting 2 folds for each of 2187 candidates, totalling 4374 fits\n"
     ]
    },
    {
     "name": "stderr",
     "output_type": "stream",
     "text": [
      "[Parallel(n_jobs=1)]: Using backend SequentialBackend with 1 concurrent workers.\n",
      "[Parallel(n_jobs=1)]: Done 4374 out of 4374 | elapsed: 172.4min finished\n"
     ]
    },
    {
     "name": "stdout",
     "output_type": "stream",
     "text": [
      "grid.best_score_: 0.7387879330409095\n",
      "grid.best_params_: {'colsample_bytree': 0.3, 'gamma': 3, 'learning_rate': 0.2, 'max_depth': 5, 'min_child_weight': 1, 'n_estimators': 100, 'subsample': 1}\n"
     ]
    }
   ],
   "source": [
    "params = {\n",
    "    'n_estimators': [100, 200, 300], # increase for larger samples\n",
    "    'max_depth': [3, 5, 7],   # between 3-10\n",
    "    'gamma' : [3, 5, 7],\n",
    "    'subsample' : [.5, .8, 1], # probably .8\n",
    "    'learning_rate' : [0.01, 0.2, 0.3],\n",
    "    'min_child_weight' : [1, 2, 3],\n",
    "    'colsample_bytree': [0.3, 0.7, 1]\n",
    " }\n",
    "  \n",
    "\n",
    "grid = GridSearchCV(xgb, params, cv=2, verbose=1)\n",
    "grid.fit(X_train,y_train)\n",
    "print(\"grid.best_score_:\", grid.best_score_)\n",
    "print(\"grid.best_params_:\", grid.best_params_)\n",
    "                            "
   ]
  },
  {
   "cell_type": "code",
   "execution_count": 13,
   "metadata": {},
   "outputs": [
    {
     "name": "stdout",
     "output_type": "stream",
     "text": [
      "grid.best_estimator_: XGBClassifier(base_score=0.5, booster='gbtree', colsample_bylevel=1,\n",
      "       colsample_bynode=1, colsample_bytree=0.3, gamma=3,\n",
      "       learning_rate=0.2, max_delta_step=0, max_depth=5,\n",
      "       min_child_weight=1, missing=None, n_estimators=100, n_jobs=1,\n",
      "       nthread=4, objective='binary:logistic', random_state=42,\n",
      "       reg_alpha=0, reg_lambda=1, scale_pos_weight=1, seed=None,\n",
      "       silent=None, subsample=1, verbosity=1)\n"
     ]
    }
   ],
   "source": [
    "print(\"grid.best_estimator_:\", grid.best_estimator_)\n"
   ]
  },
  {
   "cell_type": "code",
   "execution_count": 14,
   "metadata": {},
   "outputs": [
    {
     "data": {
      "text/plain": [
       "0.7411584516847675"
      ]
     },
     "execution_count": 14,
     "metadata": {},
     "output_type": "execute_result"
    }
   ],
   "source": [
    "grid.best_estimator_.score(X_test, y_test)"
   ]
  },
  {
   "cell_type": "code",
   "execution_count": 15,
   "metadata": {},
   "outputs": [
    {
     "data": {
      "image/png": "[encoded data removed]",
      "text/plain": [
       "<Figure size 432x288 with 1 Axes>"
      ]
     },
     "metadata": {
      "needs_background": "light"
     },
     "output_type": "display_data"
    }
   ],
   "source": [
    "# calculate the fpr and tpr for all thresholds of the classification\n",
    "probs = grid.best_estimator_.predict_proba(X_test)\n",
    "y_pred_xgb = probs[:,1]\n",
    "fpr, tpr, threshold = roc_curve(y_test, y_pred_xgb)\n",
    "roc_auc = auc(fpr, tpr)\n",
    "\n",
    "# plot ROC curve\n",
    "import matplotlib.pyplot as plt\n",
    "plt.title('Receiver Operating Characteristic')\n",
    "plt.plot(fpr, tpr, 'b', label = 'AUC = %0.2f' % roc_auc)\n",
    "plt.legend(loc = 'lower right')\n",
    "plt.plot([0, 1], [0, 1],'r--')\n",
    "plt.xlim([0, 1])\n",
    "plt.ylim([0, 1])\n",
    "plt.ylabel('True Positive Rate')\n",
    "plt.xlabel('False Positive Rate')\n",
    "plt.show();"
   ]
  },
  {
   "cell_type": "code",
   "execution_count": 16,
   "metadata": {},
   "outputs": [
    {
     "name": "stdout",
     "output_type": "stream",
     "text": [
      "[[5726 1472]\n",
      " [1174 5992]]\n",
      "tn, fp, fn, tp: 5726 1472 1174 5992\n",
      "accuracy: 0.8157894736842105\n",
      "f1 score: 0.8191387559808613\n",
      "              precision    recall  f1-score   support\n",
      "\n",
      "           0       0.83      0.80      0.81      7198\n",
      "           1       0.80      0.84      0.82      7166\n",
      "\n",
      "   micro avg       0.82      0.82      0.82     14364\n",
      "   macro avg       0.82      0.82      0.82     14364\n",
      "weighted avg       0.82      0.82      0.82     14364\n",
      "\n"
     ]
    }
   ],
   "source": [
    "y_pred_xgb = xgb.predict(X_test)\n",
    "print(confusion_matrix(y_test, y_pred_xgb))\n",
    "tn, fp, fn, tp = confusion_matrix(y_test,y_pred_xgb).ravel()\n",
    "print(\"tn, fp, fn, tp:\", tn, fp, fn, tp)\n",
    "print(\"accuracy:\", accuracy_score(y_test, y_pred_xgb))\n",
    "print(\"f1 score:\",f1_score(y_test, y_pred_xgb))\n",
    "print(classification_report(y_test, y_pred_xgb))"
   ]
  },
  {
   "cell_type": "code",
   "execution_count": null,
   "metadata": {},
   "outputs": [],
   "source": []
  }
 ],
 "metadata": {
  "kernelspec": {
   "display_name": "Python 3",
   "language": "python",
   "name": "python3"
  },
  "language_info": {
   "codemirror_mode": {
    "name": "ipython",
    "version": 3
   },
   "file_extension": ".py",
   "mimetype": "text/x-python",
   "name": "python",
   "nbconvert_exporter": "python",
   "pygments_lexer": "ipython3",
   "version": "3.6.8"
  }
 },
 "nbformat": 4,
 "nbformat_minor": 2
}
