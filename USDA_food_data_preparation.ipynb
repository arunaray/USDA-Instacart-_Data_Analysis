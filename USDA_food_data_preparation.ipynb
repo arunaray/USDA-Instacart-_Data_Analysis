{
 "cells": [
  {
   "cell_type": "code",
   "execution_count": 1,
   "metadata": {},
   "outputs": [],
   "source": [
    "# import libraries\n",
    "import pandas as pd\n",
    "import requests\n",
    "import numpy as np\n",
    "import re"
   ]
  },
  {
   "cell_type": "code",
   "execution_count": 2,
   "metadata": {},
   "outputs": [],
   "source": [
    "# To view all the 81 columns in the data frame, use the set_option to display\n",
    "pd.set_option('display.max_rows', 500)\n",
    "pd.set_option('display.max_columns', 500)\n",
    "pd.set_option('display.width', 1000)"
   ]
  },
  {
   "cell_type": "markdown",
   "metadata": {},
   "source": [
    "## USDA Food and Nutrition data files downloaded from the link - \n",
    "### https://www.ars.usda.gov/ARSUserFiles/80400525/Data/SR-Legacy/SR-Leg_ASC.zip"
   ]
  },
  {
   "cell_type": "code",
   "execution_count": 3,
   "metadata": {},
   "outputs": [],
   "source": [
    "# Get the list of data files to be loaded \n",
    "files = '''DATA_SRC.txt:     text/plain; charset=us-ascii\n",
    "DATSRCLN.txt:     text/plain; charset=us-ascii\n",
    "DERIV_CD.txt:     text/plain; charset=us-ascii\n",
    "FD_GROUP.txt:     text/plain; charset=us-ascii\n",
    "FOOD_DES.txt:     text/plain; charset=iso-8859-1\n",
    "FOOTNOTE.txt:     text/plain; charset=iso-8859-1\n",
    "FOOTNOTE_out.txt: text/plain; charset=us-ascii\n",
    "LANGDESC.txt:     text/plain; charset=us-ascii\n",
    "LANGUAL.txt:      text/plain; charset=us-ascii\n",
    "NUTR_DEF.txt:     text/plain; charset=iso-8859-1\n",
    "NUT_DATA.txt:     text/plain; charset=us-ascii\n",
    "SRC_CD.txt:       text/plain; charset=us-ascii\n",
    "WEIGHT.txt:       text/plain; charset=us-ascii'''.split('\\n')"
   ]
  },
  {
   "cell_type": "code",
   "execution_count": 4,
   "metadata": {
    "scrolled": true
   },
   "outputs": [
    {
     "data": {
      "text/plain": [
       "['DATA_SRC.txt:     text/plain; charset=us-ascii',\n",
       " 'DATSRCLN.txt:     text/plain; charset=us-ascii',\n",
       " 'DERIV_CD.txt:     text/plain; charset=us-ascii',\n",
       " 'FD_GROUP.txt:     text/plain; charset=us-ascii',\n",
       " 'FOOD_DES.txt:     text/plain; charset=iso-8859-1',\n",
       " 'FOOTNOTE.txt:     text/plain; charset=iso-8859-1',\n",
       " 'FOOTNOTE_out.txt: text/plain; charset=us-ascii',\n",
       " 'LANGDESC.txt:     text/plain; charset=us-ascii',\n",
       " 'LANGUAL.txt:      text/plain; charset=us-ascii',\n",
       " 'NUTR_DEF.txt:     text/plain; charset=iso-8859-1',\n",
       " 'NUT_DATA.txt:     text/plain; charset=us-ascii',\n",
       " 'SRC_CD.txt:       text/plain; charset=us-ascii',\n",
       " 'WEIGHT.txt:       text/plain; charset=us-ascii']"
      ]
     },
     "execution_count": 4,
     "metadata": {},
     "output_type": "execute_result"
    }
   ],
   "source": [
    "files\n"
   ]
  },
  {
   "cell_type": "code",
   "execution_count": 5,
   "metadata": {},
   "outputs": [
    {
     "data": {
      "text/plain": [
       "'DATA_SRC.txt:     text/plain; charset=us-ascii'"
      ]
     },
     "execution_count": 5,
     "metadata": {},
     "output_type": "execute_result"
    }
   ],
   "source": [
    "files[0]"
   ]
  },
  {
   "cell_type": "code",
   "execution_count": 6,
   "metadata": {},
   "outputs": [
    {
     "data": {
      "text/plain": [
       "[('DATA_SRC.txt', 'us-ascii')]"
      ]
     },
     "execution_count": 6,
     "metadata": {},
     "output_type": "execute_result"
    }
   ],
   "source": [
    "test = files[0]\n",
    "regex = r\"^(.+txt).*charset=(.+)$\"\n",
    "re.findall(regex, test)"
   ]
  },
  {
   "cell_type": "code",
   "execution_count": 7,
   "metadata": {
    "scrolled": true
   },
   "outputs": [
    {
     "data": {
      "text/plain": [
       "[('DATA_SRC.txt', 'us-ascii'),\n",
       " ('DATSRCLN.txt', 'us-ascii'),\n",
       " ('DERIV_CD.txt', 'us-ascii'),\n",
       " ('FD_GROUP.txt', 'us-ascii'),\n",
       " ('FOOD_DES.txt', 'iso-8859-1'),\n",
       " ('FOOTNOTE.txt', 'iso-8859-1'),\n",
       " ('FOOTNOTE_out.txt', 'us-ascii'),\n",
       " ('LANGDESC.txt', 'us-ascii'),\n",
       " ('LANGUAL.txt', 'us-ascii'),\n",
       " ('NUTR_DEF.txt', 'iso-8859-1'),\n",
       " ('NUT_DATA.txt', 'us-ascii'),\n",
       " ('SRC_CD.txt', 'us-ascii'),\n",
       " ('WEIGHT.txt', 'us-ascii')]"
      ]
     },
     "execution_count": 7,
     "metadata": {},
     "output_type": "execute_result"
    }
   ],
   "source": [
    "# Using regex\n",
    "encodings = [re.findall(regex, file_)[0] for file_ in files ]\n",
    "encodings"
   ]
  },
  {
   "cell_type": "code",
   "execution_count": 8,
   "metadata": {
    "scrolled": false
   },
   "outputs": [
    {
     "data": {
      "text/plain": [
       "{'DATA_SRC.txt': 'us-ascii',\n",
       " 'DATSRCLN.txt': 'us-ascii',\n",
       " 'DERIV_CD.txt': 'us-ascii',\n",
       " 'FD_GROUP.txt': 'us-ascii',\n",
       " 'FOOD_DES.txt': 'iso-8859-1',\n",
       " 'FOOTNOTE.txt': 'iso-8859-1',\n",
       " 'FOOTNOTE_out.txt': 'us-ascii',\n",
       " 'LANGDESC.txt': 'us-ascii',\n",
       " 'LANGUAL.txt': 'us-ascii',\n",
       " 'NUTR_DEF.txt': 'iso-8859-1',\n",
       " 'NUT_DATA.txt': 'us-ascii',\n",
       " 'SRC_CD.txt': 'us-ascii',\n",
       " 'WEIGHT.txt': 'us-ascii'}"
      ]
     },
     "execution_count": 8,
     "metadata": {},
     "output_type": "execute_result"
    }
   ],
   "source": [
    "encodings_dict = {key: val for key,val in encodings }\n",
    "encodings_dict"
   ]
  },
  {
   "cell_type": "code",
   "execution_count": 9,
   "metadata": {},
   "outputs": [],
   "source": [
    "filename = \"WEIGHT.txt\"\n",
    "encoding=encodings_dict[filename]"
   ]
  },
  {
   "cell_type": "code",
   "execution_count": 10,
   "metadata": {},
   "outputs": [
    {
     "name": "stdout",
     "output_type": "stream",
     "text": [
      "./SR-Leg_ASC/WEIGHT.txt\n"
     ]
    }
   ],
   "source": [
    "# Get the File Directory\n",
    "filename = \"WEIGHT.txt\"\n",
    "dir = \"SR-Leg_ASC\"\n",
    "file_path = \"./{}/{}\".format(dir, filename)\n",
    "print(file_path)"
   ]
  },
  {
   "cell_type": "code",
   "execution_count": 11,
   "metadata": {},
   "outputs": [
    {
     "name": "stdout",
     "output_type": "stream",
     "text": [
      "WEIGHT\n"
     ]
    }
   ],
   "source": [
    "filename = \"WEIGHT.txt\"\n",
    "txt=filename[:-4]\n",
    "print(txt)"
   ]
  },
  {
   "cell_type": "code",
   "execution_count": 12,
   "metadata": {
    "scrolled": false
   },
   "outputs": [
    {
     "name": "stdout",
     "output_type": "stream",
     "text": [
      "DATA_SRC.txt  -  us-ascii\n",
      "DATSRCLN.txt  -  us-ascii\n",
      "DERIV_CD.txt  -  us-ascii\n",
      "FD_GROUP.txt  -  us-ascii\n",
      "FOOD_DES.txt  -  iso-8859-1\n",
      "FOOTNOTE.txt  -  iso-8859-1\n",
      "FOOTNOTE_out.txt  -  us-ascii\n",
      "LANGDESC.txt  -  us-ascii\n",
      "LANGUAL.txt  -  us-ascii\n",
      "NUTR_DEF.txt  -  iso-8859-1\n",
      "NUT_DATA.txt  -  us-ascii\n",
      "SRC_CD.txt  -  us-ascii\n",
      "WEIGHT.txt  -  us-ascii\n"
     ]
    }
   ],
   "source": [
    "for i in encodings_dict:\n",
    "    print (i, ' - ', encodings_dict[i])"
   ]
  },
  {
   "cell_type": "markdown",
   "metadata": {},
   "source": [
    "## Read and create dataframes for each file; remove unwanted characters\n",
    "The ASCII files are delimited as follows: All fields are separated by carets (^), and text fields\n",
    "are surrounded by tildes (~). A double caret (^^) or two carets and two tildes (~~)\n",
    "appear when a value is null or a field is blank"
   ]
  },
  {
   "cell_type": "code",
   "execution_count": 13,
   "metadata": {},
   "outputs": [
    {
     "name": "stderr",
     "output_type": "stream",
     "text": [
      "/Users/kkesari/anaconda3/envs/dsi/lib/python3.6/site-packages/IPython/core/interactiveshell.py:3049: DtypeWarning: Columns (8) have mixed types. Specify dtype option on import or set low_memory=False.\n",
      "  interactivity=interactivity, compiler=compiler, result=result)\n"
     ]
    }
   ],
   "source": [
    "dfs = {}\n",
    "dir = \"SR-Leg_ASC\"\n",
    "for i in encodings_dict:\n",
    "    filename=i\n",
    "    encoding = encodings_dict[filename]\n",
    "    file_path = \"./{}/{}\".format(dir, filename)\n",
    "    txt=filename[:-4]\n",
    "    dfs[txt] = pd.read_csv(file_path, encoding = encoding, sep=\"^\", header=None)\n",
    "    dfs[txt].replace(regex=True,inplace=True,to_replace=r'~',value=r'')"
   ]
  },
  {
   "cell_type": "markdown",
   "metadata": {},
   "source": [
    "## Datafile Name  - format -    Description\n",
    "\n",
    "* DATA_SRC.txt  -  us-ascii    - Sources of Data (DATA_SRC) File\n",
    "\n",
    "* DATSRCLN.txt  -  us-ascii    - Sources of Data Link (DATSRCLN) File \n",
    "\n",
    "* DERIV_CD.txt  -  us-ascii    - Data Derivation Code Description (DERIV_CD) File\n",
    "\n",
    "* FD_GROUP.txt  -  us-ascii    - Food Group Description\n",
    "\n",
    "* FOOD_DES.txt  -  iso-8859-1  - Food Description (FOOD_DES) File\n",
    "\n",
    "* FOOTNOTE.txt  -  iso-8859-1  - Footnote (FOOTNOTE) File\n",
    "\n",
    "* FOOTNOTE_out.txt  -  us-ascii - Footnote (FOOTNOTE) File\n",
    "\n",
    "* LANGDESC.txt  -  us-ascii   - LanguaL Factor Description (LANGDESC) File\n",
    "\n",
    "* LANGUAL.txt  -  us-ascii    - LanguaL Factor (LANGUAL) File\n",
    "\n",
    "* NUTR_DEF.txt  -  iso-8859-1 - Nutrient Definition (NUTR_DEF) File\n",
    "\n",
    "* NUT_DATA.txt  -  us-ascii   - Nutrient Data (NUT_DATA) File\n",
    "\n",
    "* SRC_CD.txt  -  us-ascii     - Source Code (SRC_CD) File\n",
    "\n",
    "* WEIGHT.txt  -  us-ascii     - Weight (WEIGHT) File\n"
   ]
  },
  {
   "cell_type": "code",
   "execution_count": 14,
   "metadata": {},
   "outputs": [],
   "source": [
    "#  Set the column names for each of the dataframes\n",
    "\n",
    "dfs['DATA_SRC'].columns = ['DataSrc_ID', 'Authors','Title','Year','Journal',\n",
    "                           'Vol_City','Issue_State','Start_Page','End_Page']\n",
    "\n",
    "dfs['DATSRCLN'].columns = ['NDB_No','Nutr_No','DataSrc_ID']\n",
    "dfs['DERIV_CD'].columns = ['Deriv_Cd','Deriv_Desc']\n",
    "dfs['FD_GROUP'].columns = ['FdGrp_Cd','FdGrp_Desc']\n",
    "dfs['FOOD_DES'].columns = ['NDB_No','FdGrp_Cd','Long_Desc','Shrt_Desc','ComName','ManufacName','Survey',\n",
    "                           'Ref_desc','Refuse','SciName','N_Factor','Pro_Factor','Fat_Factor','CHO_Factor']\n",
    "dfs['FOOTNOTE'].columns = ['NDB_No','Footnt_No','Footnt_Typ','Nutr_No','Footnt_Txt']\n",
    "dfs['FOOTNOTE_out'].columns = ['NDB_No','Footnt_No','Footnt_Typ','Nutr_No','Footnt_Txt']\n",
    "dfs['LANGDESC'].columns = ['Factor_Code','Description']\n",
    "dfs['LANGUAL'].columns = ['NDB_No','Factor_Code']\n",
    "dfs['NUTR_DEF'].columns = ['Nutr_No','Units','Tagname','NutrDesc','Num_Dec','SR_Order']\n",
    "dfs['NUT_DATA'].columns = ['NDB_No','Nutr_No','Nutr_Val','Num_Data_Pts','Std_Error','Src_Cd','Deriv_Cd',\n",
    "                           'Ref_NDB_No','Add_Nutr_Mark','Num_Studies','Min','Max','DF','Low_EB','Up_EB',\n",
    "                           'Stat_cmt','AddMod_Date']\n",
    "dfs['SRC_CD'].columns = ['Src_Cd','SrcCd_Desc']\n",
    "dfs['WEIGHT'].columns = ['NDB_No','Seq','Amount','Msre_Desc','Gm_Wgt','Num_Data_Pts','Std_Dev']"
   ]
  },
  {
   "cell_type": "code",
   "execution_count": 15,
   "metadata": {
    "scrolled": false
   },
   "outputs": [
    {
     "name": "stdout",
     "output_type": "stream",
     "text": [
      "**** DATA_SRC ****\n",
      "DataSrc_ID     object\n",
      "Authors        object\n",
      "Title          object\n",
      "Year           object\n",
      "Journal        object\n",
      "Vol_City       object\n",
      "Issue_State    object\n",
      "Start_Page     object\n",
      "End_Page       object\n",
      "dtype: object (606, 9)\n",
      "********************\n",
      "**** DATSRCLN ****\n",
      "NDB_No        object\n",
      "Nutr_No       object\n",
      "DataSrc_ID    object\n",
      "dtype: object (228457, 3)\n",
      "********************\n",
      "**** DERIV_CD ****\n",
      "Deriv_Cd      object\n",
      "Deriv_Desc    object\n",
      "dtype: object (57, 2)\n",
      "********************\n",
      "**** FD_GROUP ****\n",
      "FdGrp_Cd      object\n",
      "FdGrp_Desc    object\n",
      "dtype: object (25, 2)\n",
      "********************\n",
      "**** FOOD_DES ****\n",
      "NDB_No          object\n",
      "FdGrp_Cd        object\n",
      "Long_Desc       object\n",
      "Shrt_Desc       object\n",
      "ComName         object\n",
      "ManufacName     object\n",
      "Survey          object\n",
      "Ref_desc        object\n",
      "Refuse         float64\n",
      "SciName         object\n",
      "N_Factor       float64\n",
      "Pro_Factor     float64\n",
      "Fat_Factor     float64\n",
      "CHO_Factor     float64\n",
      "dtype: object (7793, 14)\n",
      "********************\n",
      "**** FOOTNOTE ****\n",
      "NDB_No        object\n",
      "Footnt_No     object\n",
      "Footnt_Typ    object\n",
      "Nutr_No       object\n",
      "Footnt_Txt    object\n",
      "dtype: object (537, 5)\n",
      "********************\n",
      "**** FOOTNOTE_out ****\n",
      "NDB_No        object\n",
      "Footnt_No     object\n",
      "Footnt_Typ    object\n",
      "Nutr_No       object\n",
      "Footnt_Txt    object\n",
      "dtype: object (312, 5)\n",
      "********************\n",
      "**** LANGDESC ****\n",
      "Factor_Code    object\n",
      "Description    object\n",
      "dtype: object (773, 2)\n",
      "********************\n",
      "**** LANGUAL ****\n",
      "NDB_No         object\n",
      "Factor_Code    object\n",
      "dtype: object (37910, 2)\n",
      "********************\n",
      "**** NUTR_DEF ****\n",
      "Nutr_No     object\n",
      "Units       object\n",
      "Tagname     object\n",
      "NutrDesc    object\n",
      "Num_Dec     object\n",
      "SR_Order     int64\n",
      "dtype: object (149, 6)\n",
      "********************\n",
      "**** NUT_DATA ****\n",
      "NDB_No            object\n",
      "Nutr_No           object\n",
      "Nutr_Val         float64\n",
      "Num_Data_Pts       int64\n",
      "Std_Error        float64\n",
      "Src_Cd            object\n",
      "Deriv_Cd          object\n",
      "Ref_NDB_No        object\n",
      "Add_Nutr_Mark     object\n",
      "Num_Studies      float64\n",
      "Min              float64\n",
      "Max              float64\n",
      "DF               float64\n",
      "Low_EB           float64\n",
      "Up_EB            float64\n",
      "Stat_cmt          object\n",
      "AddMod_Date       object\n",
      "dtype: object (644125, 17)\n",
      "********************\n",
      "**** SRC_CD ****\n",
      "Src_Cd        object\n",
      "SrcCd_Desc    object\n",
      "dtype: object (10, 2)\n",
      "********************\n",
      "**** WEIGHT ****\n",
      "NDB_No           object\n",
      "Seq              object\n",
      "Amount          float64\n",
      "Msre_Desc        object\n",
      "Gm_Wgt          float64\n",
      "Num_Data_Pts    float64\n",
      "Std_Dev         float64\n",
      "dtype: object (14449, 7)\n",
      "********************\n"
     ]
    }
   ],
   "source": [
    "print('**** DATA_SRC ****')\n",
    "print(dfs['DATA_SRC'].dtypes, dfs['DATA_SRC'].shape)\n",
    "print('*' * 20)\n",
    "\n",
    "print('**** DATSRCLN ****')\n",
    "print(dfs['DATSRCLN'].dtypes, dfs['DATSRCLN'].shape)\n",
    "print('*' * 20)\n",
    "\n",
    "print('**** DERIV_CD ****')\n",
    "print(dfs['DERIV_CD'].dtypes,dfs['DERIV_CD'].shape)\n",
    "print('*' * 20)\n",
    "\n",
    "print('**** FD_GROUP ****')\n",
    "print(dfs['FD_GROUP'].dtypes,dfs['FD_GROUP'].shape)\n",
    "print('*' * 20)\n",
    "\n",
    "print('**** FOOD_DES ****')\n",
    "print(dfs['FOOD_DES'].dtypes,dfs['FOOD_DES'].shape)\n",
    "print('*' * 20)\n",
    "\n",
    "print('**** FOOTNOTE ****')\n",
    "print(dfs['FOOTNOTE'].dtypes,dfs['FOOTNOTE'].shape)\n",
    "print('*' * 20)\n",
    "\n",
    "print('**** FOOTNOTE_out ****')\n",
    "print(dfs['FOOTNOTE_out'].dtypes, dfs['FOOTNOTE_out'].shape)\n",
    "print('*' * 20)\n",
    "\n",
    "print('**** LANGDESC ****')\n",
    "print(dfs['LANGDESC'].dtypes, dfs['LANGDESC'].shape)\n",
    "print('*' * 20)\n",
    "\n",
    "print('**** LANGUAL ****')\n",
    "print(dfs['LANGUAL'].dtypes, dfs['LANGUAL'].shape)\n",
    "print('*' * 20)\n",
    "\n",
    "print('**** NUTR_DEF ****')\n",
    "print(dfs['NUTR_DEF'].dtypes, dfs['NUTR_DEF'].shape)\n",
    "print('*' * 20)\n",
    "\n",
    "print('**** NUT_DATA ****')\n",
    "print(dfs['NUT_DATA'].dtypes, dfs['NUT_DATA'].shape)\n",
    "print('*' * 20)\n",
    "\n",
    "print('**** SRC_CD ****')\n",
    "print(dfs['SRC_CD'].dtypes, dfs['SRC_CD'].shape)\n",
    "print('*' * 20)\n",
    "\n",
    "print('**** WEIGHT ****')\n",
    "print(dfs['WEIGHT'].dtypes, dfs['WEIGHT'].shape)\n",
    "print('*' * 20)"
   ]
  },
  {
   "cell_type": "markdown",
   "metadata": {},
   "source": [
    "### Review each of the data frames using head(3)"
   ]
  },
  {
   "cell_type": "code",
   "execution_count": 16,
   "metadata": {},
   "outputs": [
    {
     "data": {
      "text/html": [
       "<div>\n",
       "<style scoped>\n",
       "    .dataframe tbody tr th:only-of-type {\n",
       "        vertical-align: middle;\n",
       "    }\n",
       "\n",
       "    .dataframe tbody tr th {\n",
       "        vertical-align: top;\n",
       "    }\n",
       "\n",
       "    .dataframe thead th {\n",
       "        text-align: right;\n",
       "    }\n",
       "</style>\n",
       "<table border=\"1\" class=\"dataframe\">\n",
       "  <thead>\n",
       "    <tr style=\"text-align: right;\">\n",
       "      <th></th>\n",
       "      <th>DataSrc_ID</th>\n",
       "      <th>Authors</th>\n",
       "      <th>Title</th>\n",
       "      <th>Year</th>\n",
       "      <th>Journal</th>\n",
       "      <th>Vol_City</th>\n",
       "      <th>Issue_State</th>\n",
       "      <th>Start_Page</th>\n",
       "      <th>End_Page</th>\n",
       "    </tr>\n",
       "  </thead>\n",
       "  <tbody>\n",
       "    <tr>\n",
       "      <th>0</th>\n",
       "      <td>D2028</td>\n",
       "      <td>A. Sanchez-Marroquin, A. Feria-Morales, S. May...</td>\n",
       "      <td>Processing, nutritional quality and sensory ev...</td>\n",
       "      <td>1987</td>\n",
       "      <td>Journal of Food Science</td>\n",
       "      <td>52</td>\n",
       "      <td>5</td>\n",
       "      <td>NaN</td>\n",
       "      <td>NaN</td>\n",
       "    </tr>\n",
       "    <tr>\n",
       "      <th>1</th>\n",
       "      <td>D3296</td>\n",
       "      <td>C.E. Damon, B.C. Pettitt</td>\n",
       "      <td>Sugars and Sugar Products: High Performance Li...</td>\n",
       "      <td>1980</td>\n",
       "      <td>J. AOAC</td>\n",
       "      <td>63</td>\n",
       "      <td>3</td>\n",
       "      <td>476</td>\n",
       "      <td>480</td>\n",
       "    </tr>\n",
       "    <tr>\n",
       "      <th>2</th>\n",
       "      <td>D3315</td>\n",
       "      <td>W.J. Hurst, R.A. Martin, B.L. Zoumas</td>\n",
       "      <td>Application of HPLC to Characterization of Ind...</td>\n",
       "      <td>1979</td>\n",
       "      <td>Journal of Food Science</td>\n",
       "      <td>44</td>\n",
       "      <td>NaN</td>\n",
       "      <td>892</td>\n",
       "      <td>893</td>\n",
       "    </tr>\n",
       "  </tbody>\n",
       "</table>\n",
       "</div>"
      ],
      "text/plain": [
       "  DataSrc_ID                                            Authors                                              Title  Year                  Journal Vol_City Issue_State Start_Page End_Page\n",
       "0      D2028  A. Sanchez-Marroquin, A. Feria-Morales, S. May...  Processing, nutritional quality and sensory ev...  1987  Journal of Food Science       52           5        NaN      NaN\n",
       "1      D3296                           C.E. Damon, B.C. Pettitt  Sugars and Sugar Products: High Performance Li...  1980                  J. AOAC       63           3        476      480\n",
       "2      D3315               W.J. Hurst, R.A. Martin, B.L. Zoumas  Application of HPLC to Characterization of Ind...  1979  Journal of Food Science       44         NaN        892      893"
      ]
     },
     "execution_count": 16,
     "metadata": {},
     "output_type": "execute_result"
    }
   ],
   "source": [
    "dfs['DATA_SRC'].head(3)"
   ]
  },
  {
   "cell_type": "code",
   "execution_count": 17,
   "metadata": {},
   "outputs": [
    {
     "data": {
      "text/html": [
       "<div>\n",
       "<style scoped>\n",
       "    .dataframe tbody tr th:only-of-type {\n",
       "        vertical-align: middle;\n",
       "    }\n",
       "\n",
       "    .dataframe tbody tr th {\n",
       "        vertical-align: top;\n",
       "    }\n",
       "\n",
       "    .dataframe thead th {\n",
       "        text-align: right;\n",
       "    }\n",
       "</style>\n",
       "<table border=\"1\" class=\"dataframe\">\n",
       "  <thead>\n",
       "    <tr style=\"text-align: right;\">\n",
       "      <th></th>\n",
       "      <th>NDB_No</th>\n",
       "      <th>Nutr_No</th>\n",
       "      <th>DataSrc_ID</th>\n",
       "    </tr>\n",
       "  </thead>\n",
       "  <tbody>\n",
       "    <tr>\n",
       "      <th>0</th>\n",
       "      <td>01001</td>\n",
       "      <td>301</td>\n",
       "      <td>S10</td>\n",
       "    </tr>\n",
       "    <tr>\n",
       "      <th>1</th>\n",
       "      <td>01001</td>\n",
       "      <td>301</td>\n",
       "      <td>S11</td>\n",
       "    </tr>\n",
       "    <tr>\n",
       "      <th>2</th>\n",
       "      <td>01001</td>\n",
       "      <td>301</td>\n",
       "      <td>S12</td>\n",
       "    </tr>\n",
       "  </tbody>\n",
       "</table>\n",
       "</div>"
      ],
      "text/plain": [
       "  NDB_No Nutr_No DataSrc_ID\n",
       "0  01001     301        S10\n",
       "1  01001     301        S11\n",
       "2  01001     301        S12"
      ]
     },
     "execution_count": 17,
     "metadata": {},
     "output_type": "execute_result"
    }
   ],
   "source": [
    "dfs['DATSRCLN'].head(3)"
   ]
  },
  {
   "cell_type": "code",
   "execution_count": 18,
   "metadata": {},
   "outputs": [
    {
     "data": {
      "text/html": [
       "<div>\n",
       "<style scoped>\n",
       "    .dataframe tbody tr th:only-of-type {\n",
       "        vertical-align: middle;\n",
       "    }\n",
       "\n",
       "    .dataframe tbody tr th {\n",
       "        vertical-align: top;\n",
       "    }\n",
       "\n",
       "    .dataframe thead th {\n",
       "        text-align: right;\n",
       "    }\n",
       "</style>\n",
       "<table border=\"1\" class=\"dataframe\">\n",
       "  <thead>\n",
       "    <tr style=\"text-align: right;\">\n",
       "      <th></th>\n",
       "      <th>Deriv_Cd</th>\n",
       "      <th>Deriv_Desc</th>\n",
       "    </tr>\n",
       "  </thead>\n",
       "  <tbody>\n",
       "    <tr>\n",
       "      <th>0</th>\n",
       "      <td>A</td>\n",
       "      <td>Analytical data</td>\n",
       "    </tr>\n",
       "    <tr>\n",
       "      <th>1</th>\n",
       "      <td>AI</td>\n",
       "      <td>Analytical data; from the literature or  gover...</td>\n",
       "    </tr>\n",
       "    <tr>\n",
       "      <th>2</th>\n",
       "      <td>AR</td>\n",
       "      <td>Analytical data; derived by linear regression</td>\n",
       "    </tr>\n",
       "  </tbody>\n",
       "</table>\n",
       "</div>"
      ],
      "text/plain": [
       "  Deriv_Cd                                         Deriv_Desc\n",
       "0        A                                    Analytical data\n",
       "1       AI  Analytical data; from the literature or  gover...\n",
       "2       AR      Analytical data; derived by linear regression"
      ]
     },
     "execution_count": 18,
     "metadata": {},
     "output_type": "execute_result"
    }
   ],
   "source": [
    "dfs['DERIV_CD'].head(3)"
   ]
  },
  {
   "cell_type": "code",
   "execution_count": 19,
   "metadata": {},
   "outputs": [
    {
     "data": {
      "text/html": [
       "<div>\n",
       "<style scoped>\n",
       "    .dataframe tbody tr th:only-of-type {\n",
       "        vertical-align: middle;\n",
       "    }\n",
       "\n",
       "    .dataframe tbody tr th {\n",
       "        vertical-align: top;\n",
       "    }\n",
       "\n",
       "    .dataframe thead th {\n",
       "        text-align: right;\n",
       "    }\n",
       "</style>\n",
       "<table border=\"1\" class=\"dataframe\">\n",
       "  <thead>\n",
       "    <tr style=\"text-align: right;\">\n",
       "      <th></th>\n",
       "      <th>FdGrp_Cd</th>\n",
       "      <th>FdGrp_Desc</th>\n",
       "    </tr>\n",
       "  </thead>\n",
       "  <tbody>\n",
       "    <tr>\n",
       "      <th>0</th>\n",
       "      <td>0100</td>\n",
       "      <td>Dairy and Egg Products</td>\n",
       "    </tr>\n",
       "    <tr>\n",
       "      <th>1</th>\n",
       "      <td>0200</td>\n",
       "      <td>Spices and Herbs</td>\n",
       "    </tr>\n",
       "    <tr>\n",
       "      <th>2</th>\n",
       "      <td>0300</td>\n",
       "      <td>Baby Foods</td>\n",
       "    </tr>\n",
       "  </tbody>\n",
       "</table>\n",
       "</div>"
      ],
      "text/plain": [
       "  FdGrp_Cd              FdGrp_Desc\n",
       "0     0100  Dairy and Egg Products\n",
       "1     0200        Spices and Herbs\n",
       "2     0300              Baby Foods"
      ]
     },
     "execution_count": 19,
     "metadata": {},
     "output_type": "execute_result"
    }
   ],
   "source": [
    "dfs['FD_GROUP'].head(3)"
   ]
  },
  {
   "cell_type": "code",
   "execution_count": 20,
   "metadata": {},
   "outputs": [
    {
     "data": {
      "text/html": [
       "<div>\n",
       "<style scoped>\n",
       "    .dataframe tbody tr th:only-of-type {\n",
       "        vertical-align: middle;\n",
       "    }\n",
       "\n",
       "    .dataframe tbody tr th {\n",
       "        vertical-align: top;\n",
       "    }\n",
       "\n",
       "    .dataframe thead th {\n",
       "        text-align: right;\n",
       "    }\n",
       "</style>\n",
       "<table border=\"1\" class=\"dataframe\">\n",
       "  <thead>\n",
       "    <tr style=\"text-align: right;\">\n",
       "      <th></th>\n",
       "      <th>NDB_No</th>\n",
       "      <th>FdGrp_Cd</th>\n",
       "      <th>Long_Desc</th>\n",
       "      <th>Shrt_Desc</th>\n",
       "      <th>ComName</th>\n",
       "      <th>ManufacName</th>\n",
       "      <th>Survey</th>\n",
       "      <th>Ref_desc</th>\n",
       "      <th>Refuse</th>\n",
       "      <th>SciName</th>\n",
       "      <th>N_Factor</th>\n",
       "      <th>Pro_Factor</th>\n",
       "      <th>Fat_Factor</th>\n",
       "      <th>CHO_Factor</th>\n",
       "    </tr>\n",
       "  </thead>\n",
       "  <tbody>\n",
       "    <tr>\n",
       "      <th>0</th>\n",
       "      <td>01001</td>\n",
       "      <td>0100</td>\n",
       "      <td>Butter, salted</td>\n",
       "      <td>BUTTER,WITH SALT</td>\n",
       "      <td>NaN</td>\n",
       "      <td>NaN</td>\n",
       "      <td>Y</td>\n",
       "      <td>NaN</td>\n",
       "      <td>0.0</td>\n",
       "      <td>NaN</td>\n",
       "      <td>6.38</td>\n",
       "      <td>4.27</td>\n",
       "      <td>8.79</td>\n",
       "      <td>3.87</td>\n",
       "    </tr>\n",
       "    <tr>\n",
       "      <th>1</th>\n",
       "      <td>01002</td>\n",
       "      <td>0100</td>\n",
       "      <td>Butter, whipped, with salt</td>\n",
       "      <td>BUTTER,WHIPPED,W/ SALT</td>\n",
       "      <td>NaN</td>\n",
       "      <td>NaN</td>\n",
       "      <td>Y</td>\n",
       "      <td>NaN</td>\n",
       "      <td>0.0</td>\n",
       "      <td>NaN</td>\n",
       "      <td>6.38</td>\n",
       "      <td>NaN</td>\n",
       "      <td>NaN</td>\n",
       "      <td>NaN</td>\n",
       "    </tr>\n",
       "    <tr>\n",
       "      <th>2</th>\n",
       "      <td>01003</td>\n",
       "      <td>0100</td>\n",
       "      <td>Butter oil, anhydrous</td>\n",
       "      <td>BUTTER OIL,ANHYDROUS</td>\n",
       "      <td>NaN</td>\n",
       "      <td>NaN</td>\n",
       "      <td>Y</td>\n",
       "      <td>NaN</td>\n",
       "      <td>0.0</td>\n",
       "      <td>NaN</td>\n",
       "      <td>6.38</td>\n",
       "      <td>4.27</td>\n",
       "      <td>8.79</td>\n",
       "      <td>3.87</td>\n",
       "    </tr>\n",
       "  </tbody>\n",
       "</table>\n",
       "</div>"
      ],
      "text/plain": [
       "  NDB_No FdGrp_Cd                   Long_Desc               Shrt_Desc ComName ManufacName Survey Ref_desc  Refuse SciName  N_Factor  Pro_Factor  Fat_Factor  CHO_Factor\n",
       "0  01001     0100              Butter, salted        BUTTER,WITH SALT     NaN         NaN      Y      NaN     0.0     NaN      6.38        4.27        8.79        3.87\n",
       "1  01002     0100  Butter, whipped, with salt  BUTTER,WHIPPED,W/ SALT     NaN         NaN      Y      NaN     0.0     NaN      6.38         NaN         NaN         NaN\n",
       "2  01003     0100       Butter oil, anhydrous    BUTTER OIL,ANHYDROUS     NaN         NaN      Y      NaN     0.0     NaN      6.38        4.27        8.79        3.87"
      ]
     },
     "execution_count": 20,
     "metadata": {},
     "output_type": "execute_result"
    }
   ],
   "source": [
    "dfs['FOOD_DES'].head(3)"
   ]
  },
  {
   "cell_type": "code",
   "execution_count": 21,
   "metadata": {},
   "outputs": [
    {
     "data": {
      "text/html": [
       "<div>\n",
       "<style scoped>\n",
       "    .dataframe tbody tr th:only-of-type {\n",
       "        vertical-align: middle;\n",
       "    }\n",
       "\n",
       "    .dataframe tbody tr th {\n",
       "        vertical-align: top;\n",
       "    }\n",
       "\n",
       "    .dataframe thead th {\n",
       "        text-align: right;\n",
       "    }\n",
       "</style>\n",
       "<table border=\"1\" class=\"dataframe\">\n",
       "  <thead>\n",
       "    <tr style=\"text-align: right;\">\n",
       "      <th></th>\n",
       "      <th>NDB_No</th>\n",
       "      <th>Footnt_No</th>\n",
       "      <th>Footnt_Typ</th>\n",
       "      <th>Nutr_No</th>\n",
       "      <th>Footnt_Txt</th>\n",
       "    </tr>\n",
       "  </thead>\n",
       "  <tbody>\n",
       "    <tr>\n",
       "      <th>0</th>\n",
       "      <td>09129</td>\n",
       "      <td>01</td>\n",
       "      <td>D</td>\n",
       "      <td>NaN</td>\n",
       "      <td>Includes analysis of Higgins, Jumbo, and Roano...</td>\n",
       "    </tr>\n",
       "    <tr>\n",
       "      <th>1</th>\n",
       "      <td>09130</td>\n",
       "      <td>01</td>\n",
       "      <td>D</td>\n",
       "      <td>NaN</td>\n",
       "      <td>Includes purple and white grape juice</td>\n",
       "    </tr>\n",
       "    <tr>\n",
       "      <th>2</th>\n",
       "      <td>09135</td>\n",
       "      <td>01</td>\n",
       "      <td>D</td>\n",
       "      <td>NaN</td>\n",
       "      <td>Includes purple and white grape juice</td>\n",
       "    </tr>\n",
       "  </tbody>\n",
       "</table>\n",
       "</div>"
      ],
      "text/plain": [
       "  NDB_No Footnt_No Footnt_Typ Nutr_No                                         Footnt_Txt\n",
       "0  09129        01          D     NaN  Includes analysis of Higgins, Jumbo, and Roano...\n",
       "1  09130        01          D     NaN              Includes purple and white grape juice\n",
       "2  09135        01          D     NaN              Includes purple and white grape juice"
      ]
     },
     "execution_count": 21,
     "metadata": {},
     "output_type": "execute_result"
    }
   ],
   "source": [
    "dfs['FOOTNOTE'].head(3)"
   ]
  },
  {
   "cell_type": "code",
   "execution_count": 22,
   "metadata": {},
   "outputs": [
    {
     "data": {
      "text/html": [
       "<div>\n",
       "<style scoped>\n",
       "    .dataframe tbody tr th:only-of-type {\n",
       "        vertical-align: middle;\n",
       "    }\n",
       "\n",
       "    .dataframe tbody tr th {\n",
       "        vertical-align: top;\n",
       "    }\n",
       "\n",
       "    .dataframe thead th {\n",
       "        text-align: right;\n",
       "    }\n",
       "</style>\n",
       "<table border=\"1\" class=\"dataframe\">\n",
       "  <thead>\n",
       "    <tr style=\"text-align: right;\">\n",
       "      <th></th>\n",
       "      <th>NDB_No</th>\n",
       "      <th>Footnt_No</th>\n",
       "      <th>Footnt_Typ</th>\n",
       "      <th>Nutr_No</th>\n",
       "      <th>Footnt_Txt</th>\n",
       "    </tr>\n",
       "  </thead>\n",
       "  <tbody>\n",
       "    <tr>\n",
       "      <th>0</th>\n",
       "      <td>09129</td>\n",
       "      <td>01</td>\n",
       "      <td>D</td>\n",
       "      <td>NaN</td>\n",
       "      <td>Includes analysis of Higgins, Jumbo, and Roano...</td>\n",
       "    </tr>\n",
       "    <tr>\n",
       "      <th>1</th>\n",
       "      <td>09130</td>\n",
       "      <td>01</td>\n",
       "      <td>D</td>\n",
       "      <td>NaN</td>\n",
       "      <td>Includes purple and white grape juice</td>\n",
       "    </tr>\n",
       "    <tr>\n",
       "      <th>2</th>\n",
       "      <td>09135</td>\n",
       "      <td>01</td>\n",
       "      <td>D</td>\n",
       "      <td>NaN</td>\n",
       "      <td>Includes purple and white grape juice</td>\n",
       "    </tr>\n",
       "  </tbody>\n",
       "</table>\n",
       "</div>"
      ],
      "text/plain": [
       "  NDB_No Footnt_No Footnt_Typ Nutr_No                                         Footnt_Txt\n",
       "0  09129        01          D     NaN  Includes analysis of Higgins, Jumbo, and Roano...\n",
       "1  09130        01          D     NaN              Includes purple and white grape juice\n",
       "2  09135        01          D     NaN              Includes purple and white grape juice"
      ]
     },
     "execution_count": 22,
     "metadata": {},
     "output_type": "execute_result"
    }
   ],
   "source": [
    "dfs['FOOTNOTE_out'].head(3)"
   ]
  },
  {
   "cell_type": "code",
   "execution_count": 23,
   "metadata": {},
   "outputs": [
    {
     "data": {
      "text/html": [
       "<div>\n",
       "<style scoped>\n",
       "    .dataframe tbody tr th:only-of-type {\n",
       "        vertical-align: middle;\n",
       "    }\n",
       "\n",
       "    .dataframe tbody tr th {\n",
       "        vertical-align: top;\n",
       "    }\n",
       "\n",
       "    .dataframe thead th {\n",
       "        text-align: right;\n",
       "    }\n",
       "</style>\n",
       "<table border=\"1\" class=\"dataframe\">\n",
       "  <thead>\n",
       "    <tr style=\"text-align: right;\">\n",
       "      <th></th>\n",
       "      <th>Factor_Code</th>\n",
       "      <th>Description</th>\n",
       "    </tr>\n",
       "  </thead>\n",
       "  <tbody>\n",
       "    <tr>\n",
       "      <th>0</th>\n",
       "      <td>A0107</td>\n",
       "      <td>BAKERY PRODUCT, UNSWEETENED (US CFR)</td>\n",
       "    </tr>\n",
       "    <tr>\n",
       "      <th>1</th>\n",
       "      <td>A0113</td>\n",
       "      <td>SPICE OR HERB (US CFR)</td>\n",
       "    </tr>\n",
       "    <tr>\n",
       "      <th>2</th>\n",
       "      <td>A0125</td>\n",
       "      <td>GRAIN OR STARCH PRODUCT (US CFR)</td>\n",
       "    </tr>\n",
       "  </tbody>\n",
       "</table>\n",
       "</div>"
      ],
      "text/plain": [
       "  Factor_Code                           Description\n",
       "0       A0107  BAKERY PRODUCT, UNSWEETENED (US CFR)\n",
       "1       A0113                SPICE OR HERB (US CFR)\n",
       "2       A0125      GRAIN OR STARCH PRODUCT (US CFR)"
      ]
     },
     "execution_count": 23,
     "metadata": {},
     "output_type": "execute_result"
    }
   ],
   "source": [
    "dfs['LANGDESC'].head(3)"
   ]
  },
  {
   "cell_type": "code",
   "execution_count": 24,
   "metadata": {},
   "outputs": [
    {
     "data": {
      "text/html": [
       "<div>\n",
       "<style scoped>\n",
       "    .dataframe tbody tr th:only-of-type {\n",
       "        vertical-align: middle;\n",
       "    }\n",
       "\n",
       "    .dataframe tbody tr th {\n",
       "        vertical-align: top;\n",
       "    }\n",
       "\n",
       "    .dataframe thead th {\n",
       "        text-align: right;\n",
       "    }\n",
       "</style>\n",
       "<table border=\"1\" class=\"dataframe\">\n",
       "  <thead>\n",
       "    <tr style=\"text-align: right;\">\n",
       "      <th></th>\n",
       "      <th>NDB_No</th>\n",
       "      <th>Factor_Code</th>\n",
       "    </tr>\n",
       "  </thead>\n",
       "  <tbody>\n",
       "    <tr>\n",
       "      <th>0</th>\n",
       "      <td>02001</td>\n",
       "      <td>A0113</td>\n",
       "    </tr>\n",
       "    <tr>\n",
       "      <th>1</th>\n",
       "      <td>02001</td>\n",
       "      <td>A1272</td>\n",
       "    </tr>\n",
       "    <tr>\n",
       "      <th>2</th>\n",
       "      <td>02001</td>\n",
       "      <td>B1356</td>\n",
       "    </tr>\n",
       "  </tbody>\n",
       "</table>\n",
       "</div>"
      ],
      "text/plain": [
       "  NDB_No Factor_Code\n",
       "0  02001       A0113\n",
       "1  02001       A1272\n",
       "2  02001       B1356"
      ]
     },
     "execution_count": 24,
     "metadata": {},
     "output_type": "execute_result"
    }
   ],
   "source": [
    "dfs['LANGUAL'].head(3)"
   ]
  },
  {
   "cell_type": "code",
   "execution_count": 25,
   "metadata": {},
   "outputs": [
    {
     "data": {
      "text/html": [
       "<div>\n",
       "<style scoped>\n",
       "    .dataframe tbody tr th:only-of-type {\n",
       "        vertical-align: middle;\n",
       "    }\n",
       "\n",
       "    .dataframe tbody tr th {\n",
       "        vertical-align: top;\n",
       "    }\n",
       "\n",
       "    .dataframe thead th {\n",
       "        text-align: right;\n",
       "    }\n",
       "</style>\n",
       "<table border=\"1\" class=\"dataframe\">\n",
       "  <thead>\n",
       "    <tr style=\"text-align: right;\">\n",
       "      <th></th>\n",
       "      <th>Nutr_No</th>\n",
       "      <th>Units</th>\n",
       "      <th>Tagname</th>\n",
       "      <th>NutrDesc</th>\n",
       "      <th>Num_Dec</th>\n",
       "      <th>SR_Order</th>\n",
       "    </tr>\n",
       "  </thead>\n",
       "  <tbody>\n",
       "    <tr>\n",
       "      <th>0</th>\n",
       "      <td>203</td>\n",
       "      <td>g</td>\n",
       "      <td>PROCNT</td>\n",
       "      <td>Protein</td>\n",
       "      <td>2</td>\n",
       "      <td>600</td>\n",
       "    </tr>\n",
       "    <tr>\n",
       "      <th>1</th>\n",
       "      <td>204</td>\n",
       "      <td>g</td>\n",
       "      <td>FAT</td>\n",
       "      <td>Total lipid (fat)</td>\n",
       "      <td>2</td>\n",
       "      <td>800</td>\n",
       "    </tr>\n",
       "    <tr>\n",
       "      <th>2</th>\n",
       "      <td>205</td>\n",
       "      <td>g</td>\n",
       "      <td>CHOCDF</td>\n",
       "      <td>Carbohydrate, by difference</td>\n",
       "      <td>2</td>\n",
       "      <td>1100</td>\n",
       "    </tr>\n",
       "  </tbody>\n",
       "</table>\n",
       "</div>"
      ],
      "text/plain": [
       "  Nutr_No Units Tagname                     NutrDesc Num_Dec  SR_Order\n",
       "0     203     g  PROCNT                      Protein       2       600\n",
       "1     204     g     FAT            Total lipid (fat)       2       800\n",
       "2     205     g  CHOCDF  Carbohydrate, by difference       2      1100"
      ]
     },
     "execution_count": 25,
     "metadata": {},
     "output_type": "execute_result"
    }
   ],
   "source": [
    "dfs['NUTR_DEF'].head(3)"
   ]
  },
  {
   "cell_type": "code",
   "execution_count": 26,
   "metadata": {},
   "outputs": [
    {
     "data": {
      "text/html": [
       "<div>\n",
       "<style scoped>\n",
       "    .dataframe tbody tr th:only-of-type {\n",
       "        vertical-align: middle;\n",
       "    }\n",
       "\n",
       "    .dataframe tbody tr th {\n",
       "        vertical-align: top;\n",
       "    }\n",
       "\n",
       "    .dataframe thead th {\n",
       "        text-align: right;\n",
       "    }\n",
       "</style>\n",
       "<table border=\"1\" class=\"dataframe\">\n",
       "  <thead>\n",
       "    <tr style=\"text-align: right;\">\n",
       "      <th></th>\n",
       "      <th>NDB_No</th>\n",
       "      <th>Nutr_No</th>\n",
       "      <th>Nutr_Val</th>\n",
       "      <th>Num_Data_Pts</th>\n",
       "      <th>Std_Error</th>\n",
       "      <th>Src_Cd</th>\n",
       "      <th>Deriv_Cd</th>\n",
       "      <th>Ref_NDB_No</th>\n",
       "      <th>Add_Nutr_Mark</th>\n",
       "      <th>Num_Studies</th>\n",
       "      <th>Min</th>\n",
       "      <th>Max</th>\n",
       "      <th>DF</th>\n",
       "      <th>Low_EB</th>\n",
       "      <th>Up_EB</th>\n",
       "      <th>Stat_cmt</th>\n",
       "      <th>AddMod_Date</th>\n",
       "    </tr>\n",
       "  </thead>\n",
       "  <tbody>\n",
       "    <tr>\n",
       "      <th>0</th>\n",
       "      <td>01001</td>\n",
       "      <td>208</td>\n",
       "      <td>717.0</td>\n",
       "      <td>0</td>\n",
       "      <td>NaN</td>\n",
       "      <td>4</td>\n",
       "      <td>NC</td>\n",
       "      <td>NaN</td>\n",
       "      <td>NaN</td>\n",
       "      <td>NaN</td>\n",
       "      <td>NaN</td>\n",
       "      <td>NaN</td>\n",
       "      <td>NaN</td>\n",
       "      <td>NaN</td>\n",
       "      <td>NaN</td>\n",
       "      <td>NaN</td>\n",
       "      <td>08/01/2010</td>\n",
       "    </tr>\n",
       "    <tr>\n",
       "      <th>1</th>\n",
       "      <td>01001</td>\n",
       "      <td>262</td>\n",
       "      <td>0.0</td>\n",
       "      <td>0</td>\n",
       "      <td>NaN</td>\n",
       "      <td>7</td>\n",
       "      <td>Z</td>\n",
       "      <td>NaN</td>\n",
       "      <td>NaN</td>\n",
       "      <td>NaN</td>\n",
       "      <td>NaN</td>\n",
       "      <td>NaN</td>\n",
       "      <td>NaN</td>\n",
       "      <td>NaN</td>\n",
       "      <td>NaN</td>\n",
       "      <td>NaN</td>\n",
       "      <td>02/01/2001</td>\n",
       "    </tr>\n",
       "    <tr>\n",
       "      <th>2</th>\n",
       "      <td>01001</td>\n",
       "      <td>263</td>\n",
       "      <td>0.0</td>\n",
       "      <td>0</td>\n",
       "      <td>NaN</td>\n",
       "      <td>7</td>\n",
       "      <td>Z</td>\n",
       "      <td>NaN</td>\n",
       "      <td>NaN</td>\n",
       "      <td>NaN</td>\n",
       "      <td>NaN</td>\n",
       "      <td>NaN</td>\n",
       "      <td>NaN</td>\n",
       "      <td>NaN</td>\n",
       "      <td>NaN</td>\n",
       "      <td>NaN</td>\n",
       "      <td>02/01/2001</td>\n",
       "    </tr>\n",
       "  </tbody>\n",
       "</table>\n",
       "</div>"
      ],
      "text/plain": [
       "  NDB_No Nutr_No  Nutr_Val  Num_Data_Pts  Std_Error Src_Cd Deriv_Cd Ref_NDB_No Add_Nutr_Mark  Num_Studies  Min  Max  DF  Low_EB  Up_EB Stat_cmt AddMod_Date\n",
       "0  01001     208     717.0             0        NaN      4       NC        NaN           NaN          NaN  NaN  NaN NaN     NaN    NaN      NaN  08/01/2010\n",
       "1  01001     262       0.0             0        NaN      7        Z        NaN           NaN          NaN  NaN  NaN NaN     NaN    NaN      NaN  02/01/2001\n",
       "2  01001     263       0.0             0        NaN      7        Z        NaN           NaN          NaN  NaN  NaN NaN     NaN    NaN      NaN  02/01/2001"
      ]
     },
     "execution_count": 26,
     "metadata": {},
     "output_type": "execute_result"
    }
   ],
   "source": [
    "dfs['NUT_DATA'].head(3)"
   ]
  },
  {
   "cell_type": "code",
   "execution_count": 27,
   "metadata": {},
   "outputs": [
    {
     "data": {
      "text/html": [
       "<div>\n",
       "<style scoped>\n",
       "    .dataframe tbody tr th:only-of-type {\n",
       "        vertical-align: middle;\n",
       "    }\n",
       "\n",
       "    .dataframe tbody tr th {\n",
       "        vertical-align: top;\n",
       "    }\n",
       "\n",
       "    .dataframe thead th {\n",
       "        text-align: right;\n",
       "    }\n",
       "</style>\n",
       "<table border=\"1\" class=\"dataframe\">\n",
       "  <thead>\n",
       "    <tr style=\"text-align: right;\">\n",
       "      <th></th>\n",
       "      <th>Src_Cd</th>\n",
       "      <th>SrcCd_Desc</th>\n",
       "    </tr>\n",
       "  </thead>\n",
       "  <tbody>\n",
       "    <tr>\n",
       "      <th>0</th>\n",
       "      <td>1</td>\n",
       "      <td>Analytical or derived from analytical</td>\n",
       "    </tr>\n",
       "    <tr>\n",
       "      <th>1</th>\n",
       "      <td>11</td>\n",
       "      <td>Aggregated data involving comb. of codes other...</td>\n",
       "    </tr>\n",
       "    <tr>\n",
       "      <th>2</th>\n",
       "      <td>12</td>\n",
       "      <td>Manufacturer's analytical; partial documentation</td>\n",
       "    </tr>\n",
       "  </tbody>\n",
       "</table>\n",
       "</div>"
      ],
      "text/plain": [
       "  Src_Cd                                         SrcCd_Desc\n",
       "0      1              Analytical or derived from analytical\n",
       "1     11  Aggregated data involving comb. of codes other...\n",
       "2     12   Manufacturer's analytical; partial documentation"
      ]
     },
     "execution_count": 27,
     "metadata": {},
     "output_type": "execute_result"
    }
   ],
   "source": [
    "dfs['SRC_CD'].head(3)"
   ]
  },
  {
   "cell_type": "code",
   "execution_count": 28,
   "metadata": {},
   "outputs": [
    {
     "data": {
      "text/html": [
       "<div>\n",
       "<style scoped>\n",
       "    .dataframe tbody tr th:only-of-type {\n",
       "        vertical-align: middle;\n",
       "    }\n",
       "\n",
       "    .dataframe tbody tr th {\n",
       "        vertical-align: top;\n",
       "    }\n",
       "\n",
       "    .dataframe thead th {\n",
       "        text-align: right;\n",
       "    }\n",
       "</style>\n",
       "<table border=\"1\" class=\"dataframe\">\n",
       "  <thead>\n",
       "    <tr style=\"text-align: right;\">\n",
       "      <th></th>\n",
       "      <th>NDB_No</th>\n",
       "      <th>Seq</th>\n",
       "      <th>Amount</th>\n",
       "      <th>Msre_Desc</th>\n",
       "      <th>Gm_Wgt</th>\n",
       "      <th>Num_Data_Pts</th>\n",
       "      <th>Std_Dev</th>\n",
       "    </tr>\n",
       "  </thead>\n",
       "  <tbody>\n",
       "    <tr>\n",
       "      <th>0</th>\n",
       "      <td>01001</td>\n",
       "      <td>1</td>\n",
       "      <td>1.0</td>\n",
       "      <td>pat (1\" sq, 1/3\" high)</td>\n",
       "      <td>5.0</td>\n",
       "      <td>NaN</td>\n",
       "      <td>NaN</td>\n",
       "    </tr>\n",
       "    <tr>\n",
       "      <th>1</th>\n",
       "      <td>01001</td>\n",
       "      <td>2</td>\n",
       "      <td>1.0</td>\n",
       "      <td>tbsp</td>\n",
       "      <td>14.2</td>\n",
       "      <td>NaN</td>\n",
       "      <td>NaN</td>\n",
       "    </tr>\n",
       "    <tr>\n",
       "      <th>2</th>\n",
       "      <td>01001</td>\n",
       "      <td>3</td>\n",
       "      <td>1.0</td>\n",
       "      <td>cup</td>\n",
       "      <td>227.0</td>\n",
       "      <td>NaN</td>\n",
       "      <td>NaN</td>\n",
       "    </tr>\n",
       "  </tbody>\n",
       "</table>\n",
       "</div>"
      ],
      "text/plain": [
       "  NDB_No Seq  Amount               Msre_Desc  Gm_Wgt  Num_Data_Pts  Std_Dev\n",
       "0  01001   1     1.0  pat (1\" sq, 1/3\" high)     5.0           NaN      NaN\n",
       "1  01001   2     1.0                    tbsp    14.2           NaN      NaN\n",
       "2  01001   3     1.0                     cup   227.0           NaN      NaN"
      ]
     },
     "execution_count": 28,
     "metadata": {},
     "output_type": "execute_result"
    }
   ],
   "source": [
    "dfs['WEIGHT'].head(3)"
   ]
  },
  {
   "cell_type": "markdown",
   "metadata": {},
   "source": [
    "###  Convert  identified columns as INT  as per the document listed."
   ]
  },
  {
   "cell_type": "code",
   "execution_count": 29,
   "metadata": {},
   "outputs": [],
   "source": [
    "# Convert some of the identified columns as INT and FLOAT as per the document listed.\n",
    "\n",
    "# Convert the identified columns into int and float of the dataframe 'NUT_DATA'.\n",
    "dfs['NUT_DATA']['Src_Cd'] = dfs['NUT_DATA']['Src_Cd'].astype(int)\n",
    "\n",
    "# Convert the identified columns into int of the dataframe 'SRC_CD'.\n",
    "dfs['SRC_CD']['Src_Cd'] = dfs['SRC_CD']['Src_Cd'].astype(int)\n",
    "\n",
    "\n",
    "\n"
   ]
  },
  {
   "cell_type": "code",
   "execution_count": 30,
   "metadata": {},
   "outputs": [],
   "source": [
    "# Merge the two dataframes - FOOD_DES and FD_GROUP on FdGrp_Cd\n",
    "df_food_fdg = pd.merge(how ='left',\n",
    "         left = dfs['FOOD_DES'],\n",
    "         right = dfs['FD_GROUP'],\n",
    "         on = 'FdGrp_Cd')"
   ]
  },
  {
   "cell_type": "code",
   "execution_count": 31,
   "metadata": {},
   "outputs": [
    {
     "data": {
      "text/plain": [
       "(7793, 15)"
      ]
     },
     "execution_count": 31,
     "metadata": {},
     "output_type": "execute_result"
    }
   ],
   "source": [
    "df_food_fdg.shape"
   ]
  },
  {
   "cell_type": "code",
   "execution_count": 32,
   "metadata": {},
   "outputs": [
    {
     "data": {
      "text/html": [
       "<div>\n",
       "<style scoped>\n",
       "    .dataframe tbody tr th:only-of-type {\n",
       "        vertical-align: middle;\n",
       "    }\n",
       "\n",
       "    .dataframe tbody tr th {\n",
       "        vertical-align: top;\n",
       "    }\n",
       "\n",
       "    .dataframe thead th {\n",
       "        text-align: right;\n",
       "    }\n",
       "</style>\n",
       "<table border=\"1\" class=\"dataframe\">\n",
       "  <thead>\n",
       "    <tr style=\"text-align: right;\">\n",
       "      <th></th>\n",
       "      <th>NDB_No</th>\n",
       "      <th>FdGrp_Cd</th>\n",
       "      <th>Long_Desc</th>\n",
       "      <th>Shrt_Desc</th>\n",
       "      <th>ComName</th>\n",
       "      <th>ManufacName</th>\n",
       "      <th>Survey</th>\n",
       "      <th>Ref_desc</th>\n",
       "      <th>Refuse</th>\n",
       "      <th>SciName</th>\n",
       "      <th>N_Factor</th>\n",
       "      <th>Pro_Factor</th>\n",
       "      <th>Fat_Factor</th>\n",
       "      <th>CHO_Factor</th>\n",
       "      <th>FdGrp_Desc</th>\n",
       "    </tr>\n",
       "  </thead>\n",
       "  <tbody>\n",
       "    <tr>\n",
       "      <th>0</th>\n",
       "      <td>01001</td>\n",
       "      <td>0100</td>\n",
       "      <td>Butter, salted</td>\n",
       "      <td>BUTTER,WITH SALT</td>\n",
       "      <td>NaN</td>\n",
       "      <td>NaN</td>\n",
       "      <td>Y</td>\n",
       "      <td>NaN</td>\n",
       "      <td>0.0</td>\n",
       "      <td>NaN</td>\n",
       "      <td>6.38</td>\n",
       "      <td>4.27</td>\n",
       "      <td>8.79</td>\n",
       "      <td>3.87</td>\n",
       "      <td>Dairy and Egg Products</td>\n",
       "    </tr>\n",
       "    <tr>\n",
       "      <th>1</th>\n",
       "      <td>01002</td>\n",
       "      <td>0100</td>\n",
       "      <td>Butter, whipped, with salt</td>\n",
       "      <td>BUTTER,WHIPPED,W/ SALT</td>\n",
       "      <td>NaN</td>\n",
       "      <td>NaN</td>\n",
       "      <td>Y</td>\n",
       "      <td>NaN</td>\n",
       "      <td>0.0</td>\n",
       "      <td>NaN</td>\n",
       "      <td>6.38</td>\n",
       "      <td>NaN</td>\n",
       "      <td>NaN</td>\n",
       "      <td>NaN</td>\n",
       "      <td>Dairy and Egg Products</td>\n",
       "    </tr>\n",
       "    <tr>\n",
       "      <th>2</th>\n",
       "      <td>01003</td>\n",
       "      <td>0100</td>\n",
       "      <td>Butter oil, anhydrous</td>\n",
       "      <td>BUTTER OIL,ANHYDROUS</td>\n",
       "      <td>NaN</td>\n",
       "      <td>NaN</td>\n",
       "      <td>Y</td>\n",
       "      <td>NaN</td>\n",
       "      <td>0.0</td>\n",
       "      <td>NaN</td>\n",
       "      <td>6.38</td>\n",
       "      <td>4.27</td>\n",
       "      <td>8.79</td>\n",
       "      <td>3.87</td>\n",
       "      <td>Dairy and Egg Products</td>\n",
       "    </tr>\n",
       "  </tbody>\n",
       "</table>\n",
       "</div>"
      ],
      "text/plain": [
       "  NDB_No FdGrp_Cd                   Long_Desc               Shrt_Desc ComName ManufacName Survey Ref_desc  Refuse SciName  N_Factor  Pro_Factor  Fat_Factor  CHO_Factor              FdGrp_Desc\n",
       "0  01001     0100              Butter, salted        BUTTER,WITH SALT     NaN         NaN      Y      NaN     0.0     NaN      6.38        4.27        8.79        3.87  Dairy and Egg Products\n",
       "1  01002     0100  Butter, whipped, with salt  BUTTER,WHIPPED,W/ SALT     NaN         NaN      Y      NaN     0.0     NaN      6.38         NaN         NaN         NaN  Dairy and Egg Products\n",
       "2  01003     0100       Butter oil, anhydrous    BUTTER OIL,ANHYDROUS     NaN         NaN      Y      NaN     0.0     NaN      6.38        4.27        8.79        3.87  Dairy and Egg Products"
      ]
     },
     "execution_count": 32,
     "metadata": {},
     "output_type": "execute_result"
    }
   ],
   "source": [
    "df_food_fdg.head(3)"
   ]
  },
  {
   "cell_type": "code",
   "execution_count": 33,
   "metadata": {},
   "outputs": [
    {
     "data": {
      "text/html": [
       "<div>\n",
       "<style scoped>\n",
       "    .dataframe tbody tr th:only-of-type {\n",
       "        vertical-align: middle;\n",
       "    }\n",
       "\n",
       "    .dataframe tbody tr th {\n",
       "        vertical-align: top;\n",
       "    }\n",
       "\n",
       "    .dataframe thead th {\n",
       "        text-align: right;\n",
       "    }\n",
       "</style>\n",
       "<table border=\"1\" class=\"dataframe\">\n",
       "  <thead>\n",
       "    <tr style=\"text-align: right;\">\n",
       "      <th></th>\n",
       "      <th>FdGrp_Desc</th>\n",
       "    </tr>\n",
       "    <tr>\n",
       "      <th>FdGrp_Cd</th>\n",
       "      <th></th>\n",
       "    </tr>\n",
       "  </thead>\n",
       "  <tbody>\n",
       "    <tr>\n",
       "      <th>3600</th>\n",
       "      <td>109</td>\n",
       "    </tr>\n",
       "    <tr>\n",
       "      <th>3500</th>\n",
       "      <td>165</td>\n",
       "    </tr>\n",
       "    <tr>\n",
       "      <th>2500</th>\n",
       "      <td>176</td>\n",
       "    </tr>\n",
       "    <tr>\n",
       "      <th>2200</th>\n",
       "      <td>81</td>\n",
       "    </tr>\n",
       "    <tr>\n",
       "      <th>2100</th>\n",
       "      <td>312</td>\n",
       "    </tr>\n",
       "  </tbody>\n",
       "</table>\n",
       "</div>"
      ],
      "text/plain": [
       "          FdGrp_Desc\n",
       "FdGrp_Cd            \n",
       "3600             109\n",
       "3500             165\n",
       "2500             176\n",
       "2200              81\n",
       "2100             312"
      ]
     },
     "execution_count": 33,
     "metadata": {},
     "output_type": "execute_result"
    }
   ],
   "source": [
    "df_food_fdg[['FdGrp_Cd','FdGrp_Desc']].groupby(by='FdGrp_Cd').count().sort_index( ascending=False).head()\n",
    "\n"
   ]
  },
  {
   "cell_type": "code",
   "execution_count": 34,
   "metadata": {},
   "outputs": [],
   "source": [
    "# Merge the two dataframes -nut_data and nutrient_def on nutrient number\n",
    "\n",
    "df_nut_data_def = pd.merge(how ='left',\n",
    "                          left = dfs['NUT_DATA'],\n",
    "                          right = dfs['NUTR_DEF'],\n",
    "                          on = 'Nutr_No')\n"
   ]
  },
  {
   "cell_type": "code",
   "execution_count": 35,
   "metadata": {
    "scrolled": true
   },
   "outputs": [
    {
     "data": {
      "text/plain": [
       "(644125, 22)"
      ]
     },
     "execution_count": 35,
     "metadata": {},
     "output_type": "execute_result"
    }
   ],
   "source": [
    "df_nut_data_def.shape"
   ]
  },
  {
   "cell_type": "code",
   "execution_count": 36,
   "metadata": {
    "scrolled": true
   },
   "outputs": [
    {
     "data": {
      "text/html": [
       "<div>\n",
       "<style scoped>\n",
       "    .dataframe tbody tr th:only-of-type {\n",
       "        vertical-align: middle;\n",
       "    }\n",
       "\n",
       "    .dataframe tbody tr th {\n",
       "        vertical-align: top;\n",
       "    }\n",
       "\n",
       "    .dataframe thead th {\n",
       "        text-align: right;\n",
       "    }\n",
       "</style>\n",
       "<table border=\"1\" class=\"dataframe\">\n",
       "  <thead>\n",
       "    <tr style=\"text-align: right;\">\n",
       "      <th></th>\n",
       "      <th>NDB_No</th>\n",
       "      <th>Nutr_No</th>\n",
       "      <th>Nutr_Val</th>\n",
       "      <th>Num_Data_Pts</th>\n",
       "      <th>Std_Error</th>\n",
       "      <th>Src_Cd</th>\n",
       "      <th>Deriv_Cd</th>\n",
       "      <th>Ref_NDB_No</th>\n",
       "      <th>Add_Nutr_Mark</th>\n",
       "      <th>Num_Studies</th>\n",
       "      <th>Min</th>\n",
       "      <th>Max</th>\n",
       "      <th>DF</th>\n",
       "      <th>Low_EB</th>\n",
       "      <th>Up_EB</th>\n",
       "      <th>Stat_cmt</th>\n",
       "      <th>AddMod_Date</th>\n",
       "      <th>Units</th>\n",
       "      <th>Tagname</th>\n",
       "      <th>NutrDesc</th>\n",
       "      <th>Num_Dec</th>\n",
       "      <th>SR_Order</th>\n",
       "    </tr>\n",
       "  </thead>\n",
       "  <tbody>\n",
       "    <tr>\n",
       "      <th>0</th>\n",
       "      <td>01001</td>\n",
       "      <td>208</td>\n",
       "      <td>717.0</td>\n",
       "      <td>0</td>\n",
       "      <td>NaN</td>\n",
       "      <td>4</td>\n",
       "      <td>NC</td>\n",
       "      <td>NaN</td>\n",
       "      <td>NaN</td>\n",
       "      <td>NaN</td>\n",
       "      <td>NaN</td>\n",
       "      <td>NaN</td>\n",
       "      <td>NaN</td>\n",
       "      <td>NaN</td>\n",
       "      <td>NaN</td>\n",
       "      <td>NaN</td>\n",
       "      <td>08/01/2010</td>\n",
       "      <td>kcal</td>\n",
       "      <td>ENERC_KCAL</td>\n",
       "      <td>Energy</td>\n",
       "      <td>0</td>\n",
       "      <td>300</td>\n",
       "    </tr>\n",
       "    <tr>\n",
       "      <th>1</th>\n",
       "      <td>01001</td>\n",
       "      <td>262</td>\n",
       "      <td>0.0</td>\n",
       "      <td>0</td>\n",
       "      <td>NaN</td>\n",
       "      <td>7</td>\n",
       "      <td>Z</td>\n",
       "      <td>NaN</td>\n",
       "      <td>NaN</td>\n",
       "      <td>NaN</td>\n",
       "      <td>NaN</td>\n",
       "      <td>NaN</td>\n",
       "      <td>NaN</td>\n",
       "      <td>NaN</td>\n",
       "      <td>NaN</td>\n",
       "      <td>NaN</td>\n",
       "      <td>02/01/2001</td>\n",
       "      <td>mg</td>\n",
       "      <td>CAFFN</td>\n",
       "      <td>Caffeine</td>\n",
       "      <td>0</td>\n",
       "      <td>18300</td>\n",
       "    </tr>\n",
       "    <tr>\n",
       "      <th>2</th>\n",
       "      <td>01001</td>\n",
       "      <td>263</td>\n",
       "      <td>0.0</td>\n",
       "      <td>0</td>\n",
       "      <td>NaN</td>\n",
       "      <td>7</td>\n",
       "      <td>Z</td>\n",
       "      <td>NaN</td>\n",
       "      <td>NaN</td>\n",
       "      <td>NaN</td>\n",
       "      <td>NaN</td>\n",
       "      <td>NaN</td>\n",
       "      <td>NaN</td>\n",
       "      <td>NaN</td>\n",
       "      <td>NaN</td>\n",
       "      <td>NaN</td>\n",
       "      <td>02/01/2001</td>\n",
       "      <td>mg</td>\n",
       "      <td>THEBRN</td>\n",
       "      <td>Theobromine</td>\n",
       "      <td>0</td>\n",
       "      <td>18400</td>\n",
       "    </tr>\n",
       "  </tbody>\n",
       "</table>\n",
       "</div>"
      ],
      "text/plain": [
       "  NDB_No Nutr_No  Nutr_Val  Num_Data_Pts  Std_Error  Src_Cd Deriv_Cd Ref_NDB_No Add_Nutr_Mark  Num_Studies  Min  Max  DF  Low_EB  Up_EB Stat_cmt AddMod_Date Units     Tagname     NutrDesc Num_Dec  SR_Order\n",
       "0  01001     208     717.0             0        NaN       4       NC        NaN           NaN          NaN  NaN  NaN NaN     NaN    NaN      NaN  08/01/2010  kcal  ENERC_KCAL       Energy       0       300\n",
       "1  01001     262       0.0             0        NaN       7        Z        NaN           NaN          NaN  NaN  NaN NaN     NaN    NaN      NaN  02/01/2001    mg       CAFFN     Caffeine       0     18300\n",
       "2  01001     263       0.0             0        NaN       7        Z        NaN           NaN          NaN  NaN  NaN NaN     NaN    NaN      NaN  02/01/2001    mg      THEBRN  Theobromine       0     18400"
      ]
     },
     "execution_count": 36,
     "metadata": {},
     "output_type": "execute_result"
    }
   ],
   "source": [
    "df_nut_data_def.head(3)"
   ]
  },
  {
   "cell_type": "code",
   "execution_count": 37,
   "metadata": {},
   "outputs": [
    {
     "data": {
      "text/html": [
       "<div>\n",
       "<style scoped>\n",
       "    .dataframe tbody tr th:only-of-type {\n",
       "        vertical-align: middle;\n",
       "    }\n",
       "\n",
       "    .dataframe tbody tr th {\n",
       "        vertical-align: top;\n",
       "    }\n",
       "\n",
       "    .dataframe thead th {\n",
       "        text-align: right;\n",
       "    }\n",
       "</style>\n",
       "<table border=\"1\" class=\"dataframe\">\n",
       "  <thead>\n",
       "    <tr style=\"text-align: right;\">\n",
       "      <th></th>\n",
       "      <th>NutrDesc</th>\n",
       "    </tr>\n",
       "    <tr>\n",
       "      <th>Nutr_No</th>\n",
       "      <th></th>\n",
       "    </tr>\n",
       "  </thead>\n",
       "  <tbody>\n",
       "    <tr>\n",
       "      <th>859</th>\n",
       "      <td>168</td>\n",
       "    </tr>\n",
       "    <tr>\n",
       "      <th>858</th>\n",
       "      <td>1069</td>\n",
       "    </tr>\n",
       "    <tr>\n",
       "      <th>857</th>\n",
       "      <td>114</td>\n",
       "    </tr>\n",
       "    <tr>\n",
       "      <th>856</th>\n",
       "      <td>568</td>\n",
       "    </tr>\n",
       "    <tr>\n",
       "      <th>855</th>\n",
       "      <td>165</td>\n",
       "    </tr>\n",
       "  </tbody>\n",
       "</table>\n",
       "</div>"
      ],
      "text/plain": [
       "         NutrDesc\n",
       "Nutr_No          \n",
       "859           168\n",
       "858          1069\n",
       "857           114\n",
       "856           568\n",
       "855           165"
      ]
     },
     "execution_count": 37,
     "metadata": {},
     "output_type": "execute_result"
    }
   ],
   "source": [
    "df_nut_data_def[['Nutr_No','NutrDesc']].groupby(by='Nutr_No').count().sort_index( ascending=False).head()"
   ]
  },
  {
   "cell_type": "code",
   "execution_count": 38,
   "metadata": {},
   "outputs": [],
   "source": [
    "# Merge the two dataframes - DATSRCLN  and DATA_SRC on DataSrc ID\n",
    "\n",
    "df_SRC_SRCLN = pd.merge(how ='left',\n",
    "                        left = dfs['DATA_SRC'],\n",
    "                        right = dfs['DATSRCLN'],\n",
    "                        on = 'DataSrc_ID')\n"
   ]
  },
  {
   "cell_type": "code",
   "execution_count": 39,
   "metadata": {},
   "outputs": [
    {
     "data": {
      "text/plain": [
       "(228457, 11)"
      ]
     },
     "execution_count": 39,
     "metadata": {},
     "output_type": "execute_result"
    }
   ],
   "source": [
    "df_SRC_SRCLN.shape"
   ]
  },
  {
   "cell_type": "code",
   "execution_count": 40,
   "metadata": {
    "scrolled": true
   },
   "outputs": [
    {
     "data": {
      "text/html": [
       "<div>\n",
       "<style scoped>\n",
       "    .dataframe tbody tr th:only-of-type {\n",
       "        vertical-align: middle;\n",
       "    }\n",
       "\n",
       "    .dataframe tbody tr th {\n",
       "        vertical-align: top;\n",
       "    }\n",
       "\n",
       "    .dataframe thead th {\n",
       "        text-align: right;\n",
       "    }\n",
       "</style>\n",
       "<table border=\"1\" class=\"dataframe\">\n",
       "  <thead>\n",
       "    <tr style=\"text-align: right;\">\n",
       "      <th></th>\n",
       "      <th>DataSrc_ID</th>\n",
       "      <th>Authors</th>\n",
       "      <th>Title</th>\n",
       "      <th>Year</th>\n",
       "      <th>Journal</th>\n",
       "      <th>Vol_City</th>\n",
       "      <th>Issue_State</th>\n",
       "      <th>Start_Page</th>\n",
       "      <th>End_Page</th>\n",
       "      <th>NDB_No</th>\n",
       "      <th>Nutr_No</th>\n",
       "    </tr>\n",
       "  </thead>\n",
       "  <tbody>\n",
       "    <tr>\n",
       "      <th>0</th>\n",
       "      <td>D2028</td>\n",
       "      <td>A. Sanchez-Marroquin, A. Feria-Morales, S. May...</td>\n",
       "      <td>Processing, nutritional quality and sensory ev...</td>\n",
       "      <td>1987</td>\n",
       "      <td>Journal of Food Science</td>\n",
       "      <td>52</td>\n",
       "      <td>5</td>\n",
       "      <td>NaN</td>\n",
       "      <td>NaN</td>\n",
       "      <td>20017</td>\n",
       "      <td>203</td>\n",
       "    </tr>\n",
       "    <tr>\n",
       "      <th>1</th>\n",
       "      <td>D2028</td>\n",
       "      <td>A. Sanchez-Marroquin, A. Feria-Morales, S. May...</td>\n",
       "      <td>Processing, nutritional quality and sensory ev...</td>\n",
       "      <td>1987</td>\n",
       "      <td>Journal of Food Science</td>\n",
       "      <td>52</td>\n",
       "      <td>5</td>\n",
       "      <td>NaN</td>\n",
       "      <td>NaN</td>\n",
       "      <td>20017</td>\n",
       "      <td>204</td>\n",
       "    </tr>\n",
       "    <tr>\n",
       "      <th>2</th>\n",
       "      <td>D2028</td>\n",
       "      <td>A. Sanchez-Marroquin, A. Feria-Morales, S. May...</td>\n",
       "      <td>Processing, nutritional quality and sensory ev...</td>\n",
       "      <td>1987</td>\n",
       "      <td>Journal of Food Science</td>\n",
       "      <td>52</td>\n",
       "      <td>5</td>\n",
       "      <td>NaN</td>\n",
       "      <td>NaN</td>\n",
       "      <td>20017</td>\n",
       "      <td>207</td>\n",
       "    </tr>\n",
       "  </tbody>\n",
       "</table>\n",
       "</div>"
      ],
      "text/plain": [
       "  DataSrc_ID                                            Authors                                              Title  Year                  Journal Vol_City Issue_State Start_Page End_Page NDB_No Nutr_No\n",
       "0      D2028  A. Sanchez-Marroquin, A. Feria-Morales, S. May...  Processing, nutritional quality and sensory ev...  1987  Journal of Food Science       52           5        NaN      NaN  20017     203\n",
       "1      D2028  A. Sanchez-Marroquin, A. Feria-Morales, S. May...  Processing, nutritional quality and sensory ev...  1987  Journal of Food Science       52           5        NaN      NaN  20017     204\n",
       "2      D2028  A. Sanchez-Marroquin, A. Feria-Morales, S. May...  Processing, nutritional quality and sensory ev...  1987  Journal of Food Science       52           5        NaN      NaN  20017     207"
      ]
     },
     "execution_count": 40,
     "metadata": {},
     "output_type": "execute_result"
    }
   ],
   "source": [
    "df_SRC_SRCLN.head(3)"
   ]
  },
  {
   "cell_type": "code",
   "execution_count": 41,
   "metadata": {},
   "outputs": [],
   "source": [
    "# Merge the two dataframes - LANGUAL  and LANGDESC on Factor_Code\n",
    "df_LANGUAL_DESC = pd.merge(how ='left',\n",
    "                           left = dfs['LANGUAL'],\n",
    "                           right = dfs['LANGDESC'],\n",
    "                           on = 'Factor_Code')\n"
   ]
  },
  {
   "cell_type": "code",
   "execution_count": 42,
   "metadata": {
    "scrolled": true
   },
   "outputs": [
    {
     "data": {
      "text/plain": [
       "(37910, 3)"
      ]
     },
     "execution_count": 42,
     "metadata": {},
     "output_type": "execute_result"
    }
   ],
   "source": [
    "df_LANGUAL_DESC.shape"
   ]
  },
  {
   "cell_type": "code",
   "execution_count": 43,
   "metadata": {
    "scrolled": true
   },
   "outputs": [
    {
     "data": {
      "text/html": [
       "<div>\n",
       "<style scoped>\n",
       "    .dataframe tbody tr th:only-of-type {\n",
       "        vertical-align: middle;\n",
       "    }\n",
       "\n",
       "    .dataframe tbody tr th {\n",
       "        vertical-align: top;\n",
       "    }\n",
       "\n",
       "    .dataframe thead th {\n",
       "        text-align: right;\n",
       "    }\n",
       "</style>\n",
       "<table border=\"1\" class=\"dataframe\">\n",
       "  <thead>\n",
       "    <tr style=\"text-align: right;\">\n",
       "      <th></th>\n",
       "      <th>NDB_No</th>\n",
       "      <th>Factor_Code</th>\n",
       "      <th>Description</th>\n",
       "    </tr>\n",
       "  </thead>\n",
       "  <tbody>\n",
       "    <tr>\n",
       "      <th>0</th>\n",
       "      <td>02001</td>\n",
       "      <td>A0113</td>\n",
       "      <td>SPICE OR HERB (US CFR)</td>\n",
       "    </tr>\n",
       "    <tr>\n",
       "      <th>1</th>\n",
       "      <td>02001</td>\n",
       "      <td>A1272</td>\n",
       "      <td>0200 SPICES AND HERBS (USDA SR)</td>\n",
       "    </tr>\n",
       "    <tr>\n",
       "      <th>2</th>\n",
       "      <td>02001</td>\n",
       "      <td>B1356</td>\n",
       "      <td>ALLSPICE</td>\n",
       "    </tr>\n",
       "  </tbody>\n",
       "</table>\n",
       "</div>"
      ],
      "text/plain": [
       "  NDB_No Factor_Code                      Description\n",
       "0  02001       A0113           SPICE OR HERB (US CFR)\n",
       "1  02001       A1272  0200 SPICES AND HERBS (USDA SR)\n",
       "2  02001       B1356                         ALLSPICE"
      ]
     },
     "execution_count": 43,
     "metadata": {},
     "output_type": "execute_result"
    }
   ],
   "source": [
    "df_LANGUAL_DESC.head(3)"
   ]
  },
  {
   "cell_type": "code",
   "execution_count": 44,
   "metadata": {},
   "outputs": [
    {
     "data": {
      "text/plain": [
       "05092    25\n",
       "05101    25\n",
       "05067    24\n",
       "05058    24\n",
       "05030    24\n",
       "Name: NDB_No, dtype: int64"
      ]
     },
     "execution_count": 44,
     "metadata": {},
     "output_type": "execute_result"
    }
   ],
   "source": [
    "df_LANGUAL_DESC['NDB_No'].value_counts().head()"
   ]
  },
  {
   "cell_type": "code",
   "execution_count": 45,
   "metadata": {},
   "outputs": [
    {
     "data": {
      "text/html": [
       "<div>\n",
       "<style scoped>\n",
       "    .dataframe tbody tr th:only-of-type {\n",
       "        vertical-align: middle;\n",
       "    }\n",
       "\n",
       "    .dataframe tbody tr th {\n",
       "        vertical-align: top;\n",
       "    }\n",
       "\n",
       "    .dataframe thead th {\n",
       "        text-align: right;\n",
       "    }\n",
       "</style>\n",
       "<table border=\"1\" class=\"dataframe\">\n",
       "  <thead>\n",
       "    <tr style=\"text-align: right;\">\n",
       "      <th></th>\n",
       "      <th>NDB_No</th>\n",
       "      <th>FdGrp_Cd</th>\n",
       "      <th>Long_Desc</th>\n",
       "      <th>Shrt_Desc</th>\n",
       "      <th>ComName</th>\n",
       "      <th>ManufacName</th>\n",
       "      <th>Survey</th>\n",
       "      <th>Ref_desc</th>\n",
       "      <th>Refuse</th>\n",
       "      <th>SciName</th>\n",
       "      <th>N_Factor</th>\n",
       "      <th>Pro_Factor</th>\n",
       "      <th>Fat_Factor</th>\n",
       "      <th>CHO_Factor</th>\n",
       "      <th>FdGrp_Desc</th>\n",
       "    </tr>\n",
       "  </thead>\n",
       "  <tbody>\n",
       "    <tr>\n",
       "      <th>263</th>\n",
       "      <td>02001</td>\n",
       "      <td>0200</td>\n",
       "      <td>Spices, allspice, ground</td>\n",
       "      <td>ALLSPICE,GROUND</td>\n",
       "      <td>NaN</td>\n",
       "      <td>NaN</td>\n",
       "      <td>NaN</td>\n",
       "      <td>NaN</td>\n",
       "      <td>0.0</td>\n",
       "      <td>Pimenta dioica</td>\n",
       "      <td>6.25</td>\n",
       "      <td>3.36</td>\n",
       "      <td>8.37</td>\n",
       "      <td>2.35</td>\n",
       "      <td>Spices and Herbs</td>\n",
       "    </tr>\n",
       "  </tbody>\n",
       "</table>\n",
       "</div>"
      ],
      "text/plain": [
       "    NDB_No FdGrp_Cd                 Long_Desc        Shrt_Desc ComName ManufacName Survey Ref_desc  Refuse         SciName  N_Factor  Pro_Factor  Fat_Factor  CHO_Factor        FdGrp_Desc\n",
       "263  02001     0200  Spices, allspice, ground  ALLSPICE,GROUND     NaN         NaN    NaN      NaN     0.0  Pimenta dioica      6.25        3.36        8.37        2.35  Spices and Herbs"
      ]
     },
     "execution_count": 45,
     "metadata": {},
     "output_type": "execute_result"
    }
   ],
   "source": [
    "# Sample a record with NDB_No '02001'\n",
    "df_food_fdg[df_food_fdg['NDB_No']=='02001']"
   ]
  },
  {
   "cell_type": "code",
   "execution_count": 46,
   "metadata": {
    "scrolled": true
   },
   "outputs": [
    {
     "data": {
      "text/html": [
       "<div>\n",
       "<style scoped>\n",
       "    .dataframe tbody tr th:only-of-type {\n",
       "        vertical-align: middle;\n",
       "    }\n",
       "\n",
       "    .dataframe tbody tr th {\n",
       "        vertical-align: top;\n",
       "    }\n",
       "\n",
       "    .dataframe thead th {\n",
       "        text-align: right;\n",
       "    }\n",
       "</style>\n",
       "<table border=\"1\" class=\"dataframe\">\n",
       "  <thead>\n",
       "    <tr style=\"text-align: right;\">\n",
       "      <th></th>\n",
       "      <th>NDB_No</th>\n",
       "      <th>Factor_Code</th>\n",
       "      <th>Description</th>\n",
       "    </tr>\n",
       "  </thead>\n",
       "  <tbody>\n",
       "    <tr>\n",
       "      <th>0</th>\n",
       "      <td>02001</td>\n",
       "      <td>A0113</td>\n",
       "      <td>SPICE OR HERB (US CFR)</td>\n",
       "    </tr>\n",
       "    <tr>\n",
       "      <th>1</th>\n",
       "      <td>02001</td>\n",
       "      <td>A1272</td>\n",
       "      <td>0200 SPICES AND HERBS (USDA SR)</td>\n",
       "    </tr>\n",
       "    <tr>\n",
       "      <th>2</th>\n",
       "      <td>02001</td>\n",
       "      <td>B1356</td>\n",
       "      <td>ALLSPICE</td>\n",
       "    </tr>\n",
       "  </tbody>\n",
       "</table>\n",
       "</div>"
      ],
      "text/plain": [
       "  NDB_No Factor_Code                      Description\n",
       "0  02001       A0113           SPICE OR HERB (US CFR)\n",
       "1  02001       A1272  0200 SPICES AND HERBS (USDA SR)\n",
       "2  02001       B1356                         ALLSPICE"
      ]
     },
     "execution_count": 46,
     "metadata": {},
     "output_type": "execute_result"
    }
   ],
   "source": [
    "df_LANGUAL_DESC[df_LANGUAL_DESC['NDB_No']=='02001'].head(3)"
   ]
  },
  {
   "cell_type": "code",
   "execution_count": 47,
   "metadata": {
    "scrolled": true
   },
   "outputs": [
    {
     "data": {
      "text/plain": [
       "(7793, 15)"
      ]
     },
     "execution_count": 47,
     "metadata": {},
     "output_type": "execute_result"
    }
   ],
   "source": [
    "df_food_fdg.shape"
   ]
  },
  {
   "cell_type": "code",
   "execution_count": 48,
   "metadata": {},
   "outputs": [
    {
     "data": {
      "text/plain": [
       "Index(['NDB_No', 'FdGrp_Cd', 'Long_Desc', 'Shrt_Desc', 'ComName', 'ManufacName', 'Survey', 'Ref_desc', 'Refuse', 'SciName', 'N_Factor', 'Pro_Factor', 'Fat_Factor', 'CHO_Factor', 'FdGrp_Desc'], dtype='object')"
      ]
     },
     "execution_count": 48,
     "metadata": {},
     "output_type": "execute_result"
    }
   ],
   "source": [
    "df_food_fdg.columns"
   ]
  },
  {
   "cell_type": "code",
   "execution_count": 49,
   "metadata": {
    "scrolled": false
   },
   "outputs": [
    {
     "data": {
      "text/html": [
       "<div>\n",
       "<style scoped>\n",
       "    .dataframe tbody tr th:only-of-type {\n",
       "        vertical-align: middle;\n",
       "    }\n",
       "\n",
       "    .dataframe tbody tr th {\n",
       "        vertical-align: top;\n",
       "    }\n",
       "\n",
       "    .dataframe thead th {\n",
       "        text-align: right;\n",
       "    }\n",
       "</style>\n",
       "<table border=\"1\" class=\"dataframe\">\n",
       "  <thead>\n",
       "    <tr style=\"text-align: right;\">\n",
       "      <th></th>\n",
       "      <th>NDB_No</th>\n",
       "      <th>FdGrp_Cd</th>\n",
       "      <th>Long_Desc</th>\n",
       "      <th>Shrt_Desc</th>\n",
       "      <th>ComName</th>\n",
       "      <th>ManufacName</th>\n",
       "      <th>Survey</th>\n",
       "      <th>Ref_desc</th>\n",
       "      <th>Refuse</th>\n",
       "      <th>SciName</th>\n",
       "      <th>N_Factor</th>\n",
       "      <th>Pro_Factor</th>\n",
       "      <th>Fat_Factor</th>\n",
       "      <th>CHO_Factor</th>\n",
       "    </tr>\n",
       "  </thead>\n",
       "  <tbody>\n",
       "    <tr>\n",
       "      <th>0</th>\n",
       "      <td>01001</td>\n",
       "      <td>0100</td>\n",
       "      <td>Butter, salted</td>\n",
       "      <td>BUTTER,WITH SALT</td>\n",
       "      <td>NaN</td>\n",
       "      <td>NaN</td>\n",
       "      <td>Y</td>\n",
       "      <td>NaN</td>\n",
       "      <td>0.0</td>\n",
       "      <td>NaN</td>\n",
       "      <td>6.38</td>\n",
       "      <td>4.27</td>\n",
       "      <td>8.79</td>\n",
       "      <td>3.87</td>\n",
       "    </tr>\n",
       "    <tr>\n",
       "      <th>1</th>\n",
       "      <td>01002</td>\n",
       "      <td>0100</td>\n",
       "      <td>Butter, whipped, with salt</td>\n",
       "      <td>BUTTER,WHIPPED,W/ SALT</td>\n",
       "      <td>NaN</td>\n",
       "      <td>NaN</td>\n",
       "      <td>Y</td>\n",
       "      <td>NaN</td>\n",
       "      <td>0.0</td>\n",
       "      <td>NaN</td>\n",
       "      <td>6.38</td>\n",
       "      <td>NaN</td>\n",
       "      <td>NaN</td>\n",
       "      <td>NaN</td>\n",
       "    </tr>\n",
       "    <tr>\n",
       "      <th>2</th>\n",
       "      <td>01003</td>\n",
       "      <td>0100</td>\n",
       "      <td>Butter oil, anhydrous</td>\n",
       "      <td>BUTTER OIL,ANHYDROUS</td>\n",
       "      <td>NaN</td>\n",
       "      <td>NaN</td>\n",
       "      <td>Y</td>\n",
       "      <td>NaN</td>\n",
       "      <td>0.0</td>\n",
       "      <td>NaN</td>\n",
       "      <td>6.38</td>\n",
       "      <td>4.27</td>\n",
       "      <td>8.79</td>\n",
       "      <td>3.87</td>\n",
       "    </tr>\n",
       "  </tbody>\n",
       "</table>\n",
       "</div>"
      ],
      "text/plain": [
       "  NDB_No FdGrp_Cd                   Long_Desc               Shrt_Desc ComName ManufacName Survey Ref_desc  Refuse SciName  N_Factor  Pro_Factor  Fat_Factor  CHO_Factor\n",
       "0  01001     0100              Butter, salted        BUTTER,WITH SALT     NaN         NaN      Y      NaN     0.0     NaN      6.38        4.27        8.79        3.87\n",
       "1  01002     0100  Butter, whipped, with salt  BUTTER,WHIPPED,W/ SALT     NaN         NaN      Y      NaN     0.0     NaN      6.38         NaN         NaN         NaN\n",
       "2  01003     0100       Butter oil, anhydrous    BUTTER OIL,ANHYDROUS     NaN         NaN      Y      NaN     0.0     NaN      6.38        4.27        8.79        3.87"
      ]
     },
     "execution_count": 49,
     "metadata": {},
     "output_type": "execute_result"
    }
   ],
   "source": [
    "#  View all the food_des data with food group code as '0100'\n",
    "dfs['FOOD_DES'][dfs['FOOD_DES']['FdGrp_Cd']=='0100'].head(3)"
   ]
  },
  {
   "cell_type": "code",
   "execution_count": 50,
   "metadata": {
    "scrolled": true
   },
   "outputs": [
    {
     "data": {
      "text/plain": [
       "Beef Products                          954\n",
       "Vegetables and Vegetable Products      814\n",
       "Baked Products                         517\n",
       "Lamb, Veal, and Game Products          464\n",
       "Poultry Products                       383\n",
       "Beverages                              366\n",
       "Sweets                                 358\n",
       "Fruits and Fruit Juices                355\n",
       "Baby Foods                             345\n",
       "Pork Products                          336\n",
       "Fast Foods                             312\n",
       "Dairy and Egg Products                 291\n",
       "Legumes and Legume Products            290\n",
       "Finfish and Shellfish Products         264\n",
       "Soups, Sauces, and Gravies             254\n",
       "Fats and Oils                          216\n",
       "Breakfast Cereals                      195\n",
       "Cereal Grains and Pasta                181\n",
       "Snacks                                 176\n",
       "Sausages and Luncheon Meats            167\n",
       "American Indian/Alaska Native Foods    165\n",
       "Nut and Seed Products                  137\n",
       "Restaurant Foods                       109\n",
       "Meals, Entrees, and Side Dishes         81\n",
       "Spices and Herbs                        63\n",
       "Name: FdGrp_Desc, dtype: int64"
      ]
     },
     "execution_count": 50,
     "metadata": {},
     "output_type": "execute_result"
    }
   ],
   "source": [
    "# different food groups \n",
    "df_food_fdg['FdGrp_Desc'].value_counts()"
   ]
  },
  {
   "cell_type": "code",
   "execution_count": 51,
   "metadata": {
    "scrolled": true
   },
   "outputs": [
    {
     "data": {
      "text/html": [
       "<div>\n",
       "<style scoped>\n",
       "    .dataframe tbody tr th:only-of-type {\n",
       "        vertical-align: middle;\n",
       "    }\n",
       "\n",
       "    .dataframe tbody tr th {\n",
       "        vertical-align: top;\n",
       "    }\n",
       "\n",
       "    .dataframe thead th {\n",
       "        text-align: right;\n",
       "    }\n",
       "</style>\n",
       "<table border=\"1\" class=\"dataframe\">\n",
       "  <thead>\n",
       "    <tr style=\"text-align: right;\">\n",
       "      <th></th>\n",
       "      <th>NDB_No</th>\n",
       "      <th>FdGrp_Cd</th>\n",
       "      <th>Long_Desc</th>\n",
       "      <th>Shrt_Desc</th>\n",
       "      <th>ComName</th>\n",
       "      <th>ManufacName</th>\n",
       "      <th>Survey</th>\n",
       "      <th>Ref_desc</th>\n",
       "      <th>Refuse</th>\n",
       "      <th>SciName</th>\n",
       "      <th>N_Factor</th>\n",
       "      <th>Pro_Factor</th>\n",
       "      <th>Fat_Factor</th>\n",
       "      <th>CHO_Factor</th>\n",
       "      <th>FdGrp_Desc</th>\n",
       "    </tr>\n",
       "  </thead>\n",
       "  <tbody>\n",
       "    <tr>\n",
       "      <th>7462</th>\n",
       "      <td>36000</td>\n",
       "      <td>3600</td>\n",
       "      <td>APPLEBEE'S, 9 oz house sirloin steak</td>\n",
       "      <td>APPLEBEE'S,9 OZ HOUSE SIRLOIN STEAK</td>\n",
       "      <td>family style, applebees</td>\n",
       "      <td>Applebee's</td>\n",
       "      <td>NaN</td>\n",
       "      <td>NaN</td>\n",
       "      <td>0.0</td>\n",
       "      <td>NaN</td>\n",
       "      <td>NaN</td>\n",
       "      <td>NaN</td>\n",
       "      <td>NaN</td>\n",
       "      <td>NaN</td>\n",
       "      <td>Restaurant Foods</td>\n",
       "    </tr>\n",
       "    <tr>\n",
       "      <th>7463</th>\n",
       "      <td>36001</td>\n",
       "      <td>3600</td>\n",
       "      <td>APPLEBEE'S, Double Crunch Shrimp</td>\n",
       "      <td>APPLEBEE'S,DOUBLE CRUNCH SHRIMP</td>\n",
       "      <td>family style, applebees</td>\n",
       "      <td>Applebee's</td>\n",
       "      <td>NaN</td>\n",
       "      <td>NaN</td>\n",
       "      <td>0.0</td>\n",
       "      <td>NaN</td>\n",
       "      <td>NaN</td>\n",
       "      <td>NaN</td>\n",
       "      <td>NaN</td>\n",
       "      <td>NaN</td>\n",
       "      <td>Restaurant Foods</td>\n",
       "    </tr>\n",
       "    <tr>\n",
       "      <th>7464</th>\n",
       "      <td>36002</td>\n",
       "      <td>3600</td>\n",
       "      <td>APPLEBEE'S, french fries</td>\n",
       "      <td>APPLEBEE'S,FRENCH FR</td>\n",
       "      <td>family style, applebees</td>\n",
       "      <td>Applebee's</td>\n",
       "      <td>NaN</td>\n",
       "      <td>NaN</td>\n",
       "      <td>0.0</td>\n",
       "      <td>NaN</td>\n",
       "      <td>NaN</td>\n",
       "      <td>NaN</td>\n",
       "      <td>NaN</td>\n",
       "      <td>NaN</td>\n",
       "      <td>Restaurant Foods</td>\n",
       "    </tr>\n",
       "  </tbody>\n",
       "</table>\n",
       "</div>"
      ],
      "text/plain": [
       "     NDB_No FdGrp_Cd                             Long_Desc                            Shrt_Desc                  ComName ManufacName Survey Ref_desc  Refuse SciName  N_Factor  Pro_Factor  Fat_Factor  CHO_Factor        FdGrp_Desc\n",
       "7462  36000     3600  APPLEBEE'S, 9 oz house sirloin steak  APPLEBEE'S,9 OZ HOUSE SIRLOIN STEAK  family style, applebees  Applebee's    NaN      NaN     0.0     NaN       NaN         NaN         NaN         NaN  Restaurant Foods\n",
       "7463  36001     3600      APPLEBEE'S, Double Crunch Shrimp      APPLEBEE'S,DOUBLE CRUNCH SHRIMP  family style, applebees  Applebee's    NaN      NaN     0.0     NaN       NaN         NaN         NaN         NaN  Restaurant Foods\n",
       "7464  36002     3600              APPLEBEE'S, french fries                 APPLEBEE'S,FRENCH FR  family style, applebees  Applebee's    NaN      NaN     0.0     NaN       NaN         NaN         NaN         NaN  Restaurant Foods"
      ]
     },
     "execution_count": 51,
     "metadata": {},
     "output_type": "execute_result"
    }
   ],
   "source": [
    "# all foods that belong to restaraunt foods\n",
    "df_food_fdg[df_food_fdg['FdGrp_Desc']=='Restaurant Foods'].head(3)"
   ]
  },
  {
   "cell_type": "code",
   "execution_count": 52,
   "metadata": {},
   "outputs": [
    {
     "data": {
      "text/plain": [
       "Denny's                     12\n",
       "Applebee's                  11\n",
       "Cracker Barrel              10\n",
       "T.G.I Friday's               7\n",
       "Carrabba's Italian Grill     5\n",
       "Darden Group                 5\n",
       "Name: ManufacName, dtype: int64"
      ]
     },
     "execution_count": 52,
     "metadata": {},
     "output_type": "execute_result"
    }
   ],
   "source": [
    "df_food_fdg[(df_food_fdg['FdGrp_Desc']=='Restaurant Foods')]['ManufacName'].value_counts()"
   ]
  },
  {
   "cell_type": "code",
   "execution_count": 53,
   "metadata": {
    "scrolled": false
   },
   "outputs": [
    {
     "data": {
      "text/html": [
       "<div>\n",
       "<style scoped>\n",
       "    .dataframe tbody tr th:only-of-type {\n",
       "        vertical-align: middle;\n",
       "    }\n",
       "\n",
       "    .dataframe tbody tr th {\n",
       "        vertical-align: top;\n",
       "    }\n",
       "\n",
       "    .dataframe thead th {\n",
       "        text-align: right;\n",
       "    }\n",
       "</style>\n",
       "<table border=\"1\" class=\"dataframe\">\n",
       "  <thead>\n",
       "    <tr style=\"text-align: right;\">\n",
       "      <th></th>\n",
       "      <th>NDB_No</th>\n",
       "      <th>FdGrp_Cd</th>\n",
       "      <th>Long_Desc</th>\n",
       "      <th>Shrt_Desc</th>\n",
       "      <th>ComName</th>\n",
       "      <th>ManufacName</th>\n",
       "      <th>Survey</th>\n",
       "      <th>Ref_desc</th>\n",
       "      <th>Refuse</th>\n",
       "      <th>SciName</th>\n",
       "      <th>N_Factor</th>\n",
       "      <th>Pro_Factor</th>\n",
       "      <th>Fat_Factor</th>\n",
       "      <th>CHO_Factor</th>\n",
       "      <th>FdGrp_Desc</th>\n",
       "    </tr>\n",
       "  </thead>\n",
       "  <tbody>\n",
       "    <tr>\n",
       "      <th>7464</th>\n",
       "      <td>36002</td>\n",
       "      <td>3600</td>\n",
       "      <td>APPLEBEE'S, french fries</td>\n",
       "      <td>APPLEBEE'S,FRENCH FR</td>\n",
       "      <td>family style, applebees</td>\n",
       "      <td>Applebee's</td>\n",
       "      <td>NaN</td>\n",
       "      <td>NaN</td>\n",
       "      <td>0.0</td>\n",
       "      <td>NaN</td>\n",
       "      <td>NaN</td>\n",
       "      <td>NaN</td>\n",
       "      <td>NaN</td>\n",
       "      <td>NaN</td>\n",
       "      <td>Restaurant Foods</td>\n",
       "    </tr>\n",
       "  </tbody>\n",
       "</table>\n",
       "</div>"
      ],
      "text/plain": [
       "     NDB_No FdGrp_Cd                 Long_Desc             Shrt_Desc                  ComName ManufacName Survey Ref_desc  Refuse SciName  N_Factor  Pro_Factor  Fat_Factor  CHO_Factor        FdGrp_Desc\n",
       "7464  36002     3600  APPLEBEE'S, french fries  APPLEBEE'S,FRENCH FR  family style, applebees  Applebee's    NaN      NaN     0.0     NaN       NaN         NaN         NaN         NaN  Restaurant Foods"
      ]
     },
     "execution_count": 53,
     "metadata": {},
     "output_type": "execute_result"
    }
   ],
   "source": [
    "# all foods that belong to restaraunt foods - APPLEBEE'S,FRENCH FR\n",
    "df_food_fdg[((df_food_fdg['FdGrp_Desc']=='Restaurant Foods') & (df_food_fdg['NDB_No']=='36002'))].head()\n"
   ]
  },
  {
   "cell_type": "code",
   "execution_count": 54,
   "metadata": {},
   "outputs": [
    {
     "data": {
      "text/html": [
       "<div>\n",
       "<style scoped>\n",
       "    .dataframe tbody tr th:only-of-type {\n",
       "        vertical-align: middle;\n",
       "    }\n",
       "\n",
       "    .dataframe tbody tr th {\n",
       "        vertical-align: top;\n",
       "    }\n",
       "\n",
       "    .dataframe thead th {\n",
       "        text-align: right;\n",
       "    }\n",
       "</style>\n",
       "<table border=\"1\" class=\"dataframe\">\n",
       "  <thead>\n",
       "    <tr style=\"text-align: right;\">\n",
       "      <th></th>\n",
       "      <th>NDB_No</th>\n",
       "      <th>Nutr_No</th>\n",
       "      <th>Nutr_Val</th>\n",
       "      <th>Num_Data_Pts</th>\n",
       "      <th>Std_Error</th>\n",
       "      <th>Src_Cd</th>\n",
       "      <th>Deriv_Cd</th>\n",
       "      <th>Ref_NDB_No</th>\n",
       "      <th>Add_Nutr_Mark</th>\n",
       "      <th>Num_Studies</th>\n",
       "      <th>Min</th>\n",
       "      <th>Max</th>\n",
       "      <th>DF</th>\n",
       "      <th>Low_EB</th>\n",
       "      <th>Up_EB</th>\n",
       "      <th>Stat_cmt</th>\n",
       "      <th>AddMod_Date</th>\n",
       "      <th>Units</th>\n",
       "      <th>Tagname</th>\n",
       "      <th>NutrDesc</th>\n",
       "      <th>Num_Dec</th>\n",
       "      <th>SR_Order</th>\n",
       "    </tr>\n",
       "  </thead>\n",
       "  <tbody>\n",
       "    <tr>\n",
       "      <th>144752</th>\n",
       "      <td>36002</td>\n",
       "      <td>208</td>\n",
       "      <td>290.0</td>\n",
       "      <td>0</td>\n",
       "      <td>NaN</td>\n",
       "      <td>4</td>\n",
       "      <td>NC</td>\n",
       "      <td>NaN</td>\n",
       "      <td>NaN</td>\n",
       "      <td>NaN</td>\n",
       "      <td>NaN</td>\n",
       "      <td>NaN</td>\n",
       "      <td>NaN</td>\n",
       "      <td>NaN</td>\n",
       "      <td>NaN</td>\n",
       "      <td>NaN</td>\n",
       "      <td>03/01/2013</td>\n",
       "      <td>kcal</td>\n",
       "      <td>ENERC_KCAL</td>\n",
       "      <td>Energy</td>\n",
       "      <td>0</td>\n",
       "      <td>300</td>\n",
       "    </tr>\n",
       "    <tr>\n",
       "      <th>144753</th>\n",
       "      <td>36002</td>\n",
       "      <td>268</td>\n",
       "      <td>1213.0</td>\n",
       "      <td>0</td>\n",
       "      <td>NaN</td>\n",
       "      <td>4</td>\n",
       "      <td>NC</td>\n",
       "      <td>NaN</td>\n",
       "      <td>NaN</td>\n",
       "      <td>NaN</td>\n",
       "      <td>NaN</td>\n",
       "      <td>NaN</td>\n",
       "      <td>NaN</td>\n",
       "      <td>NaN</td>\n",
       "      <td>NaN</td>\n",
       "      <td>NaN</td>\n",
       "      <td>03/01/2013</td>\n",
       "      <td>kJ</td>\n",
       "      <td>ENERC_KJ</td>\n",
       "      <td>Energy</td>\n",
       "      <td>0</td>\n",
       "      <td>400</td>\n",
       "    </tr>\n",
       "    <tr>\n",
       "      <th>144754</th>\n",
       "      <td>36002</td>\n",
       "      <td>301</td>\n",
       "      <td>19.0</td>\n",
       "      <td>6</td>\n",
       "      <td>1.0</td>\n",
       "      <td>1</td>\n",
       "      <td>A</td>\n",
       "      <td>NaN</td>\n",
       "      <td>NaN</td>\n",
       "      <td>1.0</td>\n",
       "      <td>16.0</td>\n",
       "      <td>23.0</td>\n",
       "      <td>5.0</td>\n",
       "      <td>16.0</td>\n",
       "      <td>21.0</td>\n",
       "      <td>2, 3</td>\n",
       "      <td>03/01/2013</td>\n",
       "      <td>mg</td>\n",
       "      <td>CA</td>\n",
       "      <td>Calcium, Ca</td>\n",
       "      <td>0</td>\n",
       "      <td>5300</td>\n",
       "    </tr>\n",
       "  </tbody>\n",
       "</table>\n",
       "</div>"
      ],
      "text/plain": [
       "       NDB_No Nutr_No  Nutr_Val  Num_Data_Pts  Std_Error  Src_Cd Deriv_Cd Ref_NDB_No Add_Nutr_Mark  Num_Studies   Min   Max   DF  Low_EB  Up_EB Stat_cmt AddMod_Date Units     Tagname     NutrDesc Num_Dec  SR_Order\n",
       "144752  36002     208     290.0             0        NaN       4       NC        NaN           NaN          NaN   NaN   NaN  NaN     NaN    NaN      NaN  03/01/2013  kcal  ENERC_KCAL       Energy       0       300\n",
       "144753  36002     268    1213.0             0        NaN       4       NC        NaN           NaN          NaN   NaN   NaN  NaN     NaN    NaN      NaN  03/01/2013    kJ    ENERC_KJ       Energy       0       400\n",
       "144754  36002     301      19.0             6        1.0       1        A        NaN           NaN          1.0  16.0  23.0  5.0    16.0   21.0     2, 3  03/01/2013    mg          CA  Calcium, Ca       0      5300"
      ]
     },
     "execution_count": 54,
     "metadata": {},
     "output_type": "execute_result"
    }
   ],
   "source": [
    "# find the nutrition values in APPLEBEE'S,FRENCH FR\n",
    "\n",
    "df_nut_data_def[df_nut_data_def['NDB_No']=='36002'].head(3)"
   ]
  },
  {
   "cell_type": "code",
   "execution_count": 55,
   "metadata": {},
   "outputs": [
    {
     "data": {
      "text/html": [
       "<div>\n",
       "<style scoped>\n",
       "    .dataframe tbody tr th:only-of-type {\n",
       "        vertical-align: middle;\n",
       "    }\n",
       "\n",
       "    .dataframe tbody tr th {\n",
       "        vertical-align: top;\n",
       "    }\n",
       "\n",
       "    .dataframe thead th {\n",
       "        text-align: right;\n",
       "    }\n",
       "</style>\n",
       "<table border=\"1\" class=\"dataframe\">\n",
       "  <thead>\n",
       "    <tr style=\"text-align: right;\">\n",
       "      <th></th>\n",
       "      <th>NDB_No</th>\n",
       "      <th>Seq</th>\n",
       "      <th>Amount</th>\n",
       "      <th>Msre_Desc</th>\n",
       "      <th>Gm_Wgt</th>\n",
       "      <th>Num_Data_Pts</th>\n",
       "      <th>Std_Dev</th>\n",
       "    </tr>\n",
       "  </thead>\n",
       "  <tbody>\n",
       "    <tr>\n",
       "      <th>13866</th>\n",
       "      <td>36002</td>\n",
       "      <td>1</td>\n",
       "      <td>1.0</td>\n",
       "      <td>serving</td>\n",
       "      <td>164.0</td>\n",
       "      <td>12.0</td>\n",
       "      <td>32.16</td>\n",
       "    </tr>\n",
       "  </tbody>\n",
       "</table>\n",
       "</div>"
      ],
      "text/plain": [
       "      NDB_No Seq  Amount Msre_Desc  Gm_Wgt  Num_Data_Pts  Std_Dev\n",
       "13866  36002   1     1.0   serving   164.0          12.0    32.16"
      ]
     },
     "execution_count": 55,
     "metadata": {},
     "output_type": "execute_result"
    }
   ],
   "source": [
    "dfs['WEIGHT'][dfs['WEIGHT']['NDB_No']=='36002']"
   ]
  },
  {
   "cell_type": "code",
   "execution_count": 56,
   "metadata": {},
   "outputs": [],
   "source": [
    "fast_foods_df=df_food_fdg[df_food_fdg['FdGrp_Desc']=='Fast Foods']"
   ]
  },
  {
   "cell_type": "code",
   "execution_count": 57,
   "metadata": {},
   "outputs": [
    {
     "data": {
      "text/plain": [
       "119640    235.0\n",
       "Name: Nutr_Val, dtype: float64"
      ]
     },
     "execution_count": 57,
     "metadata": {},
     "output_type": "execute_result"
    }
   ],
   "source": [
    "# Get Cholesterol for Fast foods, biscuit, with egg and bacon\n",
    "df_nut_data_def[(df_nut_data_def['NDB_No']=='21003') &(df_nut_data_def['NutrDesc']=='Cholesterol')]['Nutr_Val']"
   ]
  },
  {
   "cell_type": "code",
   "execution_count": 58,
   "metadata": {},
   "outputs": [],
   "source": [
    "# load food and nutrient description data frames to csv\n",
    "df_food_fdg.to_csv('./prepared_data/food_descr.csv')\n",
    "df_nut_data_def.to_csv('./prepared_data/nutr_descr.csv')"
   ]
  },
  {
   "cell_type": "code",
   "execution_count": 59,
   "metadata": {},
   "outputs": [],
   "source": [
    "# fast_foods_df.to_csv('./prepared_data/fast_foods_test.csv')"
   ]
  },
  {
   "cell_type": "code",
   "execution_count": 60,
   "metadata": {},
   "outputs": [
    {
     "data": {
      "text/html": [
       "<div>\n",
       "<style scoped>\n",
       "    .dataframe tbody tr th:only-of-type {\n",
       "        vertical-align: middle;\n",
       "    }\n",
       "\n",
       "    .dataframe tbody tr th {\n",
       "        vertical-align: top;\n",
       "    }\n",
       "\n",
       "    .dataframe thead th {\n",
       "        text-align: right;\n",
       "    }\n",
       "</style>\n",
       "<table border=\"1\" class=\"dataframe\">\n",
       "  <thead>\n",
       "    <tr style=\"text-align: right;\">\n",
       "      <th></th>\n",
       "      <th>NDB_No</th>\n",
       "      <th>Long_Desc</th>\n",
       "      <th>Shrt_Desc</th>\n",
       "      <th>ComName</th>\n",
       "      <th>ManufacName</th>\n",
       "    </tr>\n",
       "  </thead>\n",
       "  <tbody>\n",
       "    <tr>\n",
       "      <th>7464</th>\n",
       "      <td>36002</td>\n",
       "      <td>APPLEBEE'S, french fries</td>\n",
       "      <td>APPLEBEE'S,FRENCH FR</td>\n",
       "      <td>family style, applebees</td>\n",
       "      <td>Applebee's</td>\n",
       "    </tr>\n",
       "    <tr>\n",
       "      <th>7469</th>\n",
       "      <td>36007</td>\n",
       "      <td>T.G.I. FRIDAY'S, french fries</td>\n",
       "      <td>T.G.I. FRIDAY'S,FRENCH FR</td>\n",
       "      <td>family style, Fridays, TGI Friday's</td>\n",
       "      <td>T.G.I Friday's</td>\n",
       "    </tr>\n",
       "    <tr>\n",
       "      <th>7476</th>\n",
       "      <td>36014</td>\n",
       "      <td>Restaurant, family style, french fries</td>\n",
       "      <td>RESTAURANT,FAMILY STYLE,FRENCH FR</td>\n",
       "      <td>family style</td>\n",
       "      <td>NaN</td>\n",
       "    </tr>\n",
       "    <tr>\n",
       "      <th>7547</th>\n",
       "      <td>36607</td>\n",
       "      <td>CRACKER BARREL, steak fries</td>\n",
       "      <td>CRACKER BARREL,STEAK FRIES</td>\n",
       "      <td>french, family style</td>\n",
       "      <td>Cracker Barrel</td>\n",
       "    </tr>\n",
       "    <tr>\n",
       "      <th>7550</th>\n",
       "      <td>36610</td>\n",
       "      <td>DENNY'S, french fries</td>\n",
       "      <td>DENNY'S,FRENCH FR</td>\n",
       "      <td>family style</td>\n",
       "      <td>Denny's</td>\n",
       "    </tr>\n",
       "  </tbody>\n",
       "</table>\n",
       "</div>"
      ],
      "text/plain": [
       "     NDB_No                               Long_Desc                          Shrt_Desc                              ComName     ManufacName\n",
       "7464  36002                APPLEBEE'S, french fries               APPLEBEE'S,FRENCH FR              family style, applebees      Applebee's\n",
       "7469  36007           T.G.I. FRIDAY'S, french fries          T.G.I. FRIDAY'S,FRENCH FR  family style, Fridays, TGI Friday's  T.G.I Friday's\n",
       "7476  36014  Restaurant, family style, french fries  RESTAURANT,FAMILY STYLE,FRENCH FR                         family style             NaN\n",
       "7547  36607             CRACKER BARREL, steak fries         CRACKER BARREL,STEAK FRIES                 french, family style  Cracker Barrel\n",
       "7550  36610                   DENNY'S, french fries                  DENNY'S,FRENCH FR                         family style         Denny's"
      ]
     },
     "execution_count": 60,
     "metadata": {},
     "output_type": "execute_result"
    }
   ],
   "source": [
    "# example where food group is 'Restaurant Foods' and food item is 'fries'.\n",
    "                                                                         \n",
    "french_fries_df=df_food_fdg[(df_food_fdg['FdGrp_Desc']=='Restaurant Foods')& (df_food_fdg['Long_Desc'].str.find('fries')>0)][['NDB_No',\n",
    "                                                                                                                             'Long_Desc',\n",
    "                                                                                                                             'Shrt_Desc',\n",
    "                                                                                                                             'ComName',\n",
    "                                                                                                                             'ManufacName',\n",
    "                                                                                                                            ]]  \n",
    "french_fries_df\n",
    "                                                                         \n",
    "                                                                         \n",
    "                                                                         "
   ]
  }
 ],
 "metadata": {
  "kernelspec": {
   "display_name": "Python 3",
   "language": "python",
   "name": "python3"
  },
  "language_info": {
   "codemirror_mode": {
    "name": "ipython",
    "version": 3
   },
   "file_extension": ".py",
   "mimetype": "text/x-python",
   "name": "python",
   "nbconvert_exporter": "python",
   "pygments_lexer": "ipython3",
   "version": "3.6.8"
  }
 },
 "nbformat": 4,
 "nbformat_minor": 2
}
